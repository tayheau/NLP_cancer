{
  "cells": [
    {
      "cell_type": "markdown",
      "metadata": {
        "id": "0f7bB84--97i"
      },
      "source": [
        "# Projet NLP\n"
      ]
    },
    {
      "cell_type": "markdown",
      "metadata": {
        "id": "Dxt1oip2s_JV"
      },
      "source": [
        "Hopsore Thé"
      ]
    },
    {
      "cell_type": "markdown",
      "metadata": {
        "id": "Inw5GqSbHDI9"
      },
      "source": [
        "# Connection à Google Drive\n"
      ]
    },
    {
      "cell_type": "code",
      "execution_count": null,
      "metadata": {
        "colab": {
          "base_uri": "https://localhost:8080/"
        },
        "id": "ifGuHTC9HU8v",
        "outputId": "847944fb-eb0e-48ab-ced5-5df8bb086ed7"
      },
      "outputs": [
        {
          "name": "stdout",
          "output_type": "stream",
          "text": [
            "Mounted at /content/gdrive\n"
          ]
        }
      ],
      "source": [
        "from google.colab import drive\n",
        "drive.mount(\"/content/gdrive\")"
      ]
    },
    {
      "cell_type": "code",
      "execution_count": null,
      "metadata": {
        "colab": {
          "background_save": true,
          "base_uri": "https://localhost:8080/"
        },
        "id": "kxy4C8XDk1cP",
        "outputId": "e9684c99-bd84-4aa8-c959-715d87a2cb12"
      },
      "outputs": [
        {
          "name": "stderr",
          "output_type": "stream",
          "text": [
            "ERROR:root:Internal Python error in the inspect module.\n",
            "Below is the traceback from this internal error.\n",
            "\n",
            "ERROR:root:Internal Python error in the inspect module.\n",
            "Below is the traceback from this internal error.\n",
            "\n",
            "ERROR:root:Internal Python error in the inspect module.\n",
            "Below is the traceback from this internal error.\n",
            "\n"
          ]
        },
        {
          "name": "stdout",
          "output_type": "stream",
          "text": [
            "Traceback (most recent call last):\n",
            "  File \"/usr/local/lib/python3.10/dist-packages/IPython/core/interactiveshell.py\", line 3553, in run_code\n",
            "    exec(code_obj, self.user_global_ns, self.user_ns)\n",
            "  File \"<ipython-input-12-e4e9e53e3b30>\", line 1, in <cell line: 1>\n",
            "    get_ipython().run_line_magic('cd', '/content/gdrive/MyDrive/Projet NLP 2023-2024 BROSSAY HOPSORE')\n",
            "  File \"/usr/local/lib/python3.10/dist-packages/IPython/core/interactiveshell.py\", line 2418, in run_line_magic\n",
            "    result = fn(*args, **kwargs)\n",
            "  File \"<decorator-gen-85>\", line 2, in cd\n",
            "  File \"/usr/local/lib/python3.10/dist-packages/IPython/core/magic.py\", line 187, in <lambda>\n",
            "    call = lambda f, *a, **k: f(*a, **k)\n",
            "  File \"/usr/local/lib/python3.10/dist-packages/IPython/core/magics/osm.py\", line 342, in cd\n",
            "    oldcwd = os.getcwd()\n",
            "OSError: [Errno 107] Transport endpoint is not connected\n",
            "\n",
            "During handling of the above exception, another exception occurred:\n",
            "\n",
            "Traceback (most recent call last):\n",
            "  File \"/usr/local/lib/python3.10/dist-packages/IPython/core/interactiveshell.py\", line 2099, in showtraceback\n",
            "    stb = value._render_traceback_()\n",
            "AttributeError: 'OSError' object has no attribute '_render_traceback_'\n",
            "\n",
            "During handling of the above exception, another exception occurred:\n",
            "\n",
            "Traceback (most recent call last):\n",
            "  File \"/usr/local/lib/python3.10/dist-packages/IPython/core/ultratb.py\", line 1101, in get_records\n",
            "    return _fixed_getinnerframes(etb, number_of_lines_of_context, tb_offset)\n",
            "  File \"/usr/local/lib/python3.10/dist-packages/IPython/core/ultratb.py\", line 248, in wrapped\n",
            "    return f(*args, **kwargs)\n",
            "  File \"/usr/local/lib/python3.10/dist-packages/IPython/core/ultratb.py\", line 281, in _fixed_getinnerframes\n",
            "    records = fix_frame_records_filenames(inspect.getinnerframes(etb, context))\n",
            "  File \"/usr/lib/python3.10/inspect.py\", line 1662, in getinnerframes\n",
            "    frameinfo = (tb.tb_frame,) + getframeinfo(tb, context)\n",
            "  File \"/usr/lib/python3.10/inspect.py\", line 1620, in getframeinfo\n",
            "    filename = getsourcefile(frame) or getfile(frame)\n",
            "  File \"/usr/lib/python3.10/inspect.py\", line 829, in getsourcefile\n",
            "    module = getmodule(object, filename)\n",
            "  File \"/usr/lib/python3.10/inspect.py\", line 861, in getmodule\n",
            "    file = getabsfile(object, _filename)\n",
            "  File \"/usr/lib/python3.10/inspect.py\", line 845, in getabsfile\n",
            "    return os.path.normcase(os.path.abspath(_filename))\n",
            "  File \"/usr/lib/python3.10/posixpath.py\", line 384, in abspath\n",
            "    cwd = os.getcwd()\n",
            "OSError: [Errno 107] Transport endpoint is not connected\n",
            "Traceback (most recent call last):\n",
            "  File \"/usr/local/lib/python3.10/dist-packages/IPython/core/interactiveshell.py\", line 3553, in run_code\n",
            "    exec(code_obj, self.user_global_ns, self.user_ns)\n",
            "  File \"<ipython-input-12-e4e9e53e3b30>\", line 1, in <cell line: 1>\n",
            "    get_ipython().run_line_magic('cd', '/content/gdrive/MyDrive/Projet NLP 2023-2024 BROSSAY HOPSORE')\n",
            "  File \"/usr/local/lib/python3.10/dist-packages/IPython/core/interactiveshell.py\", line 2418, in run_line_magic\n",
            "    result = fn(*args, **kwargs)\n",
            "  File \"<decorator-gen-85>\", line 2, in cd\n",
            "  File \"/usr/local/lib/python3.10/dist-packages/IPython/core/magic.py\", line 187, in <lambda>\n",
            "    call = lambda f, *a, **k: f(*a, **k)\n",
            "  File \"/usr/local/lib/python3.10/dist-packages/IPython/core/magics/osm.py\", line 342, in cd\n",
            "    oldcwd = os.getcwd()\n",
            "OSError: [Errno 107] Transport endpoint is not connected\n",
            "\n",
            "During handling of the above exception, another exception occurred:\n",
            "\n",
            "Traceback (most recent call last):\n",
            "  File \"/usr/local/lib/python3.10/dist-packages/IPython/core/interactiveshell.py\", line 2099, in showtraceback\n",
            "    stb = value._render_traceback_()\n",
            "AttributeError: 'OSError' object has no attribute '_render_traceback_'\n",
            "\n",
            "During handling of the above exception, another exception occurred:\n",
            "\n",
            "Traceback (most recent call last):\n",
            "  File \"/usr/local/lib/python3.10/dist-packages/IPython/core/interactiveshell.py\", line 3473, in run_ast_nodes\n",
            "    if (await self.run_code(code, result,  async_=asy)):\n",
            "  File \"/usr/local/lib/python3.10/dist-packages/IPython/core/interactiveshell.py\", line 3575, in run_code\n",
            "    self.showtraceback(running_compiled_code=True)\n",
            "  File \"/usr/local/lib/python3.10/dist-packages/IPython/core/interactiveshell.py\", line 2101, in showtraceback\n",
            "    stb = self.InteractiveTB.structured_traceback(etype,\n",
            "  File \"/usr/local/lib/python3.10/dist-packages/IPython/core/ultratb.py\", line 1367, in structured_traceback\n",
            "    return FormattedTB.structured_traceback(\n",
            "  File \"/usr/local/lib/python3.10/dist-packages/IPython/core/ultratb.py\", line 1267, in structured_traceback\n",
            "    return VerboseTB.structured_traceback(\n",
            "  File \"/usr/local/lib/python3.10/dist-packages/IPython/core/ultratb.py\", line 1124, in structured_traceback\n",
            "    formatted_exception = self.format_exception_as_a_whole(etype, evalue, etb, number_of_lines_of_context,\n",
            "  File \"/usr/local/lib/python3.10/dist-packages/IPython/core/ultratb.py\", line 1082, in format_exception_as_a_whole\n",
            "    last_unique, recursion_repeat = find_recursion(orig_etype, evalue, records)\n",
            "  File \"/usr/local/lib/python3.10/dist-packages/IPython/core/ultratb.py\", line 382, in find_recursion\n",
            "    return len(records), 0\n",
            "TypeError: object of type 'NoneType' has no len()\n",
            "\n",
            "During handling of the above exception, another exception occurred:\n",
            "\n",
            "Traceback (most recent call last):\n",
            "  File \"/usr/local/lib/python3.10/dist-packages/IPython/core/interactiveshell.py\", line 2099, in showtraceback\n",
            "    stb = value._render_traceback_()\n",
            "AttributeError: 'TypeError' object has no attribute '_render_traceback_'\n",
            "\n",
            "During handling of the above exception, another exception occurred:\n",
            "\n",
            "Traceback (most recent call last):\n",
            "  File \"/usr/local/lib/python3.10/dist-packages/IPython/core/ultratb.py\", line 1101, in get_records\n",
            "    return _fixed_getinnerframes(etb, number_of_lines_of_context, tb_offset)\n",
            "  File \"/usr/local/lib/python3.10/dist-packages/IPython/core/ultratb.py\", line 248, in wrapped\n",
            "    return f(*args, **kwargs)\n",
            "  File \"/usr/local/lib/python3.10/dist-packages/IPython/core/ultratb.py\", line 281, in _fixed_getinnerframes\n",
            "    records = fix_frame_records_filenames(inspect.getinnerframes(etb, context))\n",
            "  File \"/usr/lib/python3.10/inspect.py\", line 1662, in getinnerframes\n",
            "    frameinfo = (tb.tb_frame,) + getframeinfo(tb, context)\n",
            "  File \"/usr/lib/python3.10/inspect.py\", line 1620, in getframeinfo\n",
            "    filename = getsourcefile(frame) or getfile(frame)\n",
            "  File \"/usr/lib/python3.10/inspect.py\", line 829, in getsourcefile\n",
            "    module = getmodule(object, filename)\n",
            "  File \"/usr/lib/python3.10/inspect.py\", line 861, in getmodule\n",
            "    file = getabsfile(object, _filename)\n",
            "  File \"/usr/lib/python3.10/inspect.py\", line 845, in getabsfile\n",
            "    return os.path.normcase(os.path.abspath(_filename))\n",
            "  File \"/usr/lib/python3.10/posixpath.py\", line 384, in abspath\n",
            "    cwd = os.getcwd()\n",
            "OSError: [Errno 107] Transport endpoint is not connected\n",
            "Traceback (most recent call last):\n",
            "  File \"/usr/local/lib/python3.10/dist-packages/IPython/core/interactiveshell.py\", line 3553, in run_code\n",
            "    exec(code_obj, self.user_global_ns, self.user_ns)\n",
            "  File \"<ipython-input-12-e4e9e53e3b30>\", line 1, in <cell line: 1>\n",
            "    get_ipython().run_line_magic('cd', '/content/gdrive/MyDrive/Projet NLP 2023-2024 BROSSAY HOPSORE')\n",
            "  File \"/usr/local/lib/python3.10/dist-packages/IPython/core/interactiveshell.py\", line 2418, in run_line_magic\n",
            "    result = fn(*args, **kwargs)\n",
            "  File \"<decorator-gen-85>\", line 2, in cd\n",
            "  File \"/usr/local/lib/python3.10/dist-packages/IPython/core/magic.py\", line 187, in <lambda>\n",
            "    call = lambda f, *a, **k: f(*a, **k)\n",
            "  File \"/usr/local/lib/python3.10/dist-packages/IPython/core/magics/osm.py\", line 342, in cd\n",
            "    oldcwd = os.getcwd()\n",
            "OSError: [Errno 107] Transport endpoint is not connected\n",
            "\n",
            "During handling of the above exception, another exception occurred:\n",
            "\n",
            "Traceback (most recent call last):\n",
            "  File \"/usr/local/lib/python3.10/dist-packages/IPython/core/interactiveshell.py\", line 2099, in showtraceback\n",
            "    stb = value._render_traceback_()\n",
            "AttributeError: 'OSError' object has no attribute '_render_traceback_'\n",
            "\n",
            "During handling of the above exception, another exception occurred:\n",
            "\n",
            "Traceback (most recent call last):\n",
            "  File \"/usr/local/lib/python3.10/dist-packages/IPython/core/interactiveshell.py\", line 3473, in run_ast_nodes\n",
            "    if (await self.run_code(code, result,  async_=asy)):\n",
            "  File \"/usr/local/lib/python3.10/dist-packages/IPython/core/interactiveshell.py\", line 3575, in run_code\n",
            "    self.showtraceback(running_compiled_code=True)\n",
            "  File \"/usr/local/lib/python3.10/dist-packages/IPython/core/interactiveshell.py\", line 2101, in showtraceback\n",
            "    stb = self.InteractiveTB.structured_traceback(etype,\n",
            "  File \"/usr/local/lib/python3.10/dist-packages/IPython/core/ultratb.py\", line 1367, in structured_traceback\n",
            "    return FormattedTB.structured_traceback(\n",
            "  File \"/usr/local/lib/python3.10/dist-packages/IPython/core/ultratb.py\", line 1267, in structured_traceback\n",
            "    return VerboseTB.structured_traceback(\n",
            "  File \"/usr/local/lib/python3.10/dist-packages/IPython/core/ultratb.py\", line 1124, in structured_traceback\n",
            "    formatted_exception = self.format_exception_as_a_whole(etype, evalue, etb, number_of_lines_of_context,\n",
            "  File \"/usr/local/lib/python3.10/dist-packages/IPython/core/ultratb.py\", line 1082, in format_exception_as_a_whole\n",
            "    last_unique, recursion_repeat = find_recursion(orig_etype, evalue, records)\n",
            "  File \"/usr/local/lib/python3.10/dist-packages/IPython/core/ultratb.py\", line 382, in find_recursion\n",
            "    return len(records), 0\n",
            "TypeError: object of type 'NoneType' has no len()\n",
            "\n",
            "During handling of the above exception, another exception occurred:\n",
            "\n",
            "Traceback (most recent call last):\n",
            "  File \"/usr/local/lib/python3.10/dist-packages/IPython/core/interactiveshell.py\", line 2099, in showtraceback\n",
            "    stb = value._render_traceback_()\n",
            "AttributeError: 'TypeError' object has no attribute '_render_traceback_'\n",
            "\n",
            "During handling of the above exception, another exception occurred:\n",
            "\n",
            "Traceback (most recent call last):\n",
            "  File \"/usr/local/lib/python3.10/dist-packages/IPython/core/interactiveshell.py\", line 3030, in _run_cell\n",
            "    return runner(coro)\n",
            "  File \"/usr/local/lib/python3.10/dist-packages/IPython/core/async_helpers.py\", line 78, in _pseudo_sync_runner\n",
            "    coro.send(None)\n",
            "  File \"/usr/local/lib/python3.10/dist-packages/IPython/core/interactiveshell.py\", line 3257, in run_cell_async\n",
            "    has_raised = await self.run_ast_nodes(code_ast.body, cell_name,\n",
            "  File \"/usr/local/lib/python3.10/dist-packages/IPython/core/interactiveshell.py\", line 3492, in run_ast_nodes\n",
            "    self.showtraceback()\n",
            "  File \"/usr/local/lib/python3.10/dist-packages/IPython/core/interactiveshell.py\", line 2101, in showtraceback\n",
            "    stb = self.InteractiveTB.structured_traceback(etype,\n",
            "  File \"/usr/local/lib/python3.10/dist-packages/IPython/core/ultratb.py\", line 1367, in structured_traceback\n",
            "    return FormattedTB.structured_traceback(\n",
            "  File \"/usr/local/lib/python3.10/dist-packages/IPython/core/ultratb.py\", line 1267, in structured_traceback\n",
            "    return VerboseTB.structured_traceback(\n",
            "  File \"/usr/local/lib/python3.10/dist-packages/IPython/core/ultratb.py\", line 1142, in structured_traceback\n",
            "    formatted_exceptions += self.format_exception_as_a_whole(etype, evalue, etb, lines_of_context,\n",
            "  File \"/usr/local/lib/python3.10/dist-packages/IPython/core/ultratb.py\", line 1082, in format_exception_as_a_whole\n",
            "    last_unique, recursion_repeat = find_recursion(orig_etype, evalue, records)\n",
            "  File \"/usr/local/lib/python3.10/dist-packages/IPython/core/ultratb.py\", line 382, in find_recursion\n",
            "    return len(records), 0\n",
            "TypeError: object of type 'NoneType' has no len()\n",
            "\n",
            "During handling of the above exception, another exception occurred:\n",
            "\n",
            "Traceback (most recent call last):\n",
            "  File \"/usr/local/lib/python3.10/dist-packages/IPython/core/interactiveshell.py\", line 2099, in showtraceback\n",
            "    stb = value._render_traceback_()\n",
            "AttributeError: 'TypeError' object has no attribute '_render_traceback_'\n",
            "\n",
            "During handling of the above exception, another exception occurred:\n",
            "\n",
            "Traceback (most recent call last):\n",
            "  File \"/usr/local/lib/python3.10/dist-packages/IPython/core/ultratb.py\", line 1101, in get_records\n",
            "    return _fixed_getinnerframes(etb, number_of_lines_of_context, tb_offset)\n",
            "  File \"/usr/local/lib/python3.10/dist-packages/IPython/core/ultratb.py\", line 248, in wrapped\n",
            "    return f(*args, **kwargs)\n",
            "  File \"/usr/local/lib/python3.10/dist-packages/IPython/core/ultratb.py\", line 281, in _fixed_getinnerframes\n",
            "    records = fix_frame_records_filenames(inspect.getinnerframes(etb, context))\n",
            "  File \"/usr/lib/python3.10/inspect.py\", line 1662, in getinnerframes\n",
            "    frameinfo = (tb.tb_frame,) + getframeinfo(tb, context)\n",
            "  File \"/usr/lib/python3.10/inspect.py\", line 1620, in getframeinfo\n",
            "    filename = getsourcefile(frame) or getfile(frame)\n",
            "  File \"/usr/lib/python3.10/inspect.py\", line 829, in getsourcefile\n",
            "    module = getmodule(object, filename)\n",
            "  File \"/usr/lib/python3.10/inspect.py\", line 861, in getmodule\n",
            "    file = getabsfile(object, _filename)\n",
            "  File \"/usr/lib/python3.10/inspect.py\", line 845, in getabsfile\n",
            "    return os.path.normcase(os.path.abspath(_filename))\n",
            "  File \"/usr/lib/python3.10/posixpath.py\", line 384, in abspath\n",
            "    cwd = os.getcwd()\n",
            "OSError: [Errno 107] Transport endpoint is not connected\n"
          ]
        }
      ],
      "source": [
        "cd /content/gdrive/MyDrive/Projet_NLP"
      ]
    },
    {
      "cell_type": "code",
      "execution_count": null,
      "metadata": {
        "colab": {
          "base_uri": "https://localhost:8080/"
        },
        "id": "qKwdykyUtnzy",
        "outputId": "f3df83c7-7bce-45d8-c710-43429ea195c6"
      },
      "outputs": [
        {
          "name": "stdout",
          "output_type": "stream",
          "text": [
            "\u001b[0m\u001b[01;34mgdrive\u001b[0m/  \u001b[01;34msample_data\u001b[0m/\n"
          ]
        }
      ],
      "source": [
        "ls"
      ]
    },
    {
      "cell_type": "markdown",
      "metadata": {
        "id": "qsxqSHN4HegD"
      },
      "source": [
        "# Importation des différentes librairies"
      ]
    },
    {
      "cell_type": "code",
      "execution_count": null,
      "metadata": {
        "colab": {
          "base_uri": "https://localhost:8080/"
        },
        "id": "QwzeCOcaHj4a",
        "outputId": "4fa4e2cb-43b8-42bb-c54e-f8dab921bed6"
      },
      "outputs": [
        {
          "name": "stderr",
          "output_type": "stream",
          "text": [
            "[nltk_data] Downloading package stopwords to /root/nltk_data...\n",
            "[nltk_data]   Unzipping corpora/stopwords.zip.\n",
            "[nltk_data] Downloading package punkt to /root/nltk_data...\n",
            "[nltk_data]   Unzipping tokenizers/punkt.zip.\n"
          ]
        }
      ],
      "source": [
        "import numpy as np\n",
        "import pandas as pd\n",
        "import matplotlib.pyplot as plt\n",
        "import seaborn as sns\n",
        "\n",
        "from sklearn.preprocessing import LabelEncoder\n",
        "import nltk\n",
        "from nltk import word_tokenize\n",
        "from nltk.corpus import stopwords\n",
        "\n",
        "nltk.download('stopwords')\n",
        "nltk.download('punkt')\n",
        "\n",
        "\n",
        "from gensim.models import Word2Vec,doc2vec\n",
        "from gensim.models.doc2vec import Doc2Vec, TaggedDocument\n",
        "from nltk.stem import WordNetLemmatizer\n",
        "\n",
        "from sklearn.model_selection import train_test_split\n",
        "from sklearn.svm import SVC\n",
        "from sklearn.metrics import classification_report\n",
        "from sklearn.feature_extraction.text import TfidfVectorizer\n",
        "\n",
        "\n",
        "from sklearn.metrics import accuracy_score,classification_report,confusion_matrix\n",
        "from sklearn.model_selection import train_test_split,GridSearchCV,RandomizedSearchCV, StratifiedKFold\n"
      ]
    },
    {
      "cell_type": "code",
      "execution_count": null,
      "metadata": {
        "id": "XckmfO27LWnz"
      },
      "outputs": [],
      "source": [
        "df = pd.read_csv('./data.csv', encoding=\"latin-1\")"
      ]
    },
    {
      "cell_type": "code",
      "execution_count": null,
      "metadata": {
        "colab": {
          "base_uri": "https://localhost:8080/",
          "height": 206
        },
        "id": "1-v6mRtFt4wy",
        "outputId": "2ed28996-9574-4c90-c285-d03a26cc9ece"
      },
      "outputs": [
        {
          "data": {
            "application/vnd.google.colaboratory.intrinsic+json": {
              "summary": "{\n  \"name\": \"df\",\n  \"rows\": 7570,\n  \"fields\": [\n    {\n      \"column\": \"Unnamed: 0\",\n      \"properties\": {\n        \"dtype\": \"number\",\n        \"std\": 2185,\n        \"min\": 0,\n        \"max\": 7569,\n        \"num_unique_values\": 7570,\n        \"samples\": [\n          1302,\n          4462,\n          6122\n        ],\n        \"semantic_type\": \"\",\n        \"description\": \"\"\n      }\n    },\n    {\n      \"column\": \"0\",\n      \"properties\": {\n        \"dtype\": \"category\",\n        \"num_unique_values\": 3,\n        \"samples\": [\n          \"Thyroid_Cancer\",\n          \"Colon_Cancer\",\n          \"Lung_Cancer\"\n        ],\n        \"semantic_type\": \"\",\n        \"description\": \"\"\n      }\n    },\n    {\n      \"column\": \"a\",\n      \"properties\": {\n        \"dtype\": \"category\",\n        \"num_unique_values\": 996,\n        \"samples\": [\n          \"\\\"The normalized results are expressed as the relative mRNA level. The comparison between pre-/post-treatment groups was performed by modified paired T-test using the limma package. Fluorescence in situ hybridization (FISH) Samples were tested for ALK rearrangements by FISH (Vysis ALK Break Apart FISH Probe Kit) as previously described30. Gene expression analysis RNA from cell lines and controls was prepared labeled and hybridized to Illumina HT-12 array. For analysis the sample probe profile data in the GeneSpring export format was transformed to log-2 scale and normalized using quantile method by applying beadarray package31 in BioConductor 2.11. Four duplicated samples were averaged to reduce the total sample size to 9 across three groups. The comparison between drug sensitive and drug resistant groups was performed using limma package. The significantly changed probes were identified by moderated t statistics. The p-values from moderated t-tests were adjusted by Benjamini and Hochberg's method to control false discovery rate. The microarray data reported in this  have been deposited in NCBI's Gene Expression Omnibus (GEO) database www.ncbi.nlm.nih.gov/geo (Accession no. GSE49508 URL: http://www.ncbi.nlm.nih.gov/geo/query/acc.cgi?acc=GSE49508). Xenograft studies Nude mice (nu/nu; Harlan Laboratories) were used for in vivo studies and were cared for in accordance with guidelines approved by the Memorial Sloan-Kettering Cancer Center Institutional Animal Care and Use Committee and Research Animal Resource Center. 8 week old female mice were injected subcutaneously with 5 million H3122 cells together with matrigel. Once tumors reached an average volume of 100 mm3 mice were randomized to the different treatment cohorts. For the experiment in Supplementary Fig. 1f mice were randomized to receive either crizotinib alone MAb391 alone crizotinib + MAb391 or vehicle control (n = 6 for vehicle alone crizotinib and crizotinib + MAb391. n = 5 for MAb391 only). Crizotinib was administered at 50 mg kg?1 p.o. daily \\u0097 5 days. MAb391 was administered at 1 mg i.p. every 3 days. For the experiment in Fig. 6b mice were randomized to receive crizotinib alone (50 mg kg?1 p.o. daily \\u0097 5 days) LDK-378 alone (50 mg kg?1 p.o. daily \\u0097 5 days) or vehicle control (n = 5 for Crizotinib and LDK-378 n = 4 for vehicle control). Mice were observed daily throughout the treatment period for signs of morbidity/mortality. Tumors were measured twice weekly using calipers and volume was calculated using the formula: length \\u0097 width2 \\u0097 0.52. Body weight was also assessed twice weekly. P values were determined with the Wilcoxon Rank Sum test. EML4-ALK (E13;A20) transgenic mice Genetically engineered mice harboring the EML4-ALK E13;A20 fusion variant has been previously reported13. Three month old mice from both genders were used in the described studies. All animal treatment studies were reviewed and approved by the IACUC at the Dana-Farber Cancer Institute. Tumor Biopsy Samples All patient tumor biopsy samples were obtained under Institutional Review Board (IRB) approved protocols (Vanderbilt University IRB# 050644 Memorial Sloan-Kettering Cancer Center IRB #10-136 University Hospital of Cologne IRB #06037 Peter MacCallum Cancer Center IRB#08/71). Written informed consent was obtained from all patients. All samples were deidentified and protected health information was reviewed according to the Health Insurance Portability and Accountability Act (HIPAA) guidelines. For the index patient's tumor clinical genotyping was performed using the SNaPshot platform as previously described32. Immunohistochemistry Tumors were pathologically identified and classified according to WHO guidelines. Briefly 3 ?m thick sections of FFPE tumors were deparaffinized. For pIGF-1R staining antigen retrieval was performed by boiling the section in citrate buffer at pH 6 for 25 minutes. For IRS-1 staining no pretreatment was necessary. Primary antibodies were used as follows: pIGF-1R (pY1161) (Ab39398 1:100 pH 6 Abcam Inc.) IRS-1 (Ab40777 1:100 Abcam Inc.). Corresponding secondary antibodies and detection kits were used (Enhancer: post antibody blocking for Bright Vision plus; Immuno Logic c-DPVB blocking and Polymer: Poly-HRP-GAM/R/R IgG; Immuno Logic c-DPVB999HRP BrightVision+ cat #DPVB999HRP ImmunoLogic Duiven The Netherlands www.immunologic.nl) and stained on an automated stainer (LabVision Autostainer 480S Thermo Scientific). Staining intensities were individually evaluated by 3 independent observers. Supplementary Material 1 Acknowledgements This work was supported by the VICC Cancer Center Core grant (P30-CA68485) a career development award from the Vanderbilt Specialized Program of Research Excellence in Lung Cancer grant (CA90949) NCI grants R01CA121210 and P01CA129243 and by the Joyce Family Foundation. CML was additionally supported by an NIH K12 training grant (K12 CA9060625) an ASCO Young Investigator Award a Uniting Against Lung Cancer grant and a Damon Runyon Clinical Investigator Award. CML was the Carol and Jim O'Hare chief fellow from 7/1/2011 through 6/30/2012. LCH and RB were supported by the Deutsche Forschungsgemeinschaft (SFB 832 Tumormicromilieu) and the German Cancer Aid (CIO K\\u00b6ln Bonn).\\\"\",\n          \"\\\"confidence. If you choose not to take part in this survey it will not affect the care you receive from the NHS in any way. Please do not write your name and address anywhere on the questionnaire as this information is not required. No information you give in this questionnaire will be shared in a way that allows you to be identified. How to complete the survey and how long it will take. The questionnaire is short and will take 5\\u009310?min to complete. Please try to answer every question. Please return your questionnaire even if you have not answered every question. If English is not your first language or if you if you have difficulty understanding the questions then please ask a relative or carer to help you complete the questionnaire. Questions or help? If you have any questions please contact your local lung clinical nurse specialist team. Please select one answer to each question by placing a in the appropriate box. There is space at the end of the survey for you to write any comments. This work is published under the standard license to publish agreement. After 12 months the work will become freely available and the license terms will switch to a Creative Commons Attribution-NonCommercial-Share Alike 3.0 Unported License. Abdel-Rahman M Stockton D Rachet B Hakulinen T Coleman MP 2009 What if cancer survival in Britain were the same as in Europe: how many deaths are avoidable Br J Cancer 101 (Suppl 2 S115 S124 19956155 Aveling EL Martin G Jimnez Garc\\u00ada S Martin L Herbert G Armstrong N Dixon-Woods M Woolhouse I 2012 Reciprocal peer review for quality improvement: an ethnographic case study of the Improving Lung Cancer Outcomes Project BMJ Qual Saf 21 1034 1041 Beckett P Woolhouse I Stanley R Peake MD 2012 Exploring variations in lung cancer care across the UK-the \\u0098story so far' for the National Lung Cancer Audit Clin Med 12 14 18 22372213 Department of Health2012National Cancer Patients' Experience Survey Programme 2012/13. England. Health And Social Care Information Centre2012National Lung Cancer Audit Report. Institute for Healthcare Improvement2003The Breakthrough Series: IHI's Collaborative Model for Achieving Breakthrough Improvement. Boston. Khakwani A Rich AL Powell HA Tata LJ Stanley RA Baldwin DR Duffy JP Hubbard RB 2013 Lung cancer survival in England: trends in non-small-cell lung cancer survival over the duration of the National Lung Cancer Audit Br J Cancer 109 (8 2058 2065 24052044 Kwon S Florence M Grigas P Horton M Horvath K Johnson M Jurkovich G Klamp W Peterson K Quigley T Raum W Rogers T Thirlby R Farrokhi E Flum D 2012 Creating a learning healthcare system in surgery: Washington State's Surgical Care and Outcomes Assessment Program (SCOAP) at 5 years Surgery 151 146 152 22129638 National Institute for Health and Care Excellence 2011 The Diagnosis And Treatment Of Lung Cancer (Update Of Nice Clinical Guideline 24) Clinical guidelines CG121 London UK Pronovost P Needham D Berenholtz S Sinopoli D Chu H Cosgrove S Sexton B Hyzy R Welsh R Roth G Bander J Kepros J Goeschel C 2006 An intervention to decrease catheter-related bloodstream infections in the ICU N Engl J Med 355 2725 2732 17192537 Roberts CM Stone RA Buckingham RJ Pursey NA Lowe D Potter JM 2012 A randomized trial of peer review: the UK National Chronic Obstructive Pulmonary Disease Resources and Outcomes Project: three-year evaluation J Eval Clin Pract 18 (3 599 605 21332611 Walters S Maringe C Coleman MP Peake MD Butler J Young N Bergstr\\u00b6m S Hanna L Jakobsen E K\\u00b6lbeck K Sundstr\\u00b8m S Engholm G Gavin A Gjerstorff ML Hatcher J Johannesen TB Linklater KM McGahan CE Steward J Tracey E Turner D Richards MA Rachet B ICBP Module 1 Working Group 2013 Lung cancer survival and stage at diagnosis in Australia Canada Denmark Norway Sweden and the UK: a population-based study 2004-2007 Thorax 68 551 564 23399908 Wise J 2010 Health atlas shows large variations in care in England BMJ 341 c6809 c6809  Study timelines.  Consort diagram disposal of eligible trusts including screening randomisation and follow-up.  Run chart showing the waiting times from the multidisciplinary team meeting to the first treatment for 10 consecutive small-cell lung cancer patients following the implementation of the quality improvement plan at one trust in the intervention group.  Mean change in national lung cancer audit metrics from baseline (2009) to 2011. P=0.055 active treatment\\u0094intervention vs controls. Intervention n=31 trusts control n=47 trusts and non-intervention (control and non-participants combined) n=66 trusts. Abbreviations: CNS clinical nurse specialist; MDT multidisciplinary team; SCLC small-cell lung cancer.  Total patient questionnaire scores by the multidisciplinary team in the intervention group at baseline (pre) and at the end of the study (post). A low score indicates better experience. Each symbol represents the mean score for each trust in the intervention group. The maximum possible score for the questionnaire is 11.  Quality improvement plan themes Quality improvement plan theme Number of plans Multidisciplinary team effectiveness 31 Diagnostic pathways 13 Treatment pathways 9 Access to clinical nurse specialists 8 Clinical trial recruitment 4 Patient experience 2  Baseline (2009) national lung cancer audit indicators   Control ( n =47) Intervention ( n =31) Excluded ( n =67) P -value   Mean (%) s.e.m. Mean (%) s.e.m. Mean (%) s.e.m. Control vs intervention vs non-participant control vs intervention Case ascertainment 158.1 38.6 122.0 7.2 107.4 3.6 0.220 0.455 Discussed at the MDT meeting 95.2 0.7 93.7 1.7 90.9 1.9 0.155 0.370 Histological confirmation rate 75.7 1.2 76.4 1.8 78.4 1.6 0.409 0.739 Active treatment 59.5 1.2 55.9 2.2 59.5 1.5 0.305 0.131 Surgery (all cases) 13.4 0.6 13.0 0.8 14.2 0.7 0.469 0.648 SCLC (chemo) 65.1 2.2 66.5 3.9 63.3 2.7 0.746 0.733 Seen by CNS 70.3 3.8 76.6 3.2 58.3 4.2 0.007 0.243 CNS present diagnosis 44.0 3.8 49.4 5.4 38.7 3.8 0.237 0.403 Abbreviations: CNS=clinical nurse specialist; MDT=mulitdisciplinary team; SCLC=small-cell lung cancer. Data are shown as mean and s.e. proportion of patients. BMC Cancer BMC Cancer BMC Cancer 1471-2407 BioMed Central 24386906 3893473 1471-2407-14-3 10.1186/1471-2407-14-3 Study Protocol Study protocol of a randomized controlled trial comparing Mindfulness-Based Stress Reduction with treatment as usual in reducing psychological distress in patients with lung cancer and their partners: the MILON study Schellekens Melanie PJ 1 Melanie.Schellekensradboudumc.nl van den Hurk Desiree GM 2 Desiree.vandenHurkradboudumc.nl Prins Judith B 3 Judith.Prinsradboudumc.nl Molema Johan 2 Johan.Molemaradboudumc.nl Donders A Rogier T 4 Rogier.Dondersradboudumc.nl Woertman Willem H 4 Willem.Woertmanradboudumc.nl van der Drift Miep A 2 Miep.vanderDriftradboudumc.nl Speckens Anne EM 1 Anne.Speckensradboudumc.nl 1Department of Psychiatry Radboud University Nijmegen Medical Centre Nijmegen The Netherlands 2Department of Pulmonary Diseases Radboud University Nijmegen Medical Centre Nijmegen The Netherlands 3Department of Medical Psychology Radboud University Nijmegen Medical Centre Nijmegen The Netherlands 4Department of Epidemiology Biostatistics and Health Technology Assessment Radboud University Nijmegen Medical Centre Nijmegen The Netherlands 2014 3 1 2014 14 3 3 28 6 2013 19 12 2013 Copyright  2014 Schellekens et al.; licensee BioMed Central Ltd. 2014 Schellekens et al.; licensee BioMed Central Ltd. This is an open access  distributed under the terms of the Creative Commons Attribution License (http://creativecommons./licenses/by/2.0) which permits unrestricted use distribution and reproduction in any medium provided the original work is properly cited. Background Lung cancer is the leading cause of cancer death worldwide and characterized by a poor prognosis. It has a major impact on the psychological wellbeing of patients and their partners. Recently it has been shown that Mindfulness-Based Stress Reduction (MBSR) is effective in reducing anxiety and depressive symptoms in cancer patients. The generalization of these results is limited since most participants were female patients with breast cancer. Moreover only one study examined the effectiveness of MBSR in partners of cancer patients. Therefore in the present trial we study the effectiveness of MBSR versus treatment as usual (TAU) in patients with lung cancer and their partners. Methods/Design A parallel group randomized controlled trial is conducted to compare MBSR with TAU. Lung cancer patients who have received or are still under treatment and their partners are recruited. Assessments will take place at baseline post intervention and at three-month follow-up. The primary outcome is psychological distress (i.e. anxiety and depressive symptoms). Secondary outcomes are quality of life (only for patients) caregiver appraisal (only for partners) relationship quality and spirituality. In addition cost-effectiveness ratio (only in patients) and several process variables are assessed. Discussion This trial will provide information about the clinical and cost-effectiveness of MBSR compared to TAU in patients with lung cancer and their partners. Trial registration ClinicalTrials.gov NCT01494883. Mindfulness-based stress reduction Lung cancer patients Partners Psychological distress Randomized controlled trial Background With an estimated 1.4 million deaths per year lung cancer is the leading cause of death by cancer worldwide. Even with the best available treatment five-year survival is merely 16% and about 60 to 70% of patients die within the first year after diagnosis [1]. This poor prognosis is often caused by a late diagnosis as the presentation usually occurs when the lung cancer is advanced. Patients may develop burdensome symptoms like pain dyspnoea fatigue and cough and they may undergo radical treatment including surgery chemo- and radiotherapy. Not surprisingly lung cancer has a major impact on the psychological wellbeing of patients and their family. Akechi and colleagues [2] showed that 19% of patients with advanced lung cancer meets the criteria of psychiatric disorders especially depressive and adjustment disorders. Of patients who had been successfully treated for lung cancer 15% met the criteria for a minor or major depressive disorder [3]. The prevalence rate of depressive and anxiety symptoms among lung cancer patients ranges from 20 to 47% [4-7]. Compared to patients with other cancer diagnoses lung cancer patients report the highest rates of distress (43 to 58%) [89] resulting in a lower quality of life [10]. Family friends and especially partners of patients with lung cancer also have to deal with its psychological impact [11-14]. Partners not only provide emotional and practical support they also have to cope with their own concerns including the uncertainty regarding the course of the illness and the fear of losing their partner [15]. More than 50% of partners of lung cancer patients report negative emotional effects of caregiving [16]. Around 40% of partners of patients with advanced lung cancer report high levels of distress [17]. The relationship between patient and partner can also be affected by the cancer. It has been shown that some partners report a lower quality of their relationship after the diagnosis of lung cancer [18]. Though numerous studies examined the psychological distress of lung cancer patients and their partners [2-22] not much research is done on how to alleviate distress in these groups [23]. In addition the available studies on managing the psychosocial care needs of cancer patients and their families have focused on care at the very end of life (e.g. [24-26]). Recently studies have demonstrated that palliative care initiated early in treatment improves the quality of life and depressive symptoms of lung cancer patients [1027]. This stresses the importance of integrating psychosocial care for lung cancer patients and their partners early in the treatment rather than instigating it once life-prolonging therapies fail. In the past ten years MBSR has become a promising psychosocial intervention for cancer patients. Mindfulness is defined as intentionally paying attention to moment-by-moment experiences in a non-judgmental way [28]. MBSR is an 8-week group-based training consisting of meditation practices such as the bodyscan gentle yoga sitting and walking meditation. By repeatedly bringing attention back to the current experience participants gradually learn to disengage from dysfunctional thoughts and directly experience the emotions and bodily sensations of the present moment. MBSR aims to provide participants with the ability to step back from ruminating about the past or worrying about the future and simply allow experiences to unfold [2829]. A recent meta-analysis [30] of 13 nonrandomized studies and 9 randomized controlled trials (RCT) concluded there is positive evidence for the use of mindfulness-based interventions in reducing psychological distress in cancer patients. Among the RCT\\u0099s a reduction in symptom severity was found for both anxiety and depression corresponding to moderate pooled controlled effect sizes (Hedges\\u0099s g = 0.37 and Hedges\\u0099s g = 0.44 respectively) [30]. Though mindfulness-based interventions seem to be effective the authors note that across studies the majority of participants were women (85%) and diagnosed with breast cancer (77%). Compared to breast cancer patients patients with lung cancer are more often male older and have a poorer prognosis. Furthermore of these 22 studies only one study included the partners of the patients showing that partners also benefit from the MBSR training [31]. This is quite surprising since partners of cancer patients also report high levels of distress [32]. Aims The aim of the Mindfulness for Lung Oncology Nijmegen (MILON) study is to examine the effectiveness of MBSR compared to TAU in reducing psychological distress in patients with lung cancer and their partners. We hypothesize that patients in the MBSR group will report a lower level of psychological distress (i.e. anxiety and depressive symptoms) higher levels of quality of life quality of relationship and spirituality than those in the TAU group. Medical and societal costs will be lower in the MBSR versus TAU group. We expect partners in the MBSR group to report a lower level of psychological distress and higher levels of caregiver appraisal relationship quality and spirituality than their counterparts in the TAU group. With regard to the working mechanisms of the MBSR programme we will examine changes in mindfulness skills self-compassion rumination intrusion avoidance and adherence to MBSR. Methods/Design Study design The design of the \\u0098MILON\\u0099 study is a parallel group randomized controlled trial with an embedded process study. Participants are randomized between MBSR and TAU. The study protocol has been approved by our ethical review board (CMO Arnhem-Nijmegen) and registered under number 2011\\u0093519. Participants and procedure Patients and partners are recruited at the outpatient \\\"\",\n          \"\\\"dramatic spread of Coronavirus Disease  COVID19 has profound impacts on every continent and life Due to humantohuman transmission of COVID19 nuclear medicine staffs also cannot escape the risk of infection from workplaces Everystaff in the nuclear medicine department must prepare for and respond to COVID19 pandemic which tailored to the characteristics of our profession This  provided the guidance prepared by the Korean Society of Nuclear Medicine KSNM incooperation with the Korean Society of Infectious Disease KSID and Korean Society for HealthcareAssociated InfectionControl and Prevention KOSHIC in managing the COVID19 pandemic for the nuclear medicine department We hope that thisguidance will support every practice in nuclear medicine during this chaotic periodKeywords Coronavirus  COVID19  Nuclear medicine  Prevention and control  Practice guideline HoYoung Leedebobkrgmailcom Department of Nuclear Medicine CHA Bundang Medical CenterCHA University of Medicine Professor Pocheon Republic ofKorea Department of Nuclear Medicine Seoul National UniversityBundang Hospital Professor Seongnam Gyeonggido Republic ofKorea Department of Nuclear Medicine Samsung Medical CenterSeoul Republic of Korea Department of Nuclear Medicine Seoul National UniversityHospital Seoul Republic of Korea Department of Nuclear Medicine Chosun University HospitalGwangju Republic of Korea Department of Nuclear Medicine Korea University Guro HospitalSeoul Republic of Korea Department of Nuclear Medicine Hanyang University Guri HospitalSeoul Republic of Korea Department of Nuclear Medicine National Cancer CenterGoynag Republic of Korea Department of Nuclear Medicine Seoul Medical CenterSeoul Republic of Korea Division of Nuclear Medicine Department of RadiologyEunpyeong St Mary\\u0099s Hospital College of Medicine The CatholicUniversity of Korea Seoul Republic of Korea Department of Nuclear Medicine Soonchunhyang University SeoulHospital Bucheon Republic of Korea Department of Nuclear Medicine Inje University Haeundae PaikHospital Busan Republic of Korea Department of Nuclear Medicine Keimyung University DongsanMedical Center Daegu Republic of Korea Department of Nuclear Medicine Soonchunhyang UniversityCheonan Hospital Cheonan Republic of Korea Department of Nursing Soonchunhyang University BucheonHospital Bucheon Republic of Korea Division of Infectious Disease Department of Internal MedicineKangdong Sacred Heart Hospital Hallym UniversityChuncheon Republic of Korea Department of Nuclear Medicine Soonchunhyang UniversityBucheon Hospital Bucheon Republic of Korea Department of Nuclear Medicine Korea University Anam Hospital Korean Society of Nuclear Medicine Quality Control CommitteeSeoul Republic of KoreaBucheon Republic of Korea 0cIntroductionSince the first reports of Coronavirus Disease  COVID in Wuhan China the infection had spread worldwiderapidly and COVID19 has reached pandemic levels InSouth Korea since its outbreak in February  COVID has affected profoundly every aspect of communities Thehumantohuman transmission of COVID19 provides challenges for all healthcare facilities and healthcare providersIn the face of the COVID19 pandemic the Korean Societyof Nuclear Medicine KSNM Korean Society of InfectiousDisease KSID and Korean Society for HealthcareAssociated Infection Control and Prevention KOSHIC haveprepared the guidance for the nuclear medicine department tominimize confusion and ensure that nuclear medicine physicians and technicians continue to provide their services whileprotecting the patients and workers and preventing the transmission of the virus The Quality Control Committee ofKSNM reviewed several reports and recommendations previously published by the European Association of NuclearMedicine EANM [] Society of Nuclear Medicine andMolecular Imaging SNMMI American Society of NuclearCardiology ASNC [] International Atomic Energy AgencyIAEA and others [\\u0093] This guidance is basically in compliance with the COVID19 guidelines of the Korea Centersfor Disease Control and Prevention KCDC [\\u0093] Finallythis document was prepared in cooperation with KSID andKOSHIC KSNM emphasize that this guidance must be considered in the context of following the state and hospital infection control policies and flexibly applied according tochanges in circumstances and evidenceGeneral Principles During COVID19PandemicIn a pandemic situation such as COVID19 if necessarythe condition of the scheduled patient can be checked inadvance to adjust the examination schedule Nonurgent elective studies or therapy should be postponed in COVID19confirmed or COVID19suspectedpatients Rescheduling the studiestherapy must be donein a discussion with the referring clinicians Only urgent studies or therapy could be performed inCOVID19confirmed or COVID19suspected patientswhenever clinically appropriate The priority of studytherapy should be based on a casebycase indepth discussion between nuclear medicine physicians and referring clinicians In case of performing the urgent studiestherapy consult with the infection control offices of eachinstitution to comply with the infection control rules ofownNucl Med Mol Imaging  \\u0093 COVID19suspected patients should undergo COVID testing before performing the studiestherapy Lung ventilation scan should not be performed in anyCOVID19confirmed or COVID19suspected patients Lowdose radioiodine therapy may be considered in caseof acute hyperthyroidism patients who are unable to tolerate antithyroid medications As lowdose radioiodinetherapy lower than  GBq of I131 can be performedin an outpatient setting in South Korea COVID19infected patient can be administrated lowdoseradioiodine in the isolation room or negative pressureroom without any additional monitoring related toradioiodine therapyConsideration During the StudyTherapy Patient transportationScheduling COVID19confirmed or COVID19suspected patient as last study of the day to preventcrossinfection in the nuclear medicine department Ensure that other patients or caregivers should notaccess the nuclear medicine department to minimizethe exposure to COVID19 patient during the studytherapy Transfer the COVID19infected patient to the nuclear medicine department using negative pressuretransport bag to minimize exposure and contact todroplet COVID19 patients should wear masks at all timesof procedures If necessary add gowns gloves etc Devices and scanner management Mainly use disposable instruments or items Do notreuse disposable items such as oxygen masks nasalprongs suction tubes or suction lines The protocolfor reusable devices is as follows Cleaning After use the equipment contaminated with blood bodyfluids secretions and feces should be delivered to awashing room with care not to contaminate the surrounding environment The washing place should be separated from the spaceused for cleaning other items or other patients After immersing the contaminated equipment in a washing spacewash the product carefully to avoid splashing Wash enough to remove blood body fluids secretionsand feces from remaining 0cNucl Med Mol Imaging  \\u0093 Staff undertaking cleaning should wear KF94 or N95masks longsleeved waterproof gowns goggles or faceshields hats shoe covers or rubber boots and doublegloves outer gloves are rubber gloves Disinfection and sterilization Depending on the risk level of the device according tothe Spaulding Classification of medical equipmentdevices noncritical devices require lowlevel disinfectionsemicritical devices require highlevel disinfectionsterilization and critical devices must be sterilized Disinfectants and sterilization methods by device classification should be followed in accordance with the notificationof the Ministry of Health and Welfare   Be sure to check the disinfectant manufacturer\\u0099s recommendations The recommended disinfection process suchas dilution and application time of disinfectant and theeffective period and concentration of disinfectant arestrictly followed Laboratory and scan room management Only the minimum number of staffs should be placedin the nuclear medicine department All participatingstaffs should wear appropriate personal protectiveequipment PPE eye protection with goggles or faceshield medical protective masks N95KF94 or equivalent respirator disposable latex gloves disposablegown disposable shoe covers etc Cover the scanner couch or other equipment with aplastic cover to prevent contamination Every effort should be made to minimize theCOVID19 exposure to medical staff during injection of radiopharmaceuticalsSelect the protocol with the shortest duration of uptake time and scan time to minimize the time spentby the COVID19 patient in the departmentIn case of studies requiring an uptake phaseCOVID19 patients should be waiting in separatespace If possible COVID19 patients wait in negative pressure transport bag If negative pressuretransport bag is not available use bed or stretcherin waiting room with disposable cover Considerusing standard radiopharmaceutical dose to shortenthe procedure time After the completion of image acquisition the scanroom and patient\\u0099s space area should be disinfectedaccording to the standard protocol After image acquisition remove the plastic cover ofthe scanner and disinfect the scanner surface Remove and discard PPE adequately when leavingthe camera room or care area and immediately perform hand hygieneIn case of performing the radiolabeling of theCOVID19 patients\\u0099 blood products every processwith infectious materials openingstirringmixingdispensing COVID19 patient\\u0099s blood sampleradiolabeling etc should be done in class II biosafety cabinet according to the Biosafety Level Regulation Disinfection of laboratory with properdisinfectants  ethanol  hydrogen peroxide or  ppm sodium hypochlorite should bedone Used PPE and disposable covers are removed withcaution not to contaminate the clean area and disposed in a container for biosafety waste Employee management All employees should be trained in the preventionand management of COVID19 infection and adhereto the rules of infection prevention Considering the skill level fatigue etc of the working staff sufficient personnel are allocated to securethemPriority from exemption is given to employees withhighrisk underlying diseases such as diabetesmellitus chronic obstructive pulmonary diseaseCOPD endstage renal disease ESRD chroniccardiac disease etc or pregnant women Cleaning and environmental management General principle Personnel responsible for cleaning or disinfectionshould complete the infection preventioneducation Employees should wear PPE KF94 or N95 respirators fullbody protective clothing or aprons goggles or face shields shoe covers or rubber bootsdouble gloves outer gloves are rubber gloveswhen cleaning or disinfectingIf there are organic substances on the surface of theenvironment it cannot be properly disinfectedTherefore wipe the surface before disinfecting theenvironmentIn order to prevent the possibility of microbialspraying cleaning should be performed using acleaning solution or a mop moistened with a disinfectant rather than a cleaning method using abroom or a vacuum cleanerInstead of spraying disinfectants thoroughly cleanthe surface of the environment using a clean towelmoistened with the disinfectant or a commerciallyavailable disinfecting tissue towel 0cNucl Med Mol Imaging  \\u0093 Use cleaning tools as disposable as possible or exclusively However when the cleaning tool isreused the used cleaning tool is sterilized usingan appropriate disinfectant and then dried andstored Disinfection of a patient\\u0099s space areaIn the case of the space area used by the patientmark the place where contamination was confirmedbefore cleaning and disinfecting the surface andseal the contaminated object to prevent others frombeing exposed Ventilation before during and after cleaningdisinfection disinfection after ventilation for  hbased on  air cycles per hour Wear PPE Wipe with a cloth cloth etc wet withthe diluted disinfectant Wipe the touched wall surface and all frequently used areas and keep it for atleast  min After then wipe the surface with acloth dampened with clean water cloth etcResumption of use Consider the characteristics ofeach type of disinfectant used and the purpose of thefacility After disinfection the virus is killed but thedecision at the time of resumption of use cannot beapplied in batch due to different characteristics ofdisinfectants so it is necessary to consider the precautions for each productFor details on disinfecting methods such as surfacedisinfection and washing refer to \\u009cDisinfectionGuidelines to Prevent the Spread of COVID19 atPublic and Multipurpose Facilities 3rd edition\\u009dRefer to the method of disinfecting the patient spaceareaSelect an environmental disinfectant Select an approved or declared disinfectant by the Ministry ofEnvironment and follow the usage usage and precautions for each product Disinfectant list of the Ministry of Environmenthttpecolifemegokr Precautions when using environmentaldisinfectants Select the disinfectant after confirming informationsuch as approval from the Ministry of Environmentand Environment When using environmental sterilizers make sure tofollow the manufacturer\\u0099s recommendations suchas checking the expiration date safe usage for eachproduct and precautions and preparing the diluentaccording to the manufacturer\\u0099s instructions The disinfecting method of sprayinginjecting disinfectant is not applied to surface disinfectionbecause it causes aerosol infection increased riskof inhalation and the range of contact between thedisinfectant and the surface is insufficient so thedisinfecting effect is insufficient Disinfectant hazard information must be checkedand used carefully Do not mix different disinfectants Do not placenear flammable materials Disinfectant should beused in a wellventilated area As the disinfection effect may decrease over timedilute as much as necessary and use it immediatelyDo not store the remaining amount and discard itimmediately Laundry managementStore clean laundry in a separate space Employees handling laundry should be trained toprevent infection Employees handling contaminated laundry shouldwear PPE N95 masks or equivalent respiratory protection gowns gloves overshoes etc and performhand hygiene after removing PPE The laundry used for the patient is disposed of according to the relevant regulations see WasteManagement Act Medical Institution LaundryManagement Rules etc Thoroughly ensure that pathogens are not exposed topersonnel handling the laundry or surrounding environment during the entire process of collectingtransporting and washing laundry Waste management Waste related to COVID19 patients is managed bythe rules of hospital infectious control policySharp tools such as needles or blades are collectedin containers for impervious and nonpermanentwaste and containers should be stored in the placewhere the items are usedSimple infectious waste contaminated or possiblycontaminated with COVID19 patients\\u0099 sample isautoclaved and discarded Radioactive waste shouldbe discarded in compliance with national regulationwith caution not to contaminate the staff or areaConclusionConsidering that outbreaks of novel viruses have been periodically appearing these days nuclear medicine staffs should getused to guidance and policies for infectious disease in working 0cNucl Med Mol Imaging  \\u0093place to protect patients worker themselves and furthermorevaluable medical resources Basically this guidance can beapplied in case of any other humantohuman transmissiondisease for operating the nuclear medicine department Alsoalways bear in mind the rapid change in the situation thisguidance should be used in conjunction with the currentgovernment and local hospital policiesCompliance with Ethical StandardsConflict of InterestJiIn Bang HoYoung Lee Young Seok ChoHongyoon Choi Ari Chong Jae Sun Eo Ji Young Kim Tae SungKim HyunWoo Kwon Eun Jeong Lee Eun Seong Lee Hye LimPark Soo Bin Park Hyekyung Shim BongIl Song Ik Dong YooKyung Jae Lee Hong Jae Lee Su Ha Han Jin Seo Lee Jung Mi Parkand Sung Hoon Kim declare that they have no conflict of interestEthical Approval This work does not contain any studies with humanparticipants or animals performed by any of the authorsInformed Consent Not applicableReferences Paez D Gnanasegaran G Fanti S Bomanji J Hacker M SathekgeM et al COVID19 pandemic guidance for nuclear medicine departments Eur J Nucl Med Mol \\u0093 Skali H Murthy VL AlMallah MH Bateman TM Beanlands RBetter N et al Guidance and best practices for nuclear cardiologylaboratories during the coronavirus disease  COVID19 pandemic an information statement from ASNC and SNMMI J NuclCardiol \\u0093 httpsdoiorg101007s12350020021232 Huang HL Allie R Gnanasegaran G Bomanji J COVID19\\u0093nuclear medicine departments be prepared NuclMedCommun MossaBasha M Medverd J Linnau K Lynch JB Wener MHKicska G et al Policies and guidelines for COVID19 preparedness experiences from the University of Washington Radiology httpsdoiorg101148radiol2020201326 Zhang X Shao F Lan X Suggestions for safety and protectioncontrol in Department of Nuclear Medicine during the outbreak ofCOVID19 Eur J Nucl Med Mol \\u0093 Buscombe JR Notghi A Croasdale J Pandit M O'Brien J GrahamR et al COVID19 guidance for infection prevention and controlin nuclear medicine Nucl Med Commun \\u0093 Standard guideline for healthcareassociated infection control andprevention Korean Center for Disease Control and Prevention andKorean Society for HealthcareAssociated Infection Control andPrevention  httpcdcgokrCDCcmscontentmobile2675626_viewhtml Accessed 2nd Jun  Korean Society for HealthcareAssociated Infection Control andPrevention Korean Center for Disease Control and Preventionhttpwwwcdcgokrboardesmida20507020000bid0019actviewlist_no366579 Accessed 2nd Jun  Guidelines in response to coronavirus disease for local governmentKorea Centers of Disease Control and Prevention2020 httpswwwcdcgokrboardboardesmida20507020000bid0019actviewlist_no367279tagnPage1 Accessed 2ndJun  Disinfection guidelines to prevent the spread of COVID19 at public and multipurpose facilities Korea Centers of Disease Controland Prevention  httpswwwcdcgokrboardboardesmida20507020000bid0019 Acessed 15th Jun Publisher\\u0099s Note Springer Nature remains neutral with regard to jurisdictional claims in published maps and institutional affiliations 0c\\\"\"\n        ],\n        \"semantic_type\": \"\",\n        \"description\": \"\"\n      }\n    }\n  ]\n}",
              "type": "dataframe",
              "variable_name": "df"
            },
            "text/html": [
              "\n",
              "  <div id=\"df-08789e01-36ef-441c-a769-c5a64a2f2add\" class=\"colab-df-container\">\n",
              "    <div>\n",
              "<style scoped>\n",
              "    .dataframe tbody tr th:only-of-type {\n",
              "        vertical-align: middle;\n",
              "    }\n",
              "\n",
              "    .dataframe tbody tr th {\n",
              "        vertical-align: top;\n",
              "    }\n",
              "\n",
              "    .dataframe thead th {\n",
              "        text-align: right;\n",
              "    }\n",
              "</style>\n",
              "<table border=\"1\" class=\"dataframe\">\n",
              "  <thead>\n",
              "    <tr style=\"text-align: right;\">\n",
              "      <th></th>\n",
              "      <th>Unnamed: 0</th>\n",
              "      <th>0</th>\n",
              "      <th>a</th>\n",
              "    </tr>\n",
              "  </thead>\n",
              "  <tbody>\n",
              "    <tr>\n",
              "      <th>0</th>\n",
              "      <td>0</td>\n",
              "      <td>Thyroid_Cancer</td>\n",
              "      <td>Thyroid surgery in  children in a single insti...</td>\n",
              "    </tr>\n",
              "    <tr>\n",
              "      <th>1</th>\n",
              "      <td>1</td>\n",
              "      <td>Thyroid_Cancer</td>\n",
              "      <td>\" The adopted strategy was the same as that us...</td>\n",
              "    </tr>\n",
              "    <tr>\n",
              "      <th>2</th>\n",
              "      <td>2</td>\n",
              "      <td>Thyroid_Cancer</td>\n",
              "      <td>coronary arterybypass grafting thrombosis ï¬b...</td>\n",
              "    </tr>\n",
              "    <tr>\n",
              "      <th>3</th>\n",
              "      <td>3</td>\n",
              "      <td>Thyroid_Cancer</td>\n",
              "      <td>Solitary plasmacytoma SP of the skull is an u...</td>\n",
              "    </tr>\n",
              "    <tr>\n",
              "      <th>4</th>\n",
              "      <td>4</td>\n",
              "      <td>Thyroid_Cancer</td>\n",
              "      <td>This study aimed to investigate serum matrix ...</td>\n",
              "    </tr>\n",
              "  </tbody>\n",
              "</table>\n",
              "</div>\n",
              "    <div class=\"colab-df-buttons\">\n",
              "\n",
              "  <div class=\"colab-df-container\">\n",
              "    <button class=\"colab-df-convert\" onclick=\"convertToInteractive('df-08789e01-36ef-441c-a769-c5a64a2f2add')\"\n",
              "            title=\"Convert this dataframe to an interactive table.\"\n",
              "            style=\"display:none;\">\n",
              "\n",
              "  <svg xmlns=\"http://www.w3.org/2000/svg\" height=\"24px\" viewBox=\"0 -960 960 960\">\n",
              "    <path d=\"M120-120v-720h720v720H120Zm60-500h600v-160H180v160Zm220 220h160v-160H400v160Zm0 220h160v-160H400v160ZM180-400h160v-160H180v160Zm440 0h160v-160H620v160ZM180-180h160v-160H180v160Zm440 0h160v-160H620v160Z\"/>\n",
              "  </svg>\n",
              "    </button>\n",
              "\n",
              "  <style>\n",
              "    .colab-df-container {\n",
              "      display:flex;\n",
              "      gap: 12px;\n",
              "    }\n",
              "\n",
              "    .colab-df-convert {\n",
              "      background-color: #E8F0FE;\n",
              "      border: none;\n",
              "      border-radius: 50%;\n",
              "      cursor: pointer;\n",
              "      display: none;\n",
              "      fill: #1967D2;\n",
              "      height: 32px;\n",
              "      padding: 0 0 0 0;\n",
              "      width: 32px;\n",
              "    }\n",
              "\n",
              "    .colab-df-convert:hover {\n",
              "      background-color: #E2EBFA;\n",
              "      box-shadow: 0px 1px 2px rgba(60, 64, 67, 0.3), 0px 1px 3px 1px rgba(60, 64, 67, 0.15);\n",
              "      fill: #174EA6;\n",
              "    }\n",
              "\n",
              "    .colab-df-buttons div {\n",
              "      margin-bottom: 4px;\n",
              "    }\n",
              "\n",
              "    [theme=dark] .colab-df-convert {\n",
              "      background-color: #3B4455;\n",
              "      fill: #D2E3FC;\n",
              "    }\n",
              "\n",
              "    [theme=dark] .colab-df-convert:hover {\n",
              "      background-color: #434B5C;\n",
              "      box-shadow: 0px 1px 3px 1px rgba(0, 0, 0, 0.15);\n",
              "      filter: drop-shadow(0px 1px 2px rgba(0, 0, 0, 0.3));\n",
              "      fill: #FFFFFF;\n",
              "    }\n",
              "  </style>\n",
              "\n",
              "    <script>\n",
              "      const buttonEl =\n",
              "        document.querySelector('#df-08789e01-36ef-441c-a769-c5a64a2f2add button.colab-df-convert');\n",
              "      buttonEl.style.display =\n",
              "        google.colab.kernel.accessAllowed ? 'block' : 'none';\n",
              "\n",
              "      async function convertToInteractive(key) {\n",
              "        const element = document.querySelector('#df-08789e01-36ef-441c-a769-c5a64a2f2add');\n",
              "        const dataTable =\n",
              "          await google.colab.kernel.invokeFunction('convertToInteractive',\n",
              "                                                    [key], {});\n",
              "        if (!dataTable) return;\n",
              "\n",
              "        const docLinkHtml = 'Like what you see? Visit the ' +\n",
              "          '<a target=\"_blank\" href=https://colab.research.google.com/notebooks/data_table.ipynb>data table notebook</a>'\n",
              "          + ' to learn more about interactive tables.';\n",
              "        element.innerHTML = '';\n",
              "        dataTable['output_type'] = 'display_data';\n",
              "        await google.colab.output.renderOutput(dataTable, element);\n",
              "        const docLink = document.createElement('div');\n",
              "        docLink.innerHTML = docLinkHtml;\n",
              "        element.appendChild(docLink);\n",
              "      }\n",
              "    </script>\n",
              "  </div>\n",
              "\n",
              "\n",
              "<div id=\"df-6cdc66c0-90f3-4517-aad2-031b1b422493\">\n",
              "  <button class=\"colab-df-quickchart\" onclick=\"quickchart('df-6cdc66c0-90f3-4517-aad2-031b1b422493')\"\n",
              "            title=\"Suggest charts\"\n",
              "            style=\"display:none;\">\n",
              "\n",
              "<svg xmlns=\"http://www.w3.org/2000/svg\" height=\"24px\"viewBox=\"0 0 24 24\"\n",
              "     width=\"24px\">\n",
              "    <g>\n",
              "        <path d=\"M19 3H5c-1.1 0-2 .9-2 2v14c0 1.1.9 2 2 2h14c1.1 0 2-.9 2-2V5c0-1.1-.9-2-2-2zM9 17H7v-7h2v7zm4 0h-2V7h2v10zm4 0h-2v-4h2v4z\"/>\n",
              "    </g>\n",
              "</svg>\n",
              "  </button>\n",
              "\n",
              "<style>\n",
              "  .colab-df-quickchart {\n",
              "      --bg-color: #E8F0FE;\n",
              "      --fill-color: #1967D2;\n",
              "      --hover-bg-color: #E2EBFA;\n",
              "      --hover-fill-color: #174EA6;\n",
              "      --disabled-fill-color: #AAA;\n",
              "      --disabled-bg-color: #DDD;\n",
              "  }\n",
              "\n",
              "  [theme=dark] .colab-df-quickchart {\n",
              "      --bg-color: #3B4455;\n",
              "      --fill-color: #D2E3FC;\n",
              "      --hover-bg-color: #434B5C;\n",
              "      --hover-fill-color: #FFFFFF;\n",
              "      --disabled-bg-color: #3B4455;\n",
              "      --disabled-fill-color: #666;\n",
              "  }\n",
              "\n",
              "  .colab-df-quickchart {\n",
              "    background-color: var(--bg-color);\n",
              "    border: none;\n",
              "    border-radius: 50%;\n",
              "    cursor: pointer;\n",
              "    display: none;\n",
              "    fill: var(--fill-color);\n",
              "    height: 32px;\n",
              "    padding: 0;\n",
              "    width: 32px;\n",
              "  }\n",
              "\n",
              "  .colab-df-quickchart:hover {\n",
              "    background-color: var(--hover-bg-color);\n",
              "    box-shadow: 0 1px 2px rgba(60, 64, 67, 0.3), 0 1px 3px 1px rgba(60, 64, 67, 0.15);\n",
              "    fill: var(--button-hover-fill-color);\n",
              "  }\n",
              "\n",
              "  .colab-df-quickchart-complete:disabled,\n",
              "  .colab-df-quickchart-complete:disabled:hover {\n",
              "    background-color: var(--disabled-bg-color);\n",
              "    fill: var(--disabled-fill-color);\n",
              "    box-shadow: none;\n",
              "  }\n",
              "\n",
              "  .colab-df-spinner {\n",
              "    border: 2px solid var(--fill-color);\n",
              "    border-color: transparent;\n",
              "    border-bottom-color: var(--fill-color);\n",
              "    animation:\n",
              "      spin 1s steps(1) infinite;\n",
              "  }\n",
              "\n",
              "  @keyframes spin {\n",
              "    0% {\n",
              "      border-color: transparent;\n",
              "      border-bottom-color: var(--fill-color);\n",
              "      border-left-color: var(--fill-color);\n",
              "    }\n",
              "    20% {\n",
              "      border-color: transparent;\n",
              "      border-left-color: var(--fill-color);\n",
              "      border-top-color: var(--fill-color);\n",
              "    }\n",
              "    30% {\n",
              "      border-color: transparent;\n",
              "      border-left-color: var(--fill-color);\n",
              "      border-top-color: var(--fill-color);\n",
              "      border-right-color: var(--fill-color);\n",
              "    }\n",
              "    40% {\n",
              "      border-color: transparent;\n",
              "      border-right-color: var(--fill-color);\n",
              "      border-top-color: var(--fill-color);\n",
              "    }\n",
              "    60% {\n",
              "      border-color: transparent;\n",
              "      border-right-color: var(--fill-color);\n",
              "    }\n",
              "    80% {\n",
              "      border-color: transparent;\n",
              "      border-right-color: var(--fill-color);\n",
              "      border-bottom-color: var(--fill-color);\n",
              "    }\n",
              "    90% {\n",
              "      border-color: transparent;\n",
              "      border-bottom-color: var(--fill-color);\n",
              "    }\n",
              "  }\n",
              "</style>\n",
              "\n",
              "  <script>\n",
              "    async function quickchart(key) {\n",
              "      const quickchartButtonEl =\n",
              "        document.querySelector('#' + key + ' button');\n",
              "      quickchartButtonEl.disabled = true;  // To prevent multiple clicks.\n",
              "      quickchartButtonEl.classList.add('colab-df-spinner');\n",
              "      try {\n",
              "        const charts = await google.colab.kernel.invokeFunction(\n",
              "            'suggestCharts', [key], {});\n",
              "      } catch (error) {\n",
              "        console.error('Error during call to suggestCharts:', error);\n",
              "      }\n",
              "      quickchartButtonEl.classList.remove('colab-df-spinner');\n",
              "      quickchartButtonEl.classList.add('colab-df-quickchart-complete');\n",
              "    }\n",
              "    (() => {\n",
              "      let quickchartButtonEl =\n",
              "        document.querySelector('#df-6cdc66c0-90f3-4517-aad2-031b1b422493 button');\n",
              "      quickchartButtonEl.style.display =\n",
              "        google.colab.kernel.accessAllowed ? 'block' : 'none';\n",
              "    })();\n",
              "  </script>\n",
              "</div>\n",
              "    </div>\n",
              "  </div>\n"
            ],
            "text/plain": [
              "   Unnamed: 0               0  \\\n",
              "0           0  Thyroid_Cancer   \n",
              "1           1  Thyroid_Cancer   \n",
              "2           2  Thyroid_Cancer   \n",
              "3           3  Thyroid_Cancer   \n",
              "4           4  Thyroid_Cancer   \n",
              "\n",
              "                                                   a  \n",
              "0  Thyroid surgery in  children in a single insti...  \n",
              "1  \" The adopted strategy was the same as that us...  \n",
              "2  coronary arterybypass grafting thrombosis ï¬b...  \n",
              "3   Solitary plasmacytoma SP of the skull is an u...  \n",
              "4   This study aimed to investigate serum matrix ...  "
            ]
          },
          "execution_count": 8,
          "metadata": {},
          "output_type": "execute_result"
        }
      ],
      "source": [
        "df.head()"
      ]
    },
    {
      "cell_type": "markdown",
      "metadata": {
        "id": "khZtum3nzT0o"
      },
      "source": [
        "# Dataset analysis\n",
        "Context : \\\\\n",
        "The biomedical field offers a variety of challenges for the classification of textual documents. This dataset, composed of abstracts and full documents, focuses on solving these challenges by providing a wealth of information for document analysis and categorization. \\\\\n",
        "It includes a range of documents, with a preference for longer research articles, in excess of 6 pages. This enables in-depth analysis of complex biomedical topics. \\\\\n",
        "The dataset is labeled into three main cancer categories:  \n",
        "\n",
        "* Thyroid cancer\n",
        "* Colon Cancer\n",
        "* Lung Cancer\n",
        "\n",
        "Each category is represented by a specific number of samples, enabling precise classification and in-depth analysis. \\\\\n",
        " \\\\\n",
        "The dataset therefore comprises three variables:\n",
        "\n",
        "* An identifier\n",
        "* A class label\n",
        "* A search paper\n",
        "\n",
        "\\\\\n",
        " As a first step, we'll delete the first column, which represents the observation index, and we'll also rename the columns to make them easier to understand.\n"
      ]
    },
    {
      "cell_type": "markdown",
      "metadata": {},
      "source": []
    },
    {
      "cell_type": "code",
      "execution_count": null,
      "metadata": {
        "id": "_EYMVffM6AiV"
      },
      "outputs": [],
      "source": [
        "df.rename(columns = {'0' : 'class_label',\n",
        "                     'a' : 'research_paper'}, inplace = True)"
      ]
    },
    {
      "cell_type": "code",
      "execution_count": null,
      "metadata": {
        "id": "p6FfET3q6z2L"
      },
      "outputs": [],
      "source": [
        "df.drop(df.columns[0], axis = 1, inplace = True)"
      ]
    },
    {
      "cell_type": "code",
      "execution_count": null,
      "metadata": {
        "colab": {
          "base_uri": "https://localhost:8080/",
          "height": 141
        },
        "id": "ZsWc8miC7O7o",
        "outputId": "9844860a-ad17-4043-d93a-4e094205e3ce"
      },
      "outputs": [
        {
          "ename": "NameError",
          "evalue": "name 'df' is not defined",
          "output_type": "error",
          "traceback": [
            "\u001b[0;31m---------------------------------------------------------------------------\u001b[0m",
            "\u001b[0;31mNameError\u001b[0m                                 Traceback (most recent call last)",
            "\u001b[0;32m<ipython-input-4-c42a15b2c7cf>\u001b[0m in \u001b[0;36m<cell line: 1>\u001b[0;34m()\u001b[0m\n\u001b[0;32m----> 1\u001b[0;31m \u001b[0mdf\u001b[0m\u001b[0;34m.\u001b[0m\u001b[0mhead\u001b[0m\u001b[0;34m(\u001b[0m\u001b[0;34m)\u001b[0m\u001b[0;34m\u001b[0m\u001b[0;34m\u001b[0m\u001b[0m\n\u001b[0m",
            "\u001b[0;31mNameError\u001b[0m: name 'df' is not defined"
          ]
        }
      ],
      "source": [
        "df.head()"
      ]
    },
    {
      "cell_type": "code",
      "execution_count": null,
      "metadata": {
        "colab": {
          "base_uri": "https://localhost:8080/"
        },
        "id": "2ZBSxw1hDVgq",
        "outputId": "ad5264b4-ade5-41db-ae00-92f89140ca66"
      },
      "outputs": [
        {
          "data": {
            "text/plain": [
              "(7570, 2)"
            ]
          },
          "execution_count": 23,
          "metadata": {},
          "output_type": "execute_result"
        }
      ],
      "source": [
        "df.shape"
      ]
    },
    {
      "cell_type": "code",
      "execution_count": null,
      "metadata": {
        "colab": {
          "base_uri": "https://localhost:8080/"
        },
        "id": "m5ia2IGg5p_l",
        "outputId": "40e47bca-727c-4274-ffe4-18eca9a782ca"
      },
      "outputs": [
        {
          "name": "stdout",
          "output_type": "stream",
          "text": [
            "<class 'pandas.core.frame.DataFrame'>\n",
            "RangeIndex: 7570 entries, 0 to 7569\n",
            "Data columns (total 2 columns):\n",
            " #   Column          Non-Null Count  Dtype \n",
            "---  ------          --------------  ----- \n",
            " 0   class_label     7570 non-null   object\n",
            " 1   research_paper  7570 non-null   object\n",
            "dtypes: object(2)\n",
            "memory usage: 118.4+ KB\n"
          ]
        }
      ],
      "source": [
        "df.info()"
      ]
    },
    {
      "cell_type": "code",
      "execution_count": null,
      "metadata": {
        "colab": {
          "base_uri": "https://localhost:8080/",
          "height": 429
        },
        "id": "bnt0Y6k4Clf2",
        "outputId": "4d72c66b-1f2e-449f-e189-f465b71f2061"
      },
      "outputs": [
        {
          "data": {
            "image/png": "[encoded data removed]",
            "text/plain": [
              "<Figure size 640x480 with 1 Axes>"
            ]
          },
          "metadata": {},
          "output_type": "display_data"
        }
      ],
      "source": [
        "df['class_label'].value_counts().plot(kind='pie', autopct = \"%.1f%%\")\n",
        "plt.title('Répartition des classes')\n",
        "plt.legend()\n",
        "plt.show()"
      ]
    },
    {
      "cell_type": "code",
      "execution_count": null,
      "metadata": {
        "colab": {
          "base_uri": "https://localhost:8080/",
          "height": 876
        },
        "id": "O460F0miErdt",
        "outputId": "826e48fe-767b-4831-94f5-0dcbd4e3db78"
      },
      "outputs": [
        {
          "name": "stderr",
          "output_type": "stream",
          "text": [
            "<ipython-input-26-697ff024fee7>:5: FutureWarning: \n",
            "\n",
            "`shade` is now deprecated in favor of `fill`; setting `fill=True`.\n",
            "This will become an error in seaborn v0.14.0; please update your code.\n",
            "\n",
            "  sns.kdeplot(num_1, shade=True, color = 'red').set_title('Kernel distribution of number of words')\n",
            "<ipython-input-26-697ff024fee7>:6: FutureWarning: \n",
            "\n",
            "`shade` is now deprecated in favor of `fill`; setting `fill=True`.\n",
            "This will become an error in seaborn v0.14.0; please update your code.\n",
            "\n",
            "  sns.kdeplot(num_2, shade=True, color = 'blue')\n",
            "<ipython-input-26-697ff024fee7>:7: FutureWarning: \n",
            "\n",
            "`shade` is now deprecated in favor of `fill`; setting `fill=True`.\n",
            "This will become an error in seaborn v0.14.0; please update your code.\n",
            "\n",
            "  sns.kdeplot(num_3, shade=True, color = 'green')\n"
          ]
        },
        {
          "data": {
            "image/png": "[encoded data removed]",
            "text/plain": [
              "<Figure size 1200x600 with 1 Axes>"
            ]
          },
          "metadata": {},
          "output_type": "display_data"
        }
      ],
      "source": [
        "num_1 = df[df['class_label']== 'Thyroid_Cancer']['research_paper'].apply(lambda x: len(x.split()))\n",
        "num_2 = df[df['class_label']== 'Colon_Cancer']['research_paper'].apply(lambda x: len(x.split()))\n",
        "num_3 = df[df['class_label']== 'Lung_Cancer']['research_paper'].apply(lambda x: len(x.split()))\n",
        "plt.figure(figsize=(12,6))\n",
        "sns.kdeplot(num_1, shade=True, color = 'red').set_title('Kernel distribution of number of words')\n",
        "sns.kdeplot(num_2, shade=True, color = 'blue')\n",
        "sns.kdeplot(num_3, shade=True, color = 'green')\n",
        "\n",
        "plt.legend(labels=['Thyroid_Cancer', 'Colon_Cancer', 'Lung_Cancer'])\n",
        "plt.show()\n"
      ]
    },
    {
      "cell_type": "markdown",
      "metadata": {
        "id": "jGD6kWBqlRmg"
      },
      "source": [
        "As we can see, we have a roughly equal distribution of the three different text classes with :\n",
        "\n",
        "* 37.1% for thyroid cancer\n",
        "* 34.1% for colon cancer\n",
        "* 28.8% for lung cancer.\n",
        "\n",
        " We also note that a large majority of thyroid and colon cancer documents are around 4,500 words long, corresponding to around 10 pages, while lung cancer documents are around 1,000 words.  \n",
        "The dataset consists of 7570 observations, none of which are null. Given the nature of these observations, it might be interesting to reduce the size of the dataset we'll be working with.\n"
      ]
    },
    {
      "cell_type": "markdown",
      "metadata": {
        "id": "OfRuwUCIqkZI"
      },
      "source": [
        "# Text Processing"
      ]
    },
    {
      "cell_type": "markdown",
      "metadata": {
        "id": "6yftMEWKsWpN"
      },
      "source": [
        "Here, the aim will be to prepare the data set for NLP methods, so we'll have to 'normalize' it by removing stopwords, tokenizing texts, etc... \\\\\n",
        "\n",
        "As we saw above, documents are highly unequal in size, so logically, some words will be more present and therefore more influential than others. To solve this problem, we're going to divide the number of occurrences of each word in a document by the total number of words in that document. This logic is called TF-IDF : Term Frequency times Inverse Document Frequency. \\\\\n",
        "\n",
        "We'll also be testing other Word Embedding methods, such as the Word2Vec and Document2Vec models.\n"
      ]
    },
    {
      "cell_type": "code",
      "execution_count": null,
      "metadata": {
        "colab": {
          "base_uri": "https://localhost:8080/"
        },
        "id": "3puyXjmesyK8",
        "outputId": "68cbd216-ae23-4776-b85c-e529f0d6bda1"
      },
      "outputs": [
        {
          "data": {
            "text/plain": [
              "6574"
            ]
          },
          "execution_count": 17,
          "metadata": {},
          "output_type": "execute_result"
        }
      ],
      "source": [
        "df.duplicated().sum()"
      ]
    },
    {
      "cell_type": "markdown",
      "metadata": {
        "id": "6t0ZKdsQs20e"
      },
      "source": [
        "We note that 6574 observations are duplicates, so we will withdraw them."
      ]
    },
    {
      "cell_type": "code",
      "execution_count": null,
      "metadata": {
        "id": "F6JAA5IAtEGw"
      },
      "outputs": [],
      "source": [
        "df.drop_duplicates(inplace = True)"
      ]
    },
    {
      "cell_type": "code",
      "execution_count": null,
      "metadata": {
        "colab": {
          "base_uri": "https://localhost:8080/"
        },
        "id": "35-3SecLtKql",
        "outputId": "d4ac1e40-925c-4d33-85e3-7022ad426676"
      },
      "outputs": [
        {
          "data": {
            "text/plain": [
              "(996, 2)"
            ]
          },
          "execution_count": 21,
          "metadata": {},
          "output_type": "execute_result"
        }
      ],
      "source": [
        "df.shape"
      ]
    },
    {
      "cell_type": "code",
      "execution_count": null,
      "metadata": {
        "id": "PHYyrPA8rS47"
      },
      "outputs": [],
      "source": [
        "df.class_label = LabelEncoder().fit_transform(df['class_label'])"
      ]
    },
    {
      "cell_type": "code",
      "execution_count": null,
      "metadata": {
        "colab": {
          "base_uri": "https://localhost:8080/",
          "height": 206
        },
        "id": "qKfMKXdSsST4",
        "outputId": "eecd2e21-7b07-45d3-d175-f319491b96d7"
      },
      "outputs": [
        {
          "data": {
            "application/vnd.google.colaboratory.intrinsic+json": {
              "summary": "{\n  \"name\": \"df\",\n  \"rows\": 996,\n  \"fields\": [\n    {\n      \"column\": \"class_label\",\n      \"properties\": {\n        \"dtype\": \"number\",\n        \"std\": 0,\n        \"min\": 0,\n        \"max\": 2,\n        \"num_unique_values\": 3,\n        \"samples\": [\n          2,\n          0,\n          1\n        ],\n        \"semantic_type\": \"\",\n        \"description\": \"\"\n      }\n    },\n    {\n      \"column\": \"research_paper\",\n      \"properties\": {\n        \"dtype\": \"string\",\n        \"num_unique_values\": 996,\n        \"samples\": [\n          \"\\\"The normalized results are expressed as the relative mRNA level. The comparison between pre-/post-treatment groups was performed by modified paired T-test using the limma package. Fluorescence in situ hybridization (FISH) Samples were tested for ALK rearrangements by FISH (Vysis ALK Break Apart FISH Probe Kit) as previously described30. Gene expression analysis RNA from cell lines and controls was prepared labeled and hybridized to Illumina HT-12 array. For analysis the sample probe profile data in the GeneSpring export format was transformed to log-2 scale and normalized using quantile method by applying beadarray package31 in BioConductor 2.11. Four duplicated samples were averaged to reduce the total sample size to 9 across three groups. The comparison between drug sensitive and drug resistant groups was performed using limma package. The significantly changed probes were identified by moderated t statistics. The p-values from moderated t-tests were adjusted by Benjamini and Hochberg's method to control false discovery rate. The microarray data reported in this  have been deposited in NCBI's Gene Expression Omnibus (GEO) database www.ncbi.nlm.nih.gov/geo (Accession no. GSE49508 URL: http://www.ncbi.nlm.nih.gov/geo/query/acc.cgi?acc=GSE49508). Xenograft studies Nude mice (nu/nu; Harlan Laboratories) were used for in vivo studies and were cared for in accordance with guidelines approved by the Memorial Sloan-Kettering Cancer Center Institutional Animal Care and Use Committee and Research Animal Resource Center. 8 week old female mice were injected subcutaneously with 5 million H3122 cells together with matrigel. Once tumors reached an average volume of 100 mm3 mice were randomized to the different treatment cohorts. For the experiment in Supplementary Fig. 1f mice were randomized to receive either crizotinib alone MAb391 alone crizotinib + MAb391 or vehicle control (n = 6 for vehicle alone crizotinib and crizotinib + MAb391. n = 5 for MAb391 only). Crizotinib was administered at 50 mg kg?1 p.o. daily \\u0097 5 days. MAb391 was administered at 1 mg i.p. every 3 days. For the experiment in Fig. 6b mice were randomized to receive crizotinib alone (50 mg kg?1 p.o. daily \\u0097 5 days) LDK-378 alone (50 mg kg?1 p.o. daily \\u0097 5 days) or vehicle control (n = 5 for Crizotinib and LDK-378 n = 4 for vehicle control). Mice were observed daily throughout the treatment period for signs of morbidity/mortality. Tumors were measured twice weekly using calipers and volume was calculated using the formula: length \\u0097 width2 \\u0097 0.52. Body weight was also assessed twice weekly. P values were determined with the Wilcoxon Rank Sum test. EML4-ALK (E13;A20) transgenic mice Genetically engineered mice harboring the EML4-ALK E13;A20 fusion variant has been previously reported13. Three month old mice from both genders were used in the described studies. All animal treatment studies were reviewed and approved by the IACUC at the Dana-Farber Cancer Institute. Tumor Biopsy Samples All patient tumor biopsy samples were obtained under Institutional Review Board (IRB) approved protocols (Vanderbilt University IRB# 050644 Memorial Sloan-Kettering Cancer Center IRB #10-136 University Hospital of Cologne IRB #06037 Peter MacCallum Cancer Center IRB#08/71). Written informed consent was obtained from all patients. All samples were deidentified and protected health information was reviewed according to the Health Insurance Portability and Accountability Act (HIPAA) guidelines. For the index patient's tumor clinical genotyping was performed using the SNaPshot platform as previously described32. Immunohistochemistry Tumors were pathologically identified and classified according to WHO guidelines. Briefly 3 ?m thick sections of FFPE tumors were deparaffinized. For pIGF-1R staining antigen retrieval was performed by boiling the section in citrate buffer at pH 6 for 25 minutes. For IRS-1 staining no pretreatment was necessary. Primary antibodies were used as follows: pIGF-1R (pY1161) (Ab39398 1:100 pH 6 Abcam Inc.) IRS-1 (Ab40777 1:100 Abcam Inc.). Corresponding secondary antibodies and detection kits were used (Enhancer: post antibody blocking for Bright Vision plus; Immuno Logic c-DPVB blocking and Polymer: Poly-HRP-GAM/R/R IgG; Immuno Logic c-DPVB999HRP BrightVision+ cat #DPVB999HRP ImmunoLogic Duiven The Netherlands www.immunologic.nl) and stained on an automated stainer (LabVision Autostainer 480S Thermo Scientific). Staining intensities were individually evaluated by 3 independent observers. Supplementary Material 1 Acknowledgements This work was supported by the VICC Cancer Center Core grant (P30-CA68485) a career development award from the Vanderbilt Specialized Program of Research Excellence in Lung Cancer grant (CA90949) NCI grants R01CA121210 and P01CA129243 and by the Joyce Family Foundation. CML was additionally supported by an NIH K12 training grant (K12 CA9060625) an ASCO Young Investigator Award a Uniting Against Lung Cancer grant and a Damon Runyon Clinical Investigator Award. CML was the Carol and Jim O'Hare chief fellow from 7/1/2011 through 6/30/2012. LCH and RB were supported by the Deutsche Forschungsgemeinschaft (SFB 832 Tumormicromilieu) and the German Cancer Aid (CIO K\\u00b6ln Bonn).\\\"\",\n          \"\\\"confidence. If you choose not to take part in this survey it will not affect the care you receive from the NHS in any way. Please do not write your name and address anywhere on the questionnaire as this information is not required. No information you give in this questionnaire will be shared in a way that allows you to be identified. How to complete the survey and how long it will take. The questionnaire is short and will take 5\\u009310?min to complete. Please try to answer every question. Please return your questionnaire even if you have not answered every question. If English is not your first language or if you if you have difficulty understanding the questions then please ask a relative or carer to help you complete the questionnaire. Questions or help? If you have any questions please contact your local lung clinical nurse specialist team. Please select one answer to each question by placing a in the appropriate box. There is space at the end of the survey for you to write any comments. This work is published under the standard license to publish agreement. After 12 months the work will become freely available and the license terms will switch to a Creative Commons Attribution-NonCommercial-Share Alike 3.0 Unported License. Abdel-Rahman M Stockton D Rachet B Hakulinen T Coleman MP 2009 What if cancer survival in Britain were the same as in Europe: how many deaths are avoidable Br J Cancer 101 (Suppl 2 S115 S124 19956155 Aveling EL Martin G Jimnez Garc\\u00ada S Martin L Herbert G Armstrong N Dixon-Woods M Woolhouse I 2012 Reciprocal peer review for quality improvement: an ethnographic case study of the Improving Lung Cancer Outcomes Project BMJ Qual Saf 21 1034 1041 Beckett P Woolhouse I Stanley R Peake MD 2012 Exploring variations in lung cancer care across the UK-the \\u0098story so far' for the National Lung Cancer Audit Clin Med 12 14 18 22372213 Department of Health2012National Cancer Patients' Experience Survey Programme 2012/13. England. Health And Social Care Information Centre2012National Lung Cancer Audit Report. Institute for Healthcare Improvement2003The Breakthrough Series: IHI's Collaborative Model for Achieving Breakthrough Improvement. Boston. Khakwani A Rich AL Powell HA Tata LJ Stanley RA Baldwin DR Duffy JP Hubbard RB 2013 Lung cancer survival in England: trends in non-small-cell lung cancer survival over the duration of the National Lung Cancer Audit Br J Cancer 109 (8 2058 2065 24052044 Kwon S Florence M Grigas P Horton M Horvath K Johnson M Jurkovich G Klamp W Peterson K Quigley T Raum W Rogers T Thirlby R Farrokhi E Flum D 2012 Creating a learning healthcare system in surgery: Washington State's Surgical Care and Outcomes Assessment Program (SCOAP) at 5 years Surgery 151 146 152 22129638 National Institute for Health and Care Excellence 2011 The Diagnosis And Treatment Of Lung Cancer (Update Of Nice Clinical Guideline 24) Clinical guidelines CG121 London UK Pronovost P Needham D Berenholtz S Sinopoli D Chu H Cosgrove S Sexton B Hyzy R Welsh R Roth G Bander J Kepros J Goeschel C 2006 An intervention to decrease catheter-related bloodstream infections in the ICU N Engl J Med 355 2725 2732 17192537 Roberts CM Stone RA Buckingham RJ Pursey NA Lowe D Potter JM 2012 A randomized trial of peer review: the UK National Chronic Obstructive Pulmonary Disease Resources and Outcomes Project: three-year evaluation J Eval Clin Pract 18 (3 599 605 21332611 Walters S Maringe C Coleman MP Peake MD Butler J Young N Bergstr\\u00b6m S Hanna L Jakobsen E K\\u00b6lbeck K Sundstr\\u00b8m S Engholm G Gavin A Gjerstorff ML Hatcher J Johannesen TB Linklater KM McGahan CE Steward J Tracey E Turner D Richards MA Rachet B ICBP Module 1 Working Group 2013 Lung cancer survival and stage at diagnosis in Australia Canada Denmark Norway Sweden and the UK: a population-based study 2004-2007 Thorax 68 551 564 23399908 Wise J 2010 Health atlas shows large variations in care in England BMJ 341 c6809 c6809  Study timelines.  Consort diagram disposal of eligible trusts including screening randomisation and follow-up.  Run chart showing the waiting times from the multidisciplinary team meeting to the first treatment for 10 consecutive small-cell lung cancer patients following the implementation of the quality improvement plan at one trust in the intervention group.  Mean change in national lung cancer audit metrics from baseline (2009) to 2011. P=0.055 active treatment\\u0094intervention vs controls. Intervention n=31 trusts control n=47 trusts and non-intervention (control and non-participants combined) n=66 trusts. Abbreviations: CNS clinical nurse specialist; MDT multidisciplinary team; SCLC small-cell lung cancer.  Total patient questionnaire scores by the multidisciplinary team in the intervention group at baseline (pre) and at the end of the study (post). A low score indicates better experience. Each symbol represents the mean score for each trust in the intervention group. The maximum possible score for the questionnaire is 11.  Quality improvement plan themes Quality improvement plan theme Number of plans Multidisciplinary team effectiveness 31 Diagnostic pathways 13 Treatment pathways 9 Access to clinical nurse specialists 8 Clinical trial recruitment 4 Patient experience 2  Baseline (2009) national lung cancer audit indicators   Control ( n =47) Intervention ( n =31) Excluded ( n =67) P -value   Mean (%) s.e.m. Mean (%) s.e.m. Mean (%) s.e.m. Control vs intervention vs non-participant control vs intervention Case ascertainment 158.1 38.6 122.0 7.2 107.4 3.6 0.220 0.455 Discussed at the MDT meeting 95.2 0.7 93.7 1.7 90.9 1.9 0.155 0.370 Histological confirmation rate 75.7 1.2 76.4 1.8 78.4 1.6 0.409 0.739 Active treatment 59.5 1.2 55.9 2.2 59.5 1.5 0.305 0.131 Surgery (all cases) 13.4 0.6 13.0 0.8 14.2 0.7 0.469 0.648 SCLC (chemo) 65.1 2.2 66.5 3.9 63.3 2.7 0.746 0.733 Seen by CNS 70.3 3.8 76.6 3.2 58.3 4.2 0.007 0.243 CNS present diagnosis 44.0 3.8 49.4 5.4 38.7 3.8 0.237 0.403 Abbreviations: CNS=clinical nurse specialist; MDT=mulitdisciplinary team; SCLC=small-cell lung cancer. Data are shown as mean and s.e. proportion of patients. BMC Cancer BMC Cancer BMC Cancer 1471-2407 BioMed Central 24386906 3893473 1471-2407-14-3 10.1186/1471-2407-14-3 Study Protocol Study protocol of a randomized controlled trial comparing Mindfulness-Based Stress Reduction with treatment as usual in reducing psychological distress in patients with lung cancer and their partners: the MILON study Schellekens Melanie PJ 1 Melanie.Schellekensradboudumc.nl van den Hurk Desiree GM 2 Desiree.vandenHurkradboudumc.nl Prins Judith B 3 Judith.Prinsradboudumc.nl Molema Johan 2 Johan.Molemaradboudumc.nl Donders A Rogier T 4 Rogier.Dondersradboudumc.nl Woertman Willem H 4 Willem.Woertmanradboudumc.nl van der Drift Miep A 2 Miep.vanderDriftradboudumc.nl Speckens Anne EM 1 Anne.Speckensradboudumc.nl 1Department of Psychiatry Radboud University Nijmegen Medical Centre Nijmegen The Netherlands 2Department of Pulmonary Diseases Radboud University Nijmegen Medical Centre Nijmegen The Netherlands 3Department of Medical Psychology Radboud University Nijmegen Medical Centre Nijmegen The Netherlands 4Department of Epidemiology Biostatistics and Health Technology Assessment Radboud University Nijmegen Medical Centre Nijmegen The Netherlands 2014 3 1 2014 14 3 3 28 6 2013 19 12 2013 Copyright  2014 Schellekens et al.; licensee BioMed Central Ltd. 2014 Schellekens et al.; licensee BioMed Central Ltd. This is an open access  distributed under the terms of the Creative Commons Attribution License (http://creativecommons./licenses/by/2.0) which permits unrestricted use distribution and reproduction in any medium provided the original work is properly cited. Background Lung cancer is the leading cause of cancer death worldwide and characterized by a poor prognosis. It has a major impact on the psychological wellbeing of patients and their partners. Recently it has been shown that Mindfulness-Based Stress Reduction (MBSR) is effective in reducing anxiety and depressive symptoms in cancer patients. The generalization of these results is limited since most participants were female patients with breast cancer. Moreover only one study examined the effectiveness of MBSR in partners of cancer patients. Therefore in the present trial we study the effectiveness of MBSR versus treatment as usual (TAU) in patients with lung cancer and their partners. Methods/Design A parallel group randomized controlled trial is conducted to compare MBSR with TAU. Lung cancer patients who have received or are still under treatment and their partners are recruited. Assessments will take place at baseline post intervention and at three-month follow-up. The primary outcome is psychological distress (i.e. anxiety and depressive symptoms). Secondary outcomes are quality of life (only for patients) caregiver appraisal (only for partners) relationship quality and spirituality. In addition cost-effectiveness ratio (only in patients) and several process variables are assessed. Discussion This trial will provide information about the clinical and cost-effectiveness of MBSR compared to TAU in patients with lung cancer and their partners. Trial registration ClinicalTrials.gov NCT01494883. Mindfulness-based stress reduction Lung cancer patients Partners Psychological distress Randomized controlled trial Background With an estimated 1.4 million deaths per year lung cancer is the leading cause of death by cancer worldwide. Even with the best available treatment five-year survival is merely 16% and about 60 to 70% of patients die within the first year after diagnosis [1]. This poor prognosis is often caused by a late diagnosis as the presentation usually occurs when the lung cancer is advanced. Patients may develop burdensome symptoms like pain dyspnoea fatigue and cough and they may undergo radical treatment including surgery chemo- and radiotherapy. Not surprisingly lung cancer has a major impact on the psychological wellbeing of patients and their family. Akechi and colleagues [2] showed that 19% of patients with advanced lung cancer meets the criteria of psychiatric disorders especially depressive and adjustment disorders. Of patients who had been successfully treated for lung cancer 15% met the criteria for a minor or major depressive disorder [3]. The prevalence rate of depressive and anxiety symptoms among lung cancer patients ranges from 20 to 47% [4-7]. Compared to patients with other cancer diagnoses lung cancer patients report the highest rates of distress (43 to 58%) [89] resulting in a lower quality of life [10]. Family friends and especially partners of patients with lung cancer also have to deal with its psychological impact [11-14]. Partners not only provide emotional and practical support they also have to cope with their own concerns including the uncertainty regarding the course of the illness and the fear of losing their partner [15]. More than 50% of partners of lung cancer patients report negative emotional effects of caregiving [16]. Around 40% of partners of patients with advanced lung cancer report high levels of distress [17]. The relationship between patient and partner can also be affected by the cancer. It has been shown that some partners report a lower quality of their relationship after the diagnosis of lung cancer [18]. Though numerous studies examined the psychological distress of lung cancer patients and their partners [2-22] not much research is done on how to alleviate distress in these groups [23]. In addition the available studies on managing the psychosocial care needs of cancer patients and their families have focused on care at the very end of life (e.g. [24-26]). Recently studies have demonstrated that palliative care initiated early in treatment improves the quality of life and depressive symptoms of lung cancer patients [1027]. This stresses the importance of integrating psychosocial care for lung cancer patients and their partners early in the treatment rather than instigating it once life-prolonging therapies fail. In the past ten years MBSR has become a promising psychosocial intervention for cancer patients. Mindfulness is defined as intentionally paying attention to moment-by-moment experiences in a non-judgmental way [28]. MBSR is an 8-week group-based training consisting of meditation practices such as the bodyscan gentle yoga sitting and walking meditation. By repeatedly bringing attention back to the current experience participants gradually learn to disengage from dysfunctional thoughts and directly experience the emotions and bodily sensations of the present moment. MBSR aims to provide participants with the ability to step back from ruminating about the past or worrying about the future and simply allow experiences to unfold [2829]. A recent meta-analysis [30] of 13 nonrandomized studies and 9 randomized controlled trials (RCT) concluded there is positive evidence for the use of mindfulness-based interventions in reducing psychological distress in cancer patients. Among the RCT\\u0099s a reduction in symptom severity was found for both anxiety and depression corresponding to moderate pooled controlled effect sizes (Hedges\\u0099s g = 0.37 and Hedges\\u0099s g = 0.44 respectively) [30]. Though mindfulness-based interventions seem to be effective the authors note that across studies the majority of participants were women (85%) and diagnosed with breast cancer (77%). Compared to breast cancer patients patients with lung cancer are more often male older and have a poorer prognosis. Furthermore of these 22 studies only one study included the partners of the patients showing that partners also benefit from the MBSR training [31]. This is quite surprising since partners of cancer patients also report high levels of distress [32]. Aims The aim of the Mindfulness for Lung Oncology Nijmegen (MILON) study is to examine the effectiveness of MBSR compared to TAU in reducing psychological distress in patients with lung cancer and their partners. We hypothesize that patients in the MBSR group will report a lower level of psychological distress (i.e. anxiety and depressive symptoms) higher levels of quality of life quality of relationship and spirituality than those in the TAU group. Medical and societal costs will be lower in the MBSR versus TAU group. We expect partners in the MBSR group to report a lower level of psychological distress and higher levels of caregiver appraisal relationship quality and spirituality than their counterparts in the TAU group. With regard to the working mechanisms of the MBSR programme we will examine changes in mindfulness skills self-compassion rumination intrusion avoidance and adherence to MBSR. Methods/Design Study design The design of the \\u0098MILON\\u0099 study is a parallel group randomized controlled trial with an embedded process study. Participants are randomized between MBSR and TAU. The study protocol has been approved by our ethical review board (CMO Arnhem-Nijmegen) and registered under number 2011\\u0093519. Participants and procedure Patients and partners are recruited at the outpatient \\\"\",\n          \"\\\"dramatic spread of Coronavirus Disease  COVID19 has profound impacts on every continent and life Due to humantohuman transmission of COVID19 nuclear medicine staffs also cannot escape the risk of infection from workplaces Everystaff in the nuclear medicine department must prepare for and respond to COVID19 pandemic which tailored to the characteristics of our profession This  provided the guidance prepared by the Korean Society of Nuclear Medicine KSNM incooperation with the Korean Society of Infectious Disease KSID and Korean Society for HealthcareAssociated InfectionControl and Prevention KOSHIC in managing the COVID19 pandemic for the nuclear medicine department We hope that thisguidance will support every practice in nuclear medicine during this chaotic periodKeywords Coronavirus  COVID19  Nuclear medicine  Prevention and control  Practice guideline HoYoung Leedebobkrgmailcom Department of Nuclear Medicine CHA Bundang Medical CenterCHA University of Medicine Professor Pocheon Republic ofKorea Department of Nuclear Medicine Seoul National UniversityBundang Hospital Professor Seongnam Gyeonggido Republic ofKorea Department of Nuclear Medicine Samsung Medical CenterSeoul Republic of Korea Department of Nuclear Medicine Seoul National UniversityHospital Seoul Republic of Korea Department of Nuclear Medicine Chosun University HospitalGwangju Republic of Korea Department of Nuclear Medicine Korea University Guro HospitalSeoul Republic of Korea Department of Nuclear Medicine Hanyang University Guri HospitalSeoul Republic of Korea Department of Nuclear Medicine National Cancer CenterGoynag Republic of Korea Department of Nuclear Medicine Seoul Medical CenterSeoul Republic of Korea Division of Nuclear Medicine Department of RadiologyEunpyeong St Mary\\u0099s Hospital College of Medicine The CatholicUniversity of Korea Seoul Republic of Korea Department of Nuclear Medicine Soonchunhyang University SeoulHospital Bucheon Republic of Korea Department of Nuclear Medicine Inje University Haeundae PaikHospital Busan Republic of Korea Department of Nuclear Medicine Keimyung University DongsanMedical Center Daegu Republic of Korea Department of Nuclear Medicine Soonchunhyang UniversityCheonan Hospital Cheonan Republic of Korea Department of Nursing Soonchunhyang University BucheonHospital Bucheon Republic of Korea Division of Infectious Disease Department of Internal MedicineKangdong Sacred Heart Hospital Hallym UniversityChuncheon Republic of Korea Department of Nuclear Medicine Soonchunhyang UniversityBucheon Hospital Bucheon Republic of Korea Department of Nuclear Medicine Korea University Anam Hospital Korean Society of Nuclear Medicine Quality Control CommitteeSeoul Republic of KoreaBucheon Republic of Korea 0cIntroductionSince the first reports of Coronavirus Disease  COVID in Wuhan China the infection had spread worldwiderapidly and COVID19 has reached pandemic levels InSouth Korea since its outbreak in February  COVID has affected profoundly every aspect of communities Thehumantohuman transmission of COVID19 provides challenges for all healthcare facilities and healthcare providersIn the face of the COVID19 pandemic the Korean Societyof Nuclear Medicine KSNM Korean Society of InfectiousDisease KSID and Korean Society for HealthcareAssociated Infection Control and Prevention KOSHIC haveprepared the guidance for the nuclear medicine department tominimize confusion and ensure that nuclear medicine physicians and technicians continue to provide their services whileprotecting the patients and workers and preventing the transmission of the virus The Quality Control Committee ofKSNM reviewed several reports and recommendations previously published by the European Association of NuclearMedicine EANM [] Society of Nuclear Medicine andMolecular Imaging SNMMI American Society of NuclearCardiology ASNC [] International Atomic Energy AgencyIAEA and others [\\u0093] This guidance is basically in compliance with the COVID19 guidelines of the Korea Centersfor Disease Control and Prevention KCDC [\\u0093] Finallythis document was prepared in cooperation with KSID andKOSHIC KSNM emphasize that this guidance must be considered in the context of following the state and hospital infection control policies and flexibly applied according tochanges in circumstances and evidenceGeneral Principles During COVID19PandemicIn a pandemic situation such as COVID19 if necessarythe condition of the scheduled patient can be checked inadvance to adjust the examination schedule Nonurgent elective studies or therapy should be postponed in COVID19confirmed or COVID19suspectedpatients Rescheduling the studiestherapy must be donein a discussion with the referring clinicians Only urgent studies or therapy could be performed inCOVID19confirmed or COVID19suspected patientswhenever clinically appropriate The priority of studytherapy should be based on a casebycase indepth discussion between nuclear medicine physicians and referring clinicians In case of performing the urgent studiestherapy consult with the infection control offices of eachinstitution to comply with the infection control rules ofownNucl Med Mol Imaging  \\u0093 COVID19suspected patients should undergo COVID testing before performing the studiestherapy Lung ventilation scan should not be performed in anyCOVID19confirmed or COVID19suspected patients Lowdose radioiodine therapy may be considered in caseof acute hyperthyroidism patients who are unable to tolerate antithyroid medications As lowdose radioiodinetherapy lower than  GBq of I131 can be performedin an outpatient setting in South Korea COVID19infected patient can be administrated lowdoseradioiodine in the isolation room or negative pressureroom without any additional monitoring related toradioiodine therapyConsideration During the StudyTherapy Patient transportationScheduling COVID19confirmed or COVID19suspected patient as last study of the day to preventcrossinfection in the nuclear medicine department Ensure that other patients or caregivers should notaccess the nuclear medicine department to minimizethe exposure to COVID19 patient during the studytherapy Transfer the COVID19infected patient to the nuclear medicine department using negative pressuretransport bag to minimize exposure and contact todroplet COVID19 patients should wear masks at all timesof procedures If necessary add gowns gloves etc Devices and scanner management Mainly use disposable instruments or items Do notreuse disposable items such as oxygen masks nasalprongs suction tubes or suction lines The protocolfor reusable devices is as follows Cleaning After use the equipment contaminated with blood bodyfluids secretions and feces should be delivered to awashing room with care not to contaminate the surrounding environment The washing place should be separated from the spaceused for cleaning other items or other patients After immersing the contaminated equipment in a washing spacewash the product carefully to avoid splashing Wash enough to remove blood body fluids secretionsand feces from remaining 0cNucl Med Mol Imaging  \\u0093 Staff undertaking cleaning should wear KF94 or N95masks longsleeved waterproof gowns goggles or faceshields hats shoe covers or rubber boots and doublegloves outer gloves are rubber gloves Disinfection and sterilization Depending on the risk level of the device according tothe Spaulding Classification of medical equipmentdevices noncritical devices require lowlevel disinfectionsemicritical devices require highlevel disinfectionsterilization and critical devices must be sterilized Disinfectants and sterilization methods by device classification should be followed in accordance with the notificationof the Ministry of Health and Welfare   Be sure to check the disinfectant manufacturer\\u0099s recommendations The recommended disinfection process suchas dilution and application time of disinfectant and theeffective period and concentration of disinfectant arestrictly followed Laboratory and scan room management Only the minimum number of staffs should be placedin the nuclear medicine department All participatingstaffs should wear appropriate personal protectiveequipment PPE eye protection with goggles or faceshield medical protective masks N95KF94 or equivalent respirator disposable latex gloves disposablegown disposable shoe covers etc Cover the scanner couch or other equipment with aplastic cover to prevent contamination Every effort should be made to minimize theCOVID19 exposure to medical staff during injection of radiopharmaceuticalsSelect the protocol with the shortest duration of uptake time and scan time to minimize the time spentby the COVID19 patient in the departmentIn case of studies requiring an uptake phaseCOVID19 patients should be waiting in separatespace If possible COVID19 patients wait in negative pressure transport bag If negative pressuretransport bag is not available use bed or stretcherin waiting room with disposable cover Considerusing standard radiopharmaceutical dose to shortenthe procedure time After the completion of image acquisition the scanroom and patient\\u0099s space area should be disinfectedaccording to the standard protocol After image acquisition remove the plastic cover ofthe scanner and disinfect the scanner surface Remove and discard PPE adequately when leavingthe camera room or care area and immediately perform hand hygieneIn case of performing the radiolabeling of theCOVID19 patients\\u0099 blood products every processwith infectious materials openingstirringmixingdispensing COVID19 patient\\u0099s blood sampleradiolabeling etc should be done in class II biosafety cabinet according to the Biosafety Level Regulation Disinfection of laboratory with properdisinfectants  ethanol  hydrogen peroxide or  ppm sodium hypochlorite should bedone Used PPE and disposable covers are removed withcaution not to contaminate the clean area and disposed in a container for biosafety waste Employee management All employees should be trained in the preventionand management of COVID19 infection and adhereto the rules of infection prevention Considering the skill level fatigue etc of the working staff sufficient personnel are allocated to securethemPriority from exemption is given to employees withhighrisk underlying diseases such as diabetesmellitus chronic obstructive pulmonary diseaseCOPD endstage renal disease ESRD chroniccardiac disease etc or pregnant women Cleaning and environmental management General principle Personnel responsible for cleaning or disinfectionshould complete the infection preventioneducation Employees should wear PPE KF94 or N95 respirators fullbody protective clothing or aprons goggles or face shields shoe covers or rubber bootsdouble gloves outer gloves are rubber gloveswhen cleaning or disinfectingIf there are organic substances on the surface of theenvironment it cannot be properly disinfectedTherefore wipe the surface before disinfecting theenvironmentIn order to prevent the possibility of microbialspraying cleaning should be performed using acleaning solution or a mop moistened with a disinfectant rather than a cleaning method using abroom or a vacuum cleanerInstead of spraying disinfectants thoroughly cleanthe surface of the environment using a clean towelmoistened with the disinfectant or a commerciallyavailable disinfecting tissue towel 0cNucl Med Mol Imaging  \\u0093 Use cleaning tools as disposable as possible or exclusively However when the cleaning tool isreused the used cleaning tool is sterilized usingan appropriate disinfectant and then dried andstored Disinfection of a patient\\u0099s space areaIn the case of the space area used by the patientmark the place where contamination was confirmedbefore cleaning and disinfecting the surface andseal the contaminated object to prevent others frombeing exposed Ventilation before during and after cleaningdisinfection disinfection after ventilation for  hbased on  air cycles per hour Wear PPE Wipe with a cloth cloth etc wet withthe diluted disinfectant Wipe the touched wall surface and all frequently used areas and keep it for atleast  min After then wipe the surface with acloth dampened with clean water cloth etcResumption of use Consider the characteristics ofeach type of disinfectant used and the purpose of thefacility After disinfection the virus is killed but thedecision at the time of resumption of use cannot beapplied in batch due to different characteristics ofdisinfectants so it is necessary to consider the precautions for each productFor details on disinfecting methods such as surfacedisinfection and washing refer to \\u009cDisinfectionGuidelines to Prevent the Spread of COVID19 atPublic and Multipurpose Facilities 3rd edition\\u009dRefer to the method of disinfecting the patient spaceareaSelect an environmental disinfectant Select an approved or declared disinfectant by the Ministry ofEnvironment and follow the usage usage and precautions for each product Disinfectant list of the Ministry of Environmenthttpecolifemegokr Precautions when using environmentaldisinfectants Select the disinfectant after confirming informationsuch as approval from the Ministry of Environmentand Environment When using environmental sterilizers make sure tofollow the manufacturer\\u0099s recommendations suchas checking the expiration date safe usage for eachproduct and precautions and preparing the diluentaccording to the manufacturer\\u0099s instructions The disinfecting method of sprayinginjecting disinfectant is not applied to surface disinfectionbecause it causes aerosol infection increased riskof inhalation and the range of contact between thedisinfectant and the surface is insufficient so thedisinfecting effect is insufficient Disinfectant hazard information must be checkedand used carefully Do not mix different disinfectants Do not placenear flammable materials Disinfectant should beused in a wellventilated area As the disinfection effect may decrease over timedilute as much as necessary and use it immediatelyDo not store the remaining amount and discard itimmediately Laundry managementStore clean laundry in a separate space Employees handling laundry should be trained toprevent infection Employees handling contaminated laundry shouldwear PPE N95 masks or equivalent respiratory protection gowns gloves overshoes etc and performhand hygiene after removing PPE The laundry used for the patient is disposed of according to the relevant regulations see WasteManagement Act Medical Institution LaundryManagement Rules etc Thoroughly ensure that pathogens are not exposed topersonnel handling the laundry or surrounding environment during the entire process of collectingtransporting and washing laundry Waste management Waste related to COVID19 patients is managed bythe rules of hospital infectious control policySharp tools such as needles or blades are collectedin containers for impervious and nonpermanentwaste and containers should be stored in the placewhere the items are usedSimple infectious waste contaminated or possiblycontaminated with COVID19 patients\\u0099 sample isautoclaved and discarded Radioactive waste shouldbe discarded in compliance with national regulationwith caution not to contaminate the staff or areaConclusionConsidering that outbreaks of novel viruses have been periodically appearing these days nuclear medicine staffs should getused to guidance and policies for infectious disease in working 0cNucl Med Mol Imaging  \\u0093place to protect patients worker themselves and furthermorevaluable medical resources Basically this guidance can beapplied in case of any other humantohuman transmissiondisease for operating the nuclear medicine department Alsoalways bear in mind the rapid change in the situation thisguidance should be used in conjunction with the currentgovernment and local hospital policiesCompliance with Ethical StandardsConflict of InterestJiIn Bang HoYoung Lee Young Seok ChoHongyoon Choi Ari Chong Jae Sun Eo Ji Young Kim Tae SungKim HyunWoo Kwon Eun Jeong Lee Eun Seong Lee Hye LimPark Soo Bin Park Hyekyung Shim BongIl Song Ik Dong YooKyung Jae Lee Hong Jae Lee Su Ha Han Jin Seo Lee Jung Mi Parkand Sung Hoon Kim declare that they have no conflict of interestEthical Approval This work does not contain any studies with humanparticipants or animals performed by any of the authorsInformed Consent Not applicableReferences Paez D Gnanasegaran G Fanti S Bomanji J Hacker M SathekgeM et al COVID19 pandemic guidance for nuclear medicine departments Eur J Nucl Med Mol \\u0093 Skali H Murthy VL AlMallah MH Bateman TM Beanlands RBetter N et al Guidance and best practices for nuclear cardiologylaboratories during the coronavirus disease  COVID19 pandemic an information statement from ASNC and SNMMI J NuclCardiol \\u0093 httpsdoiorg101007s12350020021232 Huang HL Allie R Gnanasegaran G Bomanji J COVID19\\u0093nuclear medicine departments be prepared NuclMedCommun MossaBasha M Medverd J Linnau K Lynch JB Wener MHKicska G et al Policies and guidelines for COVID19 preparedness experiences from the University of Washington Radiology httpsdoiorg101148radiol2020201326 Zhang X Shao F Lan X Suggestions for safety and protectioncontrol in Department of Nuclear Medicine during the outbreak ofCOVID19 Eur J Nucl Med Mol \\u0093 Buscombe JR Notghi A Croasdale J Pandit M O'Brien J GrahamR et al COVID19 guidance for infection prevention and controlin nuclear medicine Nucl Med Commun \\u0093 Standard guideline for healthcareassociated infection control andprevention Korean Center for Disease Control and Prevention andKorean Society for HealthcareAssociated Infection Control andPrevention  httpcdcgokrCDCcmscontentmobile2675626_viewhtml Accessed 2nd Jun  Korean Society for HealthcareAssociated Infection Control andPrevention Korean Center for Disease Control and Preventionhttpwwwcdcgokrboardesmida20507020000bid0019actviewlist_no366579 Accessed 2nd Jun  Guidelines in response to coronavirus disease for local governmentKorea Centers of Disease Control and Prevention2020 httpswwwcdcgokrboardboardesmida20507020000bid0019actviewlist_no367279tagnPage1 Accessed 2ndJun  Disinfection guidelines to prevent the spread of COVID19 at public and multipurpose facilities Korea Centers of Disease Controland Prevention  httpswwwcdcgokrboardboardesmida20507020000bid0019 Acessed 15th Jun Publisher\\u0099s Note Springer Nature remains neutral with regard to jurisdictional claims in published maps and institutional affiliations 0c\\\"\"\n        ],\n        \"semantic_type\": \"\",\n        \"description\": \"\"\n      }\n    }\n  ]\n}",
              "type": "dataframe",
              "variable_name": "df"
            },
            "text/html": [
              "\n",
              "  <div id=\"df-41d42674-bc1e-4b32-bba7-9692dd99077a\" class=\"colab-df-container\">\n",
              "    <div>\n",
              "<style scoped>\n",
              "    .dataframe tbody tr th:only-of-type {\n",
              "        vertical-align: middle;\n",
              "    }\n",
              "\n",
              "    .dataframe tbody tr th {\n",
              "        vertical-align: top;\n",
              "    }\n",
              "\n",
              "    .dataframe thead th {\n",
              "        text-align: right;\n",
              "    }\n",
              "</style>\n",
              "<table border=\"1\" class=\"dataframe\">\n",
              "  <thead>\n",
              "    <tr style=\"text-align: right;\">\n",
              "      <th></th>\n",
              "      <th>class_label</th>\n",
              "      <th>research_paper</th>\n",
              "    </tr>\n",
              "  </thead>\n",
              "  <tbody>\n",
              "    <tr>\n",
              "      <th>0</th>\n",
              "      <td>2</td>\n",
              "      <td>Thyroid surgery in  children in a single insti...</td>\n",
              "    </tr>\n",
              "    <tr>\n",
              "      <th>1</th>\n",
              "      <td>2</td>\n",
              "      <td>\" The adopted strategy was the same as that us...</td>\n",
              "    </tr>\n",
              "    <tr>\n",
              "      <th>2</th>\n",
              "      <td>2</td>\n",
              "      <td>coronary arterybypass grafting thrombosis ï¬b...</td>\n",
              "    </tr>\n",
              "    <tr>\n",
              "      <th>3</th>\n",
              "      <td>2</td>\n",
              "      <td>Solitary plasmacytoma SP of the skull is an u...</td>\n",
              "    </tr>\n",
              "    <tr>\n",
              "      <th>4</th>\n",
              "      <td>2</td>\n",
              "      <td>This study aimed to investigate serum matrix ...</td>\n",
              "    </tr>\n",
              "  </tbody>\n",
              "</table>\n",
              "</div>\n",
              "    <div class=\"colab-df-buttons\">\n",
              "\n",
              "  <div class=\"colab-df-container\">\n",
              "    <button class=\"colab-df-convert\" onclick=\"convertToInteractive('df-41d42674-bc1e-4b32-bba7-9692dd99077a')\"\n",
              "            title=\"Convert this dataframe to an interactive table.\"\n",
              "            style=\"display:none;\">\n",
              "\n",
              "  <svg xmlns=\"http://www.w3.org/2000/svg\" height=\"24px\" viewBox=\"0 -960 960 960\">\n",
              "    <path d=\"M120-120v-720h720v720H120Zm60-500h600v-160H180v160Zm220 220h160v-160H400v160Zm0 220h160v-160H400v160ZM180-400h160v-160H180v160Zm440 0h160v-160H620v160ZM180-180h160v-160H180v160Zm440 0h160v-160H620v160Z\"/>\n",
              "  </svg>\n",
              "    </button>\n",
              "\n",
              "  <style>\n",
              "    .colab-df-container {\n",
              "      display:flex;\n",
              "      gap: 12px;\n",
              "    }\n",
              "\n",
              "    .colab-df-convert {\n",
              "      background-color: #E8F0FE;\n",
              "      border: none;\n",
              "      border-radius: 50%;\n",
              "      cursor: pointer;\n",
              "      display: none;\n",
              "      fill: #1967D2;\n",
              "      height: 32px;\n",
              "      padding: 0 0 0 0;\n",
              "      width: 32px;\n",
              "    }\n",
              "\n",
              "    .colab-df-convert:hover {\n",
              "      background-color: #E2EBFA;\n",
              "      box-shadow: 0px 1px 2px rgba(60, 64, 67, 0.3), 0px 1px 3px 1px rgba(60, 64, 67, 0.15);\n",
              "      fill: #174EA6;\n",
              "    }\n",
              "\n",
              "    .colab-df-buttons div {\n",
              "      margin-bottom: 4px;\n",
              "    }\n",
              "\n",
              "    [theme=dark] .colab-df-convert {\n",
              "      background-color: #3B4455;\n",
              "      fill: #D2E3FC;\n",
              "    }\n",
              "\n",
              "    [theme=dark] .colab-df-convert:hover {\n",
              "      background-color: #434B5C;\n",
              "      box-shadow: 0px 1px 3px 1px rgba(0, 0, 0, 0.15);\n",
              "      filter: drop-shadow(0px 1px 2px rgba(0, 0, 0, 0.3));\n",
              "      fill: #FFFFFF;\n",
              "    }\n",
              "  </style>\n",
              "\n",
              "    <script>\n",
              "      const buttonEl =\n",
              "        document.querySelector('#df-41d42674-bc1e-4b32-bba7-9692dd99077a button.colab-df-convert');\n",
              "      buttonEl.style.display =\n",
              "        google.colab.kernel.accessAllowed ? 'block' : 'none';\n",
              "\n",
              "      async function convertToInteractive(key) {\n",
              "        const element = document.querySelector('#df-41d42674-bc1e-4b32-bba7-9692dd99077a');\n",
              "        const dataTable =\n",
              "          await google.colab.kernel.invokeFunction('convertToInteractive',\n",
              "                                                    [key], {});\n",
              "        if (!dataTable) return;\n",
              "\n",
              "        const docLinkHtml = 'Like what you see? Visit the ' +\n",
              "          '<a target=\"_blank\" href=https://colab.research.google.com/notebooks/data_table.ipynb>data table notebook</a>'\n",
              "          + ' to learn more about interactive tables.';\n",
              "        element.innerHTML = '';\n",
              "        dataTable['output_type'] = 'display_data';\n",
              "        await google.colab.output.renderOutput(dataTable, element);\n",
              "        const docLink = document.createElement('div');\n",
              "        docLink.innerHTML = docLinkHtml;\n",
              "        element.appendChild(docLink);\n",
              "      }\n",
              "    </script>\n",
              "  </div>\n",
              "\n",
              "\n",
              "<div id=\"df-3e30f72f-d67f-4df6-ad32-fca79a685775\">\n",
              "  <button class=\"colab-df-quickchart\" onclick=\"quickchart('df-3e30f72f-d67f-4df6-ad32-fca79a685775')\"\n",
              "            title=\"Suggest charts\"\n",
              "            style=\"display:none;\">\n",
              "\n",
              "<svg xmlns=\"http://www.w3.org/2000/svg\" height=\"24px\"viewBox=\"0 0 24 24\"\n",
              "     width=\"24px\">\n",
              "    <g>\n",
              "        <path d=\"M19 3H5c-1.1 0-2 .9-2 2v14c0 1.1.9 2 2 2h14c1.1 0 2-.9 2-2V5c0-1.1-.9-2-2-2zM9 17H7v-7h2v7zm4 0h-2V7h2v10zm4 0h-2v-4h2v4z\"/>\n",
              "    </g>\n",
              "</svg>\n",
              "  </button>\n",
              "\n",
              "<style>\n",
              "  .colab-df-quickchart {\n",
              "      --bg-color: #E8F0FE;\n",
              "      --fill-color: #1967D2;\n",
              "      --hover-bg-color: #E2EBFA;\n",
              "      --hover-fill-color: #174EA6;\n",
              "      --disabled-fill-color: #AAA;\n",
              "      --disabled-bg-color: #DDD;\n",
              "  }\n",
              "\n",
              "  [theme=dark] .colab-df-quickchart {\n",
              "      --bg-color: #3B4455;\n",
              "      --fill-color: #D2E3FC;\n",
              "      --hover-bg-color: #434B5C;\n",
              "      --hover-fill-color: #FFFFFF;\n",
              "      --disabled-bg-color: #3B4455;\n",
              "      --disabled-fill-color: #666;\n",
              "  }\n",
              "\n",
              "  .colab-df-quickchart {\n",
              "    background-color: var(--bg-color);\n",
              "    border: none;\n",
              "    border-radius: 50%;\n",
              "    cursor: pointer;\n",
              "    display: none;\n",
              "    fill: var(--fill-color);\n",
              "    height: 32px;\n",
              "    padding: 0;\n",
              "    width: 32px;\n",
              "  }\n",
              "\n",
              "  .colab-df-quickchart:hover {\n",
              "    background-color: var(--hover-bg-color);\n",
              "    box-shadow: 0 1px 2px rgba(60, 64, 67, 0.3), 0 1px 3px 1px rgba(60, 64, 67, 0.15);\n",
              "    fill: var(--button-hover-fill-color);\n",
              "  }\n",
              "\n",
              "  .colab-df-quickchart-complete:disabled,\n",
              "  .colab-df-quickchart-complete:disabled:hover {\n",
              "    background-color: var(--disabled-bg-color);\n",
              "    fill: var(--disabled-fill-color);\n",
              "    box-shadow: none;\n",
              "  }\n",
              "\n",
              "  .colab-df-spinner {\n",
              "    border: 2px solid var(--fill-color);\n",
              "    border-color: transparent;\n",
              "    border-bottom-color: var(--fill-color);\n",
              "    animation:\n",
              "      spin 1s steps(1) infinite;\n",
              "  }\n",
              "\n",
              "  @keyframes spin {\n",
              "    0% {\n",
              "      border-color: transparent;\n",
              "      border-bottom-color: var(--fill-color);\n",
              "      border-left-color: var(--fill-color);\n",
              "    }\n",
              "    20% {\n",
              "      border-color: transparent;\n",
              "      border-left-color: var(--fill-color);\n",
              "      border-top-color: var(--fill-color);\n",
              "    }\n",
              "    30% {\n",
              "      border-color: transparent;\n",
              "      border-left-color: var(--fill-color);\n",
              "      border-top-color: var(--fill-color);\n",
              "      border-right-color: var(--fill-color);\n",
              "    }\n",
              "    40% {\n",
              "      border-color: transparent;\n",
              "      border-right-color: var(--fill-color);\n",
              "      border-top-color: var(--fill-color);\n",
              "    }\n",
              "    60% {\n",
              "      border-color: transparent;\n",
              "      border-right-color: var(--fill-color);\n",
              "    }\n",
              "    80% {\n",
              "      border-color: transparent;\n",
              "      border-right-color: var(--fill-color);\n",
              "      border-bottom-color: var(--fill-color);\n",
              "    }\n",
              "    90% {\n",
              "      border-color: transparent;\n",
              "      border-bottom-color: var(--fill-color);\n",
              "    }\n",
              "  }\n",
              "</style>\n",
              "\n",
              "  <script>\n",
              "    async function quickchart(key) {\n",
              "      const quickchartButtonEl =\n",
              "        document.querySelector('#' + key + ' button');\n",
              "      quickchartButtonEl.disabled = true;  // To prevent multiple clicks.\n",
              "      quickchartButtonEl.classList.add('colab-df-spinner');\n",
              "      try {\n",
              "        const charts = await google.colab.kernel.invokeFunction(\n",
              "            'suggestCharts', [key], {});\n",
              "      } catch (error) {\n",
              "        console.error('Error during call to suggestCharts:', error);\n",
              "      }\n",
              "      quickchartButtonEl.classList.remove('colab-df-spinner');\n",
              "      quickchartButtonEl.classList.add('colab-df-quickchart-complete');\n",
              "    }\n",
              "    (() => {\n",
              "      let quickchartButtonEl =\n",
              "        document.querySelector('#df-3e30f72f-d67f-4df6-ad32-fca79a685775 button');\n",
              "      quickchartButtonEl.style.display =\n",
              "        google.colab.kernel.accessAllowed ? 'block' : 'none';\n",
              "    })();\n",
              "  </script>\n",
              "</div>\n",
              "    </div>\n",
              "  </div>\n"
            ],
            "text/plain": [
              "   class_label                                     research_paper\n",
              "0            2  Thyroid surgery in  children in a single insti...\n",
              "1            2  \" The adopted strategy was the same as that us...\n",
              "2            2  coronary arterybypass grafting thrombosis ï¬b...\n",
              "3            2   Solitary plasmacytoma SP of the skull is an u...\n",
              "4            2   This study aimed to investigate serum matrix ..."
            ]
          },
          "execution_count": 10,
          "metadata": {},
          "output_type": "execute_result"
        }
      ],
      "source": [
        "df.head()"
      ]
    },
    {
      "cell_type": "code",
      "execution_count": null,
      "metadata": {
        "id": "XRaIi4TevAs2"
      },
      "outputs": [],
      "source": [
        "df.research_paper = df['research_paper'].str.lower()"
      ]
    },
    {
      "cell_type": "code",
      "execution_count": null,
      "metadata": {
        "id": "caalYw-YwFe0"
      },
      "outputs": [],
      "source": [
        "df['token'] = df.research_paper.apply(word_tokenize)"
      ]
    },
    {
      "cell_type": "code",
      "execution_count": null,
      "metadata": {
        "id": "4xpmSwXwupLD"
      },
      "outputs": [],
      "source": [
        "stop_words = set(stopwords.words('english'))"
      ]
    },
    {
      "cell_type": "code",
      "execution_count": null,
      "metadata": {
        "id": "wj-yTtLqu_ld"
      },
      "outputs": [],
      "source": [
        "df['clean_token'] = df['token'].apply(lambda x: [item for item in x\n",
        "                                                                   if (item not in stop_words and item.isalpha())])"
      ]
    },
    {
      "cell_type": "code",
      "execution_count": null,
      "metadata": {
        "id": "uxXd7TH2E3DH"
      },
      "outputs": [],
      "source": [
        "lemmatizer = WordNetLemmatizer()\n",
        "df['clean_token'] = df['clean_token'].apply(lambda tokens: [lemmatizer.lemmatize(token) for token in tokens])"
      ]
    },
    {
      "cell_type": "code",
      "execution_count": null,
      "metadata": {
        "colab": {
          "base_uri": "https://localhost:8080/",
          "height": 206
        },
        "id": "IEYQRl2Kw0s2",
        "outputId": "cc4a3e27-9084-4846-e19e-579022b389fb"
      },
      "outputs": [
        {
          "data": {
            "application/vnd.google.colaboratory.intrinsic+json": {
              "summary": "{\n  \"name\": \"df\",\n  \"rows\": 996,\n  \"fields\": [\n    {\n      \"column\": \"class_label\",\n      \"properties\": {\n        \"dtype\": \"number\",\n        \"std\": 0,\n        \"min\": 0,\n        \"max\": 2,\n        \"num_unique_values\": 3,\n        \"samples\": [\n          2,\n          0,\n          1\n        ],\n        \"semantic_type\": \"\",\n        \"description\": \"\"\n      }\n    },\n    {\n      \"column\": \"research_paper\",\n      \"properties\": {\n        \"dtype\": \"string\",\n        \"num_unique_values\": 996,\n        \"samples\": [\n          \"\\\"the normalized results are expressed as the relative mrna level. the comparison between pre-/post-treatment groups was performed by modified paired t-test using the limma package. fluorescence in situ hybridization (fish) samples were tested for alk rearrangements by fish (vysis alk break apart fish probe kit) as previously described30. gene expression analysis rna from cell lines and controls was prepared labeled and hybridized to illumina ht-12 array. for analysis the sample probe profile data in the genespring export format was transformed to log-2 scale and normalized using quantile method by applying beadarray package31 in bioconductor 2.11. four duplicated samples were averaged to reduce the total sample size to 9 across three groups. the comparison between drug sensitive and drug resistant groups was performed using limma package. the significantly changed probes were identified by moderated t statistics. the p-values from moderated t-tests were adjusted by benjamini and hochberg's method to control false discovery rate. the microarray data reported in this  have been deposited in ncbi's gene expression omnibus (geo) database www.ncbi.nlm.nih.gov/geo (accession no. gse49508 url: http://www.ncbi.nlm.nih.gov/geo/query/acc.cgi?acc=gse49508). xenograft studies nude mice (nu/nu; harlan laboratories) were used for in vivo studies and were cared for in accordance with guidelines approved by the memorial sloan-kettering cancer center institutional animal care and use committee and research animal resource center. 8 week old female mice were injected subcutaneously with 5 million h3122 cells together with matrigel. once tumors reached an average volume of 100 mm3 mice were randomized to the different treatment cohorts. for the experiment in supplementary fig. 1f mice were randomized to receive either crizotinib alone mab391 alone crizotinib + mab391 or vehicle control (n = 6 for vehicle alone crizotinib and crizotinib + mab391. n = 5 for mab391 only). crizotinib was administered at 50 mg kg?1 p.o. daily \\u0097 5 days. mab391 was administered at 1 mg i.p. every 3 days. for the experiment in fig. 6b mice were randomized to receive crizotinib alone (50 mg kg?1 p.o. daily \\u0097 5 days) ldk-378 alone (50 mg kg?1 p.o. daily \\u0097 5 days) or vehicle control (n = 5 for crizotinib and ldk-378 n = 4 for vehicle control). mice were observed daily throughout the treatment period for signs of morbidity/mortality. tumors were measured twice weekly using calipers and volume was calculated using the formula: length \\u0097 width2 \\u0097 0.52. body weight was also assessed twice weekly. p values were determined with the wilcoxon rank sum test. eml4-alk (e13;a20) transgenic mice genetically engineered mice harboring the eml4-alk e13;a20 fusion variant has been previously reported13. three month old mice from both genders were used in the described studies. all animal treatment studies were reviewed and approved by the iacuc at the dana-farber cancer institute. tumor biopsy samples all patient tumor biopsy samples were obtained under institutional review board (irb) approved protocols (vanderbilt university irb# 050644 memorial sloan-kettering cancer center irb #10-136 university hospital of cologne irb #06037 peter maccallum cancer center irb#08/71). written informed consent was obtained from all patients. all samples were deidentified and protected health information was reviewed according to the health insurance portability and accountability act (hipaa) guidelines. for the index patient's tumor clinical genotyping was performed using the snapshot platform as previously described32. immunohistochemistry tumors were pathologically identified and classified according to who guidelines. briefly 3 ?m thick sections of ffpe tumors were deparaffinized. for pigf-1r staining antigen retrieval was performed by boiling the section in citrate buffer at ph 6 for 25 minutes. for irs-1 staining no pretreatment was necessary. primary antibodies were used as follows: pigf-1r (py1161) (ab39398 1:100 ph 6 abcam inc.) irs-1 (ab40777 1:100 abcam inc.). corresponding secondary antibodies and detection kits were used (enhancer: post antibody blocking for bright vision plus; immuno logic c-dpvb blocking and polymer: poly-hrp-gam/r/r igg; immuno logic c-dpvb999hrp brightvision+ cat #dpvb999hrp immunologic duiven the netherlands www.immunologic.nl) and stained on an automated stainer (labvision autostainer 480s thermo scientific). staining intensities were individually evaluated by 3 independent observers. supplementary material 1 acknowledgements this work was supported by the vicc cancer center core grant (p30-ca68485) a career development award from the vanderbilt specialized program of research excellence in lung cancer grant (ca90949) nci grants r01ca121210 and p01ca129243 and by the joyce family foundation. cml was additionally supported by an nih k12 training grant (k12 ca9060625) an asco young investigator award a uniting against lung cancer grant and a damon runyon clinical investigator award. cml was the carol and jim o'hare chief fellow from 7/1/2011 through 6/30/2012. lch and rb were supported by the deutsche forschungsgemeinschaft (sfb 832 tumormicromilieu) and the german cancer aid (cio k\\u00b6ln bonn).\\\"\",\n          \"\\\"confidence. if you choose not to take part in this survey it will not affect the care you receive from the nhs in any way. please do not write your name and address anywhere on the questionnaire as this information is not required. no information you give in this questionnaire will be shared in a way that allows you to be identified. how to complete the survey and how long it will take. the questionnaire is short and will take 5\\u009310?min to complete. please try to answer every question. please return your questionnaire even if you have not answered every question. if english is not your first language or if you if you have difficulty understanding the questions then please ask a relative or carer to help you complete the questionnaire. questions or help? if you have any questions please contact your local lung clinical nurse specialist team. please select one answer to each question by placing a in the appropriate box. there is space at the end of the survey for you to write any comments. this work is published under the standard license to publish agreement. after 12 months the work will become freely available and the license terms will switch to a creative commons attribution-noncommercial-share alike 3.0 unported license. abdel-rahman m stockton d rachet b hakulinen t coleman mp 2009 what if cancer survival in britain were the same as in europe: how many deaths are avoidable br j cancer 101 (suppl 2 s115 s124 19956155 aveling el martin g jimnez garc\\u00ada s martin l herbert g armstrong n dixon-woods m woolhouse i 2012 reciprocal peer review for quality improvement: an ethnographic case study of the improving lung cancer outcomes project bmj qual saf 21 1034 1041 beckett p woolhouse i stanley r peake md 2012 exploring variations in lung cancer care across the uk-the \\u0098story so far' for the national lung cancer audit clin med 12 14 18 22372213 department of health2012national cancer patients' experience survey programme 2012/13. england. health and social care information centre2012national lung cancer audit report. institute for healthcare improvement2003the breakthrough series: ihi's collaborative model for achieving breakthrough improvement. boston. khakwani a rich al powell ha tata lj stanley ra baldwin dr duffy jp hubbard rb 2013 lung cancer survival in england: trends in non-small-cell lung cancer survival over the duration of the national lung cancer audit br j cancer 109 (8 2058 2065 24052044 kwon s florence m grigas p horton m horvath k johnson m jurkovich g klamp w peterson k quigley t raum w rogers t thirlby r farrokhi e flum d 2012 creating a learning healthcare system in surgery: washington state's surgical care and outcomes assessment program (scoap) at 5 years surgery 151 146 152 22129638 national institute for health and care excellence 2011 the diagnosis and treatment of lung cancer (update of nice clinical guideline 24) clinical guidelines cg121 london uk pronovost p needham d berenholtz s sinopoli d chu h cosgrove s sexton b hyzy r welsh r roth g bander j kepros j goeschel c 2006 an intervention to decrease catheter-related bloodstream infections in the icu n engl j med 355 2725 2732 17192537 roberts cm stone ra buckingham rj pursey na lowe d potter jm 2012 a randomized trial of peer review: the uk national chronic obstructive pulmonary disease resources and outcomes project: three-year evaluation j eval clin pract 18 (3 599 605 21332611 walters s maringe c coleman mp peake md butler j young n bergstr\\u00b6m s hanna l jakobsen e k\\u00b6lbeck k sundstr\\u00b8m s engholm g gavin a gjerstorff ml hatcher j johannesen tb linklater km mcgahan ce steward j tracey e turner d richards ma rachet b icbp module 1 working group 2013 lung cancer survival and stage at diagnosis in australia canada denmark norway sweden and the uk: a population-based study 2004-2007 thorax 68 551 564 23399908 wise j 2010 health atlas shows large variations in care in england bmj 341 c6809 c6809  study timelines.  consort diagram disposal of eligible trusts including screening randomisation and follow-up.  run chart showing the waiting times from the multidisciplinary team meeting to the first treatment for 10 consecutive small-cell lung cancer patients following the implementation of the quality improvement plan at one trust in the intervention group.  mean change in national lung cancer audit metrics from baseline (2009) to 2011. p=0.055 active treatment\\u0094intervention vs controls. intervention n=31 trusts control n=47 trusts and non-intervention (control and non-participants combined) n=66 trusts. abbreviations: cns clinical nurse specialist; mdt multidisciplinary team; sclc small-cell lung cancer.  total patient questionnaire scores by the multidisciplinary team in the intervention group at baseline (pre) and at the end of the study (post). a low score indicates better experience. each symbol represents the mean score for each trust in the intervention group. the maximum possible score for the questionnaire is 11.  quality improvement plan themes quality improvement plan theme number of plans multidisciplinary team effectiveness 31 diagnostic pathways 13 treatment pathways 9 access to clinical nurse specialists 8 clinical trial recruitment 4 patient experience 2  baseline (2009) national lung cancer audit indicators   control ( n =47) intervention ( n =31) excluded ( n =67) p -value   mean (%) s.e.m. mean (%) s.e.m. mean (%) s.e.m. control vs intervention vs non-participant control vs intervention case ascertainment 158.1 38.6 122.0 7.2 107.4 3.6 0.220 0.455 discussed at the mdt meeting 95.2 0.7 93.7 1.7 90.9 1.9 0.155 0.370 histological confirmation rate 75.7 1.2 76.4 1.8 78.4 1.6 0.409 0.739 active treatment 59.5 1.2 55.9 2.2 59.5 1.5 0.305 0.131 surgery (all cases) 13.4 0.6 13.0 0.8 14.2 0.7 0.469 0.648 sclc (chemo) 65.1 2.2 66.5 3.9 63.3 2.7 0.746 0.733 seen by cns 70.3 3.8 76.6 3.2 58.3 4.2 0.007 0.243 cns present diagnosis 44.0 3.8 49.4 5.4 38.7 3.8 0.237 0.403 abbreviations: cns=clinical nurse specialist; mdt=mulitdisciplinary team; sclc=small-cell lung cancer. data are shown as mean and s.e. proportion of patients. bmc cancer bmc cancer bmc cancer 1471-2407 biomed central 24386906 3893473 1471-2407-14-3 10.1186/1471-2407-14-3 study protocol study protocol of a randomized controlled trial comparing mindfulness-based stress reduction with treatment as usual in reducing psychological distress in patients with lung cancer and their partners: the milon study schellekens melanie pj 1 melanie.schellekensradboudumc.nl van den hurk desiree gm 2 desiree.vandenhurkradboudumc.nl prins judith b 3 judith.prinsradboudumc.nl molema johan 2 johan.molemaradboudumc.nl donders a rogier t 4 rogier.dondersradboudumc.nl woertman willem h 4 willem.woertmanradboudumc.nl van der drift miep a 2 miep.vanderdriftradboudumc.nl speckens anne em 1 anne.speckensradboudumc.nl 1department of psychiatry radboud university nijmegen medical centre nijmegen the netherlands 2department of pulmonary diseases radboud university nijmegen medical centre nijmegen the netherlands 3department of medical psychology radboud university nijmegen medical centre nijmegen the netherlands 4department of epidemiology biostatistics and health technology assessment radboud university nijmegen medical centre nijmegen the netherlands 2014 3 1 2014 14 3 3 28 6 2013 19 12 2013 copyright  2014 schellekens et al.; licensee biomed central ltd. 2014 schellekens et al.; licensee biomed central ltd. this is an open access  distributed under the terms of the creative commons attribution license (http://creativecommons./licenses/by/2.0) which permits unrestricted use distribution and reproduction in any medium provided the original work is properly cited. background lung cancer is the leading cause of cancer death worldwide and characterized by a poor prognosis. it has a major impact on the psychological wellbeing of patients and their partners. recently it has been shown that mindfulness-based stress reduction (mbsr) is effective in reducing anxiety and depressive symptoms in cancer patients. the generalization of these results is limited since most participants were female patients with breast cancer. moreover only one study examined the effectiveness of mbsr in partners of cancer patients. therefore in the present trial we study the effectiveness of mbsr versus treatment as usual (tau) in patients with lung cancer and their partners. methods/design a parallel group randomized controlled trial is conducted to compare mbsr with tau. lung cancer patients who have received or are still under treatment and their partners are recruited. assessments will take place at baseline post intervention and at three-month follow-up. the primary outcome is psychological distress (i.e. anxiety and depressive symptoms). secondary outcomes are quality of life (only for patients) caregiver appraisal (only for partners) relationship quality and spirituality. in addition cost-effectiveness ratio (only in patients) and several process variables are assessed. discussion this trial will provide information about the clinical and cost-effectiveness of mbsr compared to tau in patients with lung cancer and their partners. trial registration clinicaltrials.gov nct01494883. mindfulness-based stress reduction lung cancer patients partners psychological distress randomized controlled trial background with an estimated 1.4 million deaths per year lung cancer is the leading cause of death by cancer worldwide. even with the best available treatment five-year survival is merely 16% and about 60 to 70% of patients die within the first year after diagnosis [1]. this poor prognosis is often caused by a late diagnosis as the presentation usually occurs when the lung cancer is advanced. patients may develop burdensome symptoms like pain dyspnoea fatigue and cough and they may undergo radical treatment including surgery chemo- and radiotherapy. not surprisingly lung cancer has a major impact on the psychological wellbeing of patients and their family. akechi and colleagues [2] showed that 19% of patients with advanced lung cancer meets the criteria of psychiatric disorders especially depressive and adjustment disorders. of patients who had been successfully treated for lung cancer 15% met the criteria for a minor or major depressive disorder [3]. the prevalence rate of depressive and anxiety symptoms among lung cancer patients ranges from 20 to 47% [4-7]. compared to patients with other cancer diagnoses lung cancer patients report the highest rates of distress (43 to 58%) [89] resulting in a lower quality of life [10]. family friends and especially partners of patients with lung cancer also have to deal with its psychological impact [11-14]. partners not only provide emotional and practical support they also have to cope with their own concerns including the uncertainty regarding the course of the illness and the fear of losing their partner [15]. more than 50% of partners of lung cancer patients report negative emotional effects of caregiving [16]. around 40% of partners of patients with advanced lung cancer report high levels of distress [17]. the relationship between patient and partner can also be affected by the cancer. it has been shown that some partners report a lower quality of their relationship after the diagnosis of lung cancer [18]. though numerous studies examined the psychological distress of lung cancer patients and their partners [2-22] not much research is done on how to alleviate distress in these groups [23]. in addition the available studies on managing the psychosocial care needs of cancer patients and their families have focused on care at the very end of life (e.g. [24-26]). recently studies have demonstrated that palliative care initiated early in treatment improves the quality of life and depressive symptoms of lung cancer patients [1027]. this stresses the importance of integrating psychosocial care for lung cancer patients and their partners early in the treatment rather than instigating it once life-prolonging therapies fail. in the past ten years mbsr has become a promising psychosocial intervention for cancer patients. mindfulness is defined as intentionally paying attention to moment-by-moment experiences in a non-judgmental way [28]. mbsr is an 8-week group-based training consisting of meditation practices such as the bodyscan gentle yoga sitting and walking meditation. by repeatedly bringing attention back to the current experience participants gradually learn to disengage from dysfunctional thoughts and directly experience the emotions and bodily sensations of the present moment. mbsr aims to provide participants with the ability to step back from ruminating about the past or worrying about the future and simply allow experiences to unfold [2829]. a recent meta-analysis [30] of 13 nonrandomized studies and 9 randomized controlled trials (rct) concluded there is positive evidence for the use of mindfulness-based interventions in reducing psychological distress in cancer patients. among the rct\\u0099s a reduction in symptom severity was found for both anxiety and depression corresponding to moderate pooled controlled effect sizes (hedges\\u0099s g = 0.37 and hedges\\u0099s g = 0.44 respectively) [30]. though mindfulness-based interventions seem to be effective the authors note that across studies the majority of participants were women (85%) and diagnosed with breast cancer (77%). compared to breast cancer patients patients with lung cancer are more often male older and have a poorer prognosis. furthermore of these 22 studies only one study included the partners of the patients showing that partners also benefit from the mbsr training [31]. this is quite surprising since partners of cancer patients also report high levels of distress [32]. aims the aim of the mindfulness for lung oncology nijmegen (milon) study is to examine the effectiveness of mbsr compared to tau in reducing psychological distress in patients with lung cancer and their partners. we hypothesize that patients in the mbsr group will report a lower level of psychological distress (i.e. anxiety and depressive symptoms) higher levels of quality of life quality of relationship and spirituality than those in the tau group. medical and societal costs will be lower in the mbsr versus tau group. we expect partners in the mbsr group to report a lower level of psychological distress and higher levels of caregiver appraisal relationship quality and spirituality than their counterparts in the tau group. with regard to the working mechanisms of the mbsr programme we will examine changes in mindfulness skills self-compassion rumination intrusion avoidance and adherence to mbsr. methods/design study design the design of the \\u0098milon\\u0099 study is a parallel group randomized controlled trial with an embedded process study. participants are randomized between mbsr and tau. the study protocol has been approved by our ethical review board (cmo arnhem-nijmegen) and registered under number 2011\\u0093519. participants and procedure patients and partners are recruited at the outpatient \\\"\",\n          \"\\\"dramatic spread of coronavirus disease  covid19 has profound impacts on every continent and life due to humantohuman transmission of covid19 nuclear medicine staffs also cannot escape the risk of infection from workplaces everystaff in the nuclear medicine department must prepare for and respond to covid19 pandemic which tailored to the characteristics of our profession this  provided the guidance prepared by the korean society of nuclear medicine ksnm incooperation with the korean society of infectious disease ksid and korean society for healthcareassociated infectioncontrol and prevention koshic in managing the covid19 pandemic for the nuclear medicine department we hope that thisguidance will support every practice in nuclear medicine during this chaotic periodkeywords coronavirus  covid19  nuclear medicine  prevention and control  practice guideline hoyoung leedebobkrgmailcom department of nuclear medicine cha bundang medical centercha university of medicine professor pocheon republic ofkorea department of nuclear medicine seoul national universitybundang hospital professor seongnam gyeonggido republic ofkorea department of nuclear medicine samsung medical centerseoul republic of korea department of nuclear medicine seoul national universityhospital seoul republic of korea department of nuclear medicine chosun university hospitalgwangju republic of korea department of nuclear medicine korea university guro hospitalseoul republic of korea department of nuclear medicine hanyang university guri hospitalseoul republic of korea department of nuclear medicine national cancer centergoynag republic of korea department of nuclear medicine seoul medical centerseoul republic of korea division of nuclear medicine department of radiologyeunpyeong st mary\\u0099s hospital college of medicine the catholicuniversity of korea seoul republic of korea department of nuclear medicine soonchunhyang university seoulhospital bucheon republic of korea department of nuclear medicine inje university haeundae paikhospital busan republic of korea department of nuclear medicine keimyung university dongsanmedical center daegu republic of korea department of nuclear medicine soonchunhyang universitycheonan hospital cheonan republic of korea department of nursing soonchunhyang university bucheonhospital bucheon republic of korea division of infectious disease department of internal medicinekangdong sacred heart hospital hallym universitychuncheon republic of korea department of nuclear medicine soonchunhyang universitybucheon hospital bucheon republic of korea department of nuclear medicine korea university anam hospital korean society of nuclear medicine quality control committeeseoul republic of koreabucheon republic of korea 0cintroductionsince the first reports of coronavirus disease  covid in wuhan china the infection had spread worldwiderapidly and covid19 has reached pandemic levels insouth korea since its outbreak in february  covid has affected profoundly every aspect of communities thehumantohuman transmission of covid19 provides challenges for all healthcare facilities and healthcare providersin the face of the covid19 pandemic the korean societyof nuclear medicine ksnm korean society of infectiousdisease ksid and korean society for healthcareassociated infection control and prevention koshic haveprepared the guidance for the nuclear medicine department tominimize confusion and ensure that nuclear medicine physicians and technicians continue to provide their services whileprotecting the patients and workers and preventing the transmission of the virus the quality control committee ofksnm reviewed several reports and recommendations previously published by the european association of nuclearmedicine eanm [] society of nuclear medicine andmolecular imaging snmmi american society of nuclearcardiology asnc [] international atomic energy agencyiaea and others [\\u0093] this guidance is basically in compliance with the covid19 guidelines of the korea centersfor disease control and prevention kcdc [\\u0093] finallythis document was prepared in cooperation with ksid andkoshic ksnm emphasize that this guidance must be considered in the context of following the state and hospital infection control policies and flexibly applied according tochanges in circumstances and evidencegeneral principles during covid19pandemicin a pandemic situation such as covid19 if necessarythe condition of the scheduled patient can be checked inadvance to adjust the examination schedule nonurgent elective studies or therapy should be postponed in covid19confirmed or covid19suspectedpatients rescheduling the studiestherapy must be donein a discussion with the referring clinicians only urgent studies or therapy could be performed incovid19confirmed or covid19suspected patientswhenever clinically appropriate the priority of studytherapy should be based on a casebycase indepth discussion between nuclear medicine physicians and referring clinicians in case of performing the urgent studiestherapy consult with the infection control offices of eachinstitution to comply with the infection control rules ofownnucl med mol imaging  \\u0093 covid19suspected patients should undergo covid testing before performing the studiestherapy lung ventilation scan should not be performed in anycovid19confirmed or covid19suspected patients lowdose radioiodine therapy may be considered in caseof acute hyperthyroidism patients who are unable to tolerate antithyroid medications as lowdose radioiodinetherapy lower than  gbq of i131 can be performedin an outpatient setting in south korea covid19infected patient can be administrated lowdoseradioiodine in the isolation room or negative pressureroom without any additional monitoring related toradioiodine therapyconsideration during the studytherapy patient transportationscheduling covid19confirmed or covid19suspected patient as last study of the day to preventcrossinfection in the nuclear medicine department ensure that other patients or caregivers should notaccess the nuclear medicine department to minimizethe exposure to covid19 patient during the studytherapy transfer the covid19infected patient to the nuclear medicine department using negative pressuretransport bag to minimize exposure and contact todroplet covid19 patients should wear masks at all timesof procedures if necessary add gowns gloves etc devices and scanner management mainly use disposable instruments or items do notreuse disposable items such as oxygen masks nasalprongs suction tubes or suction lines the protocolfor reusable devices is as follows cleaning after use the equipment contaminated with blood bodyfluids secretions and feces should be delivered to awashing room with care not to contaminate the surrounding environment the washing place should be separated from the spaceused for cleaning other items or other patients after immersing the contaminated equipment in a washing spacewash the product carefully to avoid splashing wash enough to remove blood body fluids secretionsand feces from remaining 0cnucl med mol imaging  \\u0093 staff undertaking cleaning should wear kf94 or n95masks longsleeved waterproof gowns goggles or faceshields hats shoe covers or rubber boots and doublegloves outer gloves are rubber gloves disinfection and sterilization depending on the risk level of the device according tothe spaulding classification of medical equipmentdevices noncritical devices require lowlevel disinfectionsemicritical devices require highlevel disinfectionsterilization and critical devices must be sterilized disinfectants and sterilization methods by device classification should be followed in accordance with the notificationof the ministry of health and welfare   be sure to check the disinfectant manufacturer\\u0099s recommendations the recommended disinfection process suchas dilution and application time of disinfectant and theeffective period and concentration of disinfectant arestrictly followed laboratory and scan room management only the minimum number of staffs should be placedin the nuclear medicine department all participatingstaffs should wear appropriate personal protectiveequipment ppe eye protection with goggles or faceshield medical protective masks n95kf94 or equivalent respirator disposable latex gloves disposablegown disposable shoe covers etc cover the scanner couch or other equipment with aplastic cover to prevent contamination every effort should be made to minimize thecovid19 exposure to medical staff during injection of radiopharmaceuticalsselect the protocol with the shortest duration of uptake time and scan time to minimize the time spentby the covid19 patient in the departmentin case of studies requiring an uptake phasecovid19 patients should be waiting in separatespace if possible covid19 patients wait in negative pressure transport bag if negative pressuretransport bag is not available use bed or stretcherin waiting room with disposable cover considerusing standard radiopharmaceutical dose to shortenthe procedure time after the completion of image acquisition the scanroom and patient\\u0099s space area should be disinfectedaccording to the standard protocol after image acquisition remove the plastic cover ofthe scanner and disinfect the scanner surface remove and discard ppe adequately when leavingthe camera room or care area and immediately perform hand hygienein case of performing the radiolabeling of thecovid19 patients\\u0099 blood products every processwith infectious materials openingstirringmixingdispensing covid19 patient\\u0099s blood sampleradiolabeling etc should be done in class ii biosafety cabinet according to the biosafety level regulation disinfection of laboratory with properdisinfectants  ethanol  hydrogen peroxide or  ppm sodium hypochlorite should bedone used ppe and disposable covers are removed withcaution not to contaminate the clean area and disposed in a container for biosafety waste employee management all employees should be trained in the preventionand management of covid19 infection and adhereto the rules of infection prevention considering the skill level fatigue etc of the working staff sufficient personnel are allocated to securethempriority from exemption is given to employees withhighrisk underlying diseases such as diabetesmellitus chronic obstructive pulmonary diseasecopd endstage renal disease esrd chroniccardiac disease etc or pregnant women cleaning and environmental management general principle personnel responsible for cleaning or disinfectionshould complete the infection preventioneducation employees should wear ppe kf94 or n95 respirators fullbody protective clothing or aprons goggles or face shields shoe covers or rubber bootsdouble gloves outer gloves are rubber gloveswhen cleaning or disinfectingif there are organic substances on the surface of theenvironment it cannot be properly disinfectedtherefore wipe the surface before disinfecting theenvironmentin order to prevent the possibility of microbialspraying cleaning should be performed using acleaning solution or a mop moistened with a disinfectant rather than a cleaning method using abroom or a vacuum cleanerinstead of spraying disinfectants thoroughly cleanthe surface of the environment using a clean towelmoistened with the disinfectant or a commerciallyavailable disinfecting tissue towel 0cnucl med mol imaging  \\u0093 use cleaning tools as disposable as possible or exclusively however when the cleaning tool isreused the used cleaning tool is sterilized usingan appropriate disinfectant and then dried andstored disinfection of a patient\\u0099s space areain the case of the space area used by the patientmark the place where contamination was confirmedbefore cleaning and disinfecting the surface andseal the contaminated object to prevent others frombeing exposed ventilation before during and after cleaningdisinfection disinfection after ventilation for  hbased on  air cycles per hour wear ppe wipe with a cloth cloth etc wet withthe diluted disinfectant wipe the touched wall surface and all frequently used areas and keep it for atleast  min after then wipe the surface with acloth dampened with clean water cloth etcresumption of use consider the characteristics ofeach type of disinfectant used and the purpose of thefacility after disinfection the virus is killed but thedecision at the time of resumption of use cannot beapplied in batch due to different characteristics ofdisinfectants so it is necessary to consider the precautions for each productfor details on disinfecting methods such as surfacedisinfection and washing refer to \\u009cdisinfectionguidelines to prevent the spread of covid19 atpublic and multipurpose facilities 3rd edition\\u009drefer to the method of disinfecting the patient spaceareaselect an environmental disinfectant select an approved or declared disinfectant by the ministry ofenvironment and follow the usage usage and precautions for each product disinfectant list of the ministry of environmenthttpecolifemegokr precautions when using environmentaldisinfectants select the disinfectant after confirming informationsuch as approval from the ministry of environmentand environment when using environmental sterilizers make sure tofollow the manufacturer\\u0099s recommendations suchas checking the expiration date safe usage for eachproduct and precautions and preparing the diluentaccording to the manufacturer\\u0099s instructions the disinfecting method of sprayinginjecting disinfectant is not applied to surface disinfectionbecause it causes aerosol infection increased riskof inhalation and the range of contact between thedisinfectant and the surface is insufficient so thedisinfecting effect is insufficient disinfectant hazard information must be checkedand used carefully do not mix different disinfectants do not placenear flammable materials disinfectant should beused in a wellventilated area as the disinfection effect may decrease over timedilute as much as necessary and use it immediatelydo not store the remaining amount and discard itimmediately laundry managementstore clean laundry in a separate space employees handling laundry should be trained toprevent infection employees handling contaminated laundry shouldwear ppe n95 masks or equivalent respiratory protection gowns gloves overshoes etc and performhand hygiene after removing ppe the laundry used for the patient is disposed of according to the relevant regulations see wastemanagement act medical institution laundrymanagement rules etc thoroughly ensure that pathogens are not exposed topersonnel handling the laundry or surrounding environment during the entire process of collectingtransporting and washing laundry waste management waste related to covid19 patients is managed bythe rules of hospital infectious control policysharp tools such as needles or blades are collectedin containers for impervious and nonpermanentwaste and containers should be stored in the placewhere the items are usedsimple infectious waste contaminated or possiblycontaminated with covid19 patients\\u0099 sample isautoclaved and discarded radioactive waste shouldbe discarded in compliance with national regulationwith caution not to contaminate the staff or areaconclusionconsidering that outbreaks of novel viruses have been periodically appearing these days nuclear medicine staffs should getused to guidance and policies for infectious disease in working 0cnucl med mol imaging  \\u0093place to protect patients worker themselves and furthermorevaluable medical resources basically this guidance can beapplied in case of any other humantohuman transmissiondisease for operating the nuclear medicine department alsoalways bear in mind the rapid change in the situation thisguidance should be used in conjunction with the currentgovernment and local hospital policiescompliance with ethical standardsconflict of interestjiin bang hoyoung lee young seok chohongyoon choi ari chong jae sun eo ji young kim tae sungkim hyunwoo kwon eun jeong lee eun seong lee hye limpark soo bin park hyekyung shim bongil song ik dong yookyung jae lee hong jae lee su ha han jin seo lee jung mi parkand sung hoon kim declare that they have no conflict of interestethical approval this work does not contain any studies with humanparticipants or animals performed by any of the authorsinformed consent not applicablereferences paez d gnanasegaran g fanti s bomanji j hacker m sathekgem et al covid19 pandemic guidance for nuclear medicine departments eur j nucl med mol \\u0093 skali h murthy vl almallah mh bateman tm beanlands rbetter n et al guidance and best practices for nuclear cardiologylaboratories during the coronavirus disease  covid19 pandemic an information statement from asnc and snmmi j nuclcardiol \\u0093 httpsdoiorg101007s12350020021232 huang hl allie r gnanasegaran g bomanji j covid19\\u0093nuclear medicine departments be prepared nuclmedcommun mossabasha m medverd j linnau k lynch jb wener mhkicska g et al policies and guidelines for covid19 preparedness experiences from the university of washington radiology httpsdoiorg101148radiol2020201326 zhang x shao f lan x suggestions for safety and protectioncontrol in department of nuclear medicine during the outbreak ofcovid19 eur j nucl med mol \\u0093 buscombe jr notghi a croasdale j pandit m o'brien j grahamr et al covid19 guidance for infection prevention and controlin nuclear medicine nucl med commun \\u0093 standard guideline for healthcareassociated infection control andprevention korean center for disease control and prevention andkorean society for healthcareassociated infection control andprevention  httpcdcgokrcdccmscontentmobile2675626_viewhtml accessed 2nd jun  korean society for healthcareassociated infection control andprevention korean center for disease control and preventionhttpwwwcdcgokrboardesmida20507020000bid0019actviewlist_no366579 accessed 2nd jun  guidelines in response to coronavirus disease for local governmentkorea centers of disease control and prevention2020 httpswwwcdcgokrboardboardesmida20507020000bid0019actviewlist_no367279tagnpage1 accessed 2ndjun  disinfection guidelines to prevent the spread of covid19 at public and multipurpose facilities korea centers of disease controland prevention  httpswwwcdcgokrboardboardesmida20507020000bid0019 acessed 15th jun publisher\\u0099s note springer nature remains neutral with regard to jurisdictional claims in published maps and institutional affiliations 0c\\\"\"\n        ],\n        \"semantic_type\": \"\",\n        \"description\": \"\"\n      }\n    },\n    {\n      \"column\": \"token\",\n      \"properties\": {\n        \"dtype\": \"object\",\n        \"semantic_type\": \"\",\n        \"description\": \"\"\n      }\n    },\n    {\n      \"column\": \"clean_token\",\n      \"properties\": {\n        \"dtype\": \"object\",\n        \"semantic_type\": \"\",\n        \"description\": \"\"\n      }\n    }\n  ]\n}",
              "type": "dataframe",
              "variable_name": "df"
            },
            "text/html": [
              "\n",
              "  <div id=\"df-f2416f65-0721-48ab-bb28-52631f3beec9\" class=\"colab-df-container\">\n",
              "    <div>\n",
              "<style scoped>\n",
              "    .dataframe tbody tr th:only-of-type {\n",
              "        vertical-align: middle;\n",
              "    }\n",
              "\n",
              "    .dataframe tbody tr th {\n",
              "        vertical-align: top;\n",
              "    }\n",
              "\n",
              "    .dataframe thead th {\n",
              "        text-align: right;\n",
              "    }\n",
              "</style>\n",
              "<table border=\"1\" class=\"dataframe\">\n",
              "  <thead>\n",
              "    <tr style=\"text-align: right;\">\n",
              "      <th></th>\n",
              "      <th>class_label</th>\n",
              "      <th>research_paper</th>\n",
              "      <th>token</th>\n",
              "      <th>clean_token</th>\n",
              "    </tr>\n",
              "  </thead>\n",
              "  <tbody>\n",
              "    <tr>\n",
              "      <th>0</th>\n",
              "      <td>2</td>\n",
              "      <td>thyroid surgery in  children in a single insti...</td>\n",
              "      <td>[thyroid, surgery, in, children, in, a, single...</td>\n",
              "      <td>[thyroid, surgery, children, single, instituti...</td>\n",
              "    </tr>\n",
              "    <tr>\n",
              "      <th>1</th>\n",
              "      <td>2</td>\n",
              "      <td>\" the adopted strategy was the same as that us...</td>\n",
              "      <td>[``, the, adopted, strategy, was, the, same, a...</td>\n",
              "      <td>[adopted, strategy, used, prior, years, based,...</td>\n",
              "    </tr>\n",
              "    <tr>\n",
              "      <th>2</th>\n",
              "      <td>2</td>\n",
              "      <td>coronary arterybypass grafting thrombosis ï¬b...</td>\n",
              "      <td>[coronary, arterybypass, grafting, thrombosis,...</td>\n",
              "      <td>[coronary, arterybypass, grafting, thrombosis,...</td>\n",
              "    </tr>\n",
              "    <tr>\n",
              "      <th>3</th>\n",
              "      <td>2</td>\n",
              "      <td>solitary plasmacytoma sp of the skull is an u...</td>\n",
              "      <td>[solitary, plasmacytoma, sp, of, the, skull, i...</td>\n",
              "      <td>[solitary, plasmacytoma, sp, skull, uncommon, ...</td>\n",
              "    </tr>\n",
              "    <tr>\n",
              "      <th>4</th>\n",
              "      <td>2</td>\n",
              "      <td>this study aimed to investigate serum matrix ...</td>\n",
              "      <td>[this, study, aimed, to, investigate, serum, m...</td>\n",
              "      <td>[study, aimed, investigate, serum, matrix, met...</td>\n",
              "    </tr>\n",
              "  </tbody>\n",
              "</table>\n",
              "</div>\n",
              "    <div class=\"colab-df-buttons\">\n",
              "\n",
              "  <div class=\"colab-df-container\">\n",
              "    <button class=\"colab-df-convert\" onclick=\"convertToInteractive('df-f2416f65-0721-48ab-bb28-52631f3beec9')\"\n",
              "            title=\"Convert this dataframe to an interactive table.\"\n",
              "            style=\"display:none;\">\n",
              "\n",
              "  <svg xmlns=\"http://www.w3.org/2000/svg\" height=\"24px\" viewBox=\"0 -960 960 960\">\n",
              "    <path d=\"M120-120v-720h720v720H120Zm60-500h600v-160H180v160Zm220 220h160v-160H400v160Zm0 220h160v-160H400v160ZM180-400h160v-160H180v160Zm440 0h160v-160H620v160ZM180-180h160v-160H180v160Zm440 0h160v-160H620v160Z\"/>\n",
              "  </svg>\n",
              "    </button>\n",
              "\n",
              "  <style>\n",
              "    .colab-df-container {\n",
              "      display:flex;\n",
              "      gap: 12px;\n",
              "    }\n",
              "\n",
              "    .colab-df-convert {\n",
              "      background-color: #E8F0FE;\n",
              "      border: none;\n",
              "      border-radius: 50%;\n",
              "      cursor: pointer;\n",
              "      display: none;\n",
              "      fill: #1967D2;\n",
              "      height: 32px;\n",
              "      padding: 0 0 0 0;\n",
              "      width: 32px;\n",
              "    }\n",
              "\n",
              "    .colab-df-convert:hover {\n",
              "      background-color: #E2EBFA;\n",
              "      box-shadow: 0px 1px 2px rgba(60, 64, 67, 0.3), 0px 1px 3px 1px rgba(60, 64, 67, 0.15);\n",
              "      fill: #174EA6;\n",
              "    }\n",
              "\n",
              "    .colab-df-buttons div {\n",
              "      margin-bottom: 4px;\n",
              "    }\n",
              "\n",
              "    [theme=dark] .colab-df-convert {\n",
              "      background-color: #3B4455;\n",
              "      fill: #D2E3FC;\n",
              "    }\n",
              "\n",
              "    [theme=dark] .colab-df-convert:hover {\n",
              "      background-color: #434B5C;\n",
              "      box-shadow: 0px 1px 3px 1px rgba(0, 0, 0, 0.15);\n",
              "      filter: drop-shadow(0px 1px 2px rgba(0, 0, 0, 0.3));\n",
              "      fill: #FFFFFF;\n",
              "    }\n",
              "  </style>\n",
              "\n",
              "    <script>\n",
              "      const buttonEl =\n",
              "        document.querySelector('#df-f2416f65-0721-48ab-bb28-52631f3beec9 button.colab-df-convert');\n",
              "      buttonEl.style.display =\n",
              "        google.colab.kernel.accessAllowed ? 'block' : 'none';\n",
              "\n",
              "      async function convertToInteractive(key) {\n",
              "        const element = document.querySelector('#df-f2416f65-0721-48ab-bb28-52631f3beec9');\n",
              "        const dataTable =\n",
              "          await google.colab.kernel.invokeFunction('convertToInteractive',\n",
              "                                                    [key], {});\n",
              "        if (!dataTable) return;\n",
              "\n",
              "        const docLinkHtml = 'Like what you see? Visit the ' +\n",
              "          '<a target=\"_blank\" href=https://colab.research.google.com/notebooks/data_table.ipynb>data table notebook</a>'\n",
              "          + ' to learn more about interactive tables.';\n",
              "        element.innerHTML = '';\n",
              "        dataTable['output_type'] = 'display_data';\n",
              "        await google.colab.output.renderOutput(dataTable, element);\n",
              "        const docLink = document.createElement('div');\n",
              "        docLink.innerHTML = docLinkHtml;\n",
              "        element.appendChild(docLink);\n",
              "      }\n",
              "    </script>\n",
              "  </div>\n",
              "\n",
              "\n",
              "<div id=\"df-6d58a2ef-35a7-4124-98dc-9f7f94a2db5e\">\n",
              "  <button class=\"colab-df-quickchart\" onclick=\"quickchart('df-6d58a2ef-35a7-4124-98dc-9f7f94a2db5e')\"\n",
              "            title=\"Suggest charts\"\n",
              "            style=\"display:none;\">\n",
              "\n",
              "<svg xmlns=\"http://www.w3.org/2000/svg\" height=\"24px\"viewBox=\"0 0 24 24\"\n",
              "     width=\"24px\">\n",
              "    <g>\n",
              "        <path d=\"M19 3H5c-1.1 0-2 .9-2 2v14c0 1.1.9 2 2 2h14c1.1 0 2-.9 2-2V5c0-1.1-.9-2-2-2zM9 17H7v-7h2v7zm4 0h-2V7h2v10zm4 0h-2v-4h2v4z\"/>\n",
              "    </g>\n",
              "</svg>\n",
              "  </button>\n",
              "\n",
              "<style>\n",
              "  .colab-df-quickchart {\n",
              "      --bg-color: #E8F0FE;\n",
              "      --fill-color: #1967D2;\n",
              "      --hover-bg-color: #E2EBFA;\n",
              "      --hover-fill-color: #174EA6;\n",
              "      --disabled-fill-color: #AAA;\n",
              "      --disabled-bg-color: #DDD;\n",
              "  }\n",
              "\n",
              "  [theme=dark] .colab-df-quickchart {\n",
              "      --bg-color: #3B4455;\n",
              "      --fill-color: #D2E3FC;\n",
              "      --hover-bg-color: #434B5C;\n",
              "      --hover-fill-color: #FFFFFF;\n",
              "      --disabled-bg-color: #3B4455;\n",
              "      --disabled-fill-color: #666;\n",
              "  }\n",
              "\n",
              "  .colab-df-quickchart {\n",
              "    background-color: var(--bg-color);\n",
              "    border: none;\n",
              "    border-radius: 50%;\n",
              "    cursor: pointer;\n",
              "    display: none;\n",
              "    fill: var(--fill-color);\n",
              "    height: 32px;\n",
              "    padding: 0;\n",
              "    width: 32px;\n",
              "  }\n",
              "\n",
              "  .colab-df-quickchart:hover {\n",
              "    background-color: var(--hover-bg-color);\n",
              "    box-shadow: 0 1px 2px rgba(60, 64, 67, 0.3), 0 1px 3px 1px rgba(60, 64, 67, 0.15);\n",
              "    fill: var(--button-hover-fill-color);\n",
              "  }\n",
              "\n",
              "  .colab-df-quickchart-complete:disabled,\n",
              "  .colab-df-quickchart-complete:disabled:hover {\n",
              "    background-color: var(--disabled-bg-color);\n",
              "    fill: var(--disabled-fill-color);\n",
              "    box-shadow: none;\n",
              "  }\n",
              "\n",
              "  .colab-df-spinner {\n",
              "    border: 2px solid var(--fill-color);\n",
              "    border-color: transparent;\n",
              "    border-bottom-color: var(--fill-color);\n",
              "    animation:\n",
              "      spin 1s steps(1) infinite;\n",
              "  }\n",
              "\n",
              "  @keyframes spin {\n",
              "    0% {\n",
              "      border-color: transparent;\n",
              "      border-bottom-color: var(--fill-color);\n",
              "      border-left-color: var(--fill-color);\n",
              "    }\n",
              "    20% {\n",
              "      border-color: transparent;\n",
              "      border-left-color: var(--fill-color);\n",
              "      border-top-color: var(--fill-color);\n",
              "    }\n",
              "    30% {\n",
              "      border-color: transparent;\n",
              "      border-left-color: var(--fill-color);\n",
              "      border-top-color: var(--fill-color);\n",
              "      border-right-color: var(--fill-color);\n",
              "    }\n",
              "    40% {\n",
              "      border-color: transparent;\n",
              "      border-right-color: var(--fill-color);\n",
              "      border-top-color: var(--fill-color);\n",
              "    }\n",
              "    60% {\n",
              "      border-color: transparent;\n",
              "      border-right-color: var(--fill-color);\n",
              "    }\n",
              "    80% {\n",
              "      border-color: transparent;\n",
              "      border-right-color: var(--fill-color);\n",
              "      border-bottom-color: var(--fill-color);\n",
              "    }\n",
              "    90% {\n",
              "      border-color: transparent;\n",
              "      border-bottom-color: var(--fill-color);\n",
              "    }\n",
              "  }\n",
              "</style>\n",
              "\n",
              "  <script>\n",
              "    async function quickchart(key) {\n",
              "      const quickchartButtonEl =\n",
              "        document.querySelector('#' + key + ' button');\n",
              "      quickchartButtonEl.disabled = true;  // To prevent multiple clicks.\n",
              "      quickchartButtonEl.classList.add('colab-df-spinner');\n",
              "      try {\n",
              "        const charts = await google.colab.kernel.invokeFunction(\n",
              "            'suggestCharts', [key], {});\n",
              "      } catch (error) {\n",
              "        console.error('Error during call to suggestCharts:', error);\n",
              "      }\n",
              "      quickchartButtonEl.classList.remove('colab-df-spinner');\n",
              "      quickchartButtonEl.classList.add('colab-df-quickchart-complete');\n",
              "    }\n",
              "    (() => {\n",
              "      let quickchartButtonEl =\n",
              "        document.querySelector('#df-6d58a2ef-35a7-4124-98dc-9f7f94a2db5e button');\n",
              "      quickchartButtonEl.style.display =\n",
              "        google.colab.kernel.accessAllowed ? 'block' : 'none';\n",
              "    })();\n",
              "  </script>\n",
              "</div>\n",
              "    </div>\n",
              "  </div>\n"
            ],
            "text/plain": [
              "   class_label                                     research_paper  \\\n",
              "0            2  thyroid surgery in  children in a single insti...   \n",
              "1            2  \" the adopted strategy was the same as that us...   \n",
              "2            2  coronary arterybypass grafting thrombosis ï¬b...   \n",
              "3            2   solitary plasmacytoma sp of the skull is an u...   \n",
              "4            2   this study aimed to investigate serum matrix ...   \n",
              "\n",
              "                                               token  \\\n",
              "0  [thyroid, surgery, in, children, in, a, single...   \n",
              "1  [``, the, adopted, strategy, was, the, same, a...   \n",
              "2  [coronary, arterybypass, grafting, thrombosis,...   \n",
              "3  [solitary, plasmacytoma, sp, of, the, skull, i...   \n",
              "4  [this, study, aimed, to, investigate, serum, m...   \n",
              "\n",
              "                                         clean_token  \n",
              "0  [thyroid, surgery, children, single, instituti...  \n",
              "1  [adopted, strategy, used, prior, years, based,...  \n",
              "2  [coronary, arterybypass, grafting, thrombosis,...  \n",
              "3  [solitary, plasmacytoma, sp, skull, uncommon, ...  \n",
              "4  [study, aimed, investigate, serum, matrix, met...  "
            ]
          },
          "execution_count": 15,
          "metadata": {},
          "output_type": "execute_result"
        }
      ],
      "source": [
        "df.head()"
      ]
    },
    {
      "cell_type": "markdown",
      "metadata": {
        "id": "eqVkaku4ApI2"
      },
      "source": [
        "## TF-IDF\n",
        "![texte du lien](https://www.seoquantum.com/sites/default/files/tf-idf-2-1-1024x375.png)"
      ]
    },
    {
      "cell_type": "code",
      "execution_count": null,
      "metadata": {
        "id": "bJYIl-nmbA8w"
      },
      "outputs": [],
      "source": [
        "tfidf_vectorizer = TfidfVectorizer()\n",
        "X = tfidf_vectorizer.fit_transform(df['token'].apply(lambda x: ' '.join(x)))\n",
        "\n",
        "y = df['class_label'].tolist()\n",
        "\n",
        "# Division du jeu de données en entraînement et test\n",
        "X_train, X_test, y_train, y_test = train_test_split(X, y, test_size=0.2, random_state=42)\n"
      ]
    },
    {
      "cell_type": "code",
      "execution_count": null,
      "metadata": {
        "id": "nM_k4R9eLOh_"
      },
      "outputs": [],
      "source": [
        "def resultats(y_test, y_pred):\n",
        "  print(\"Matrice de confusion:\\n\",confusion_matrix(y_test,y_pred))\n",
        "  print()\n",
        "  print(\"Rapport de Classfication:\\n\",classification_report(y_test,y_pred))\n",
        "  print()\n",
        "  sv_acc_test=accuracy_score(y_test,y_pred)\n",
        "  print(\"Accuracy sur dataset de test:\",sv_acc_test)"
      ]
    },
    {
      "cell_type": "code",
      "execution_count": null,
      "metadata": {
        "colab": {
          "base_uri": "https://localhost:8080/",
          "height": 75
        },
        "id": "uFEHTbugcSZG",
        "outputId": "e46ebc56-569d-472d-e1cb-0c72dd931ca6"
      },
      "outputs": [
        {
          "data": {
            "text/html": [
              "<style>#sk-container-id-3 {color: black;background-color: white;}#sk-container-id-3 pre{padding: 0;}#sk-container-id-3 div.sk-toggleable {background-color: white;}#sk-container-id-3 label.sk-toggleable__label {cursor: pointer;display: block;width: 100%;margin-bottom: 0;padding: 0.3em;box-sizing: border-box;text-align: center;}#sk-container-id-3 label.sk-toggleable__label-arrow:before {content: \"▸\";float: left;margin-right: 0.25em;color: #696969;}#sk-container-id-3 label.sk-toggleable__label-arrow:hover:before {color: black;}#sk-container-id-3 div.sk-estimator:hover label.sk-toggleable__label-arrow:before {color: black;}#sk-container-id-3 div.sk-toggleable__content {max-height: 0;max-width: 0;overflow: hidden;text-align: left;background-color: #f0f8ff;}#sk-container-id-3 div.sk-toggleable__content pre {margin: 0.2em;color: black;border-radius: 0.25em;background-color: #f0f8ff;}#sk-container-id-3 input.sk-toggleable__control:checked~div.sk-toggleable__content {max-height: 200px;max-width: 100%;overflow: auto;}#sk-container-id-3 input.sk-toggleable__control:checked~label.sk-toggleable__label-arrow:before {content: \"▾\";}#sk-container-id-3 div.sk-estimator input.sk-toggleable__control:checked~label.sk-toggleable__label {background-color: #d4ebff;}#sk-container-id-3 div.sk-label input.sk-toggleable__control:checked~label.sk-toggleable__label {background-color: #d4ebff;}#sk-container-id-3 input.sk-hidden--visually {border: 0;clip: rect(1px 1px 1px 1px);clip: rect(1px, 1px, 1px, 1px);height: 1px;margin: -1px;overflow: hidden;padding: 0;position: absolute;width: 1px;}#sk-container-id-3 div.sk-estimator {font-family: monospace;background-color: #f0f8ff;border: 1px dotted black;border-radius: 0.25em;box-sizing: border-box;margin-bottom: 0.5em;}#sk-container-id-3 div.sk-estimator:hover {background-color: #d4ebff;}#sk-container-id-3 div.sk-parallel-item::after {content: \"\";width: 100%;border-bottom: 1px solid gray;flex-grow: 1;}#sk-container-id-3 div.sk-label:hover label.sk-toggleable__label {background-color: #d4ebff;}#sk-container-id-3 div.sk-serial::before {content: \"\";position: absolute;border-left: 1px solid gray;box-sizing: border-box;top: 0;bottom: 0;left: 50%;z-index: 0;}#sk-container-id-3 div.sk-serial {display: flex;flex-direction: column;align-items: center;background-color: white;padding-right: 0.2em;padding-left: 0.2em;position: relative;}#sk-container-id-3 div.sk-item {position: relative;z-index: 1;}#sk-container-id-3 div.sk-parallel {display: flex;align-items: stretch;justify-content: center;background-color: white;position: relative;}#sk-container-id-3 div.sk-item::before, #sk-container-id-3 div.sk-parallel-item::before {content: \"\";position: absolute;border-left: 1px solid gray;box-sizing: border-box;top: 0;bottom: 0;left: 50%;z-index: -1;}#sk-container-id-3 div.sk-parallel-item {display: flex;flex-direction: column;z-index: 1;position: relative;background-color: white;}#sk-container-id-3 div.sk-parallel-item:first-child::after {align-self: flex-end;width: 50%;}#sk-container-id-3 div.sk-parallel-item:last-child::after {align-self: flex-start;width: 50%;}#sk-container-id-3 div.sk-parallel-item:only-child::after {width: 0;}#sk-container-id-3 div.sk-dashed-wrapped {border: 1px dashed gray;margin: 0 0.4em 0.5em 0.4em;box-sizing: border-box;padding-bottom: 0.4em;background-color: white;}#sk-container-id-3 div.sk-label label {font-family: monospace;font-weight: bold;display: inline-block;line-height: 1.2em;}#sk-container-id-3 div.sk-label-container {text-align: center;}#sk-container-id-3 div.sk-container {/* jupyter's `normalize.less` sets `[hidden] { display: none; }` but bootstrap.min.css set `[hidden] { display: none !important; }` so we also need the `!important` here to be able to override the default hidden behavior on the sphinx rendered scikit-learn.org. See: https://github.com/scikit-learn/scikit-learn/issues/21755 */display: inline-block !important;position: relative;}#sk-container-id-3 div.sk-text-repr-fallback {display: none;}</style><div id=\"sk-container-id-3\" class=\"sk-top-container\"><div class=\"sk-text-repr-fallback\"><pre>SVC()</pre><b>In a Jupyter environment, please rerun this cell to show the HTML representation or trust the notebook. <br />On GitHub, the HTML representation is unable to render, please try loading this page with nbviewer.org.</b></div><div class=\"sk-container\" hidden><div class=\"sk-item\"><div class=\"sk-estimator sk-toggleable\"><input class=\"sk-toggleable__control sk-hidden--visually\" id=\"sk-estimator-id-3\" type=\"checkbox\" checked><label for=\"sk-estimator-id-3\" class=\"sk-toggleable__label sk-toggleable__label-arrow\">SVC</label><div class=\"sk-toggleable__content\"><pre>SVC()</pre></div></div></div></div></div>"
            ],
            "text/plain": [
              "SVC()"
            ]
          },
          "execution_count": 44,
          "metadata": {},
          "output_type": "execute_result"
        }
      ],
      "source": [
        "sv_model = SVC()\n",
        "sv_model.fit(X_train, y_train)"
      ]
    },
    {
      "cell_type": "code",
      "execution_count": null,
      "metadata": {
        "id": "wc0oTYdDcV8Y"
      },
      "outputs": [],
      "source": [
        "def test_results(sv_model, X_train, X_test, y_train, y_test):\n",
        "  print('Test Set')\n",
        "  y_pred=sv_model.predict(X_test)\n",
        "  resultats(y_test, y_pred)\n",
        "  print(\"****************************************************************\")\n",
        "  print('Train Set')\n",
        "  y_pred_train=sv_model.predict(X_train)\n",
        "  resultats(y_train, y_pred_train)"
      ]
    },
    {
      "cell_type": "code",
      "execution_count": null,
      "metadata": {
        "colab": {
          "base_uri": "https://localhost:8080/"
        },
        "id": "zjrdYargcztf",
        "outputId": "aef062e4-522f-4a40-dc7e-4ad56aa5a6cb"
      },
      "outputs": [
        {
          "name": "stdout",
          "output_type": "stream",
          "text": [
            "Test Set\n",
            "Matrice de confusion:\n",
            " [[10  2 43]\n",
            " [ 0 89  0]\n",
            " [13  0 43]]\n",
            "\n",
            "Rapport de Classfication:\n",
            "               precision    recall  f1-score   support\n",
            "\n",
            "           0       0.43      0.18      0.26        55\n",
            "           1       0.98      1.00      0.99        89\n",
            "           2       0.50      0.77      0.61        56\n",
            "\n",
            "    accuracy                           0.71       200\n",
            "   macro avg       0.64      0.65      0.62       200\n",
            "weighted avg       0.69      0.71      0.68       200\n",
            "\n",
            "\n",
            "Accuracy sur dataset de test: 0.71\n",
            "****************************************************************\n",
            "Train Set\n",
            "Matrice de confusion:\n",
            " [[189   0  17]\n",
            " [  0 363   0]\n",
            " [  6   0 221]]\n",
            "\n",
            "Rapport de Classfication:\n",
            "               precision    recall  f1-score   support\n",
            "\n",
            "           0       0.97      0.92      0.94       206\n",
            "           1       1.00      1.00      1.00       363\n",
            "           2       0.93      0.97      0.95       227\n",
            "\n",
            "    accuracy                           0.97       796\n",
            "   macro avg       0.97      0.96      0.96       796\n",
            "weighted avg       0.97      0.97      0.97       796\n",
            "\n",
            "\n",
            "Accuracy sur dataset de test: 0.9711055276381909\n"
          ]
        }
      ],
      "source": [
        "test_results(sv_model, X_train, X_test, y_train, y_test)"
      ]
    },
    {
      "cell_type": "code",
      "execution_count": null,
      "metadata": {
        "id": "e8A40z0ldZ6q"
      },
      "outputs": [],
      "source": [
        "def best_model(X_train, y_train):\n",
        "  svc_model=SVC()\n",
        "  param_grid={\"C\":np.arange(1,50),\n",
        "            \"kernel\":['linear','poly','rbf','sigmoid']}\n",
        "\n",
        "  kfold=StratifiedKFold(n_splits=3,shuffle=True,random_state=10)\n",
        "\n",
        "  rscv_svc_model=RandomizedSearchCV(svc_model,param_grid,cv=kfold)\n",
        "  rscv_svc_model.fit(X_train, y_train)\n",
        "  return rscv_svc_model.best_estimator_\n"
      ]
    },
    {
      "cell_type": "code",
      "execution_count": null,
      "metadata": {
        "id": "H1G-g852dmJ2"
      },
      "outputs": [],
      "source": [
        "best_svm_tfidf = best_model(X_train, y_train)"
      ]
    },
    {
      "cell_type": "code",
      "execution_count": null,
      "metadata": {
        "colab": {
          "base_uri": "https://localhost:8080/"
        },
        "id": "3wBi_0-YgTbu",
        "outputId": "1eabd3da-06e5-4923-f38a-78dc6f8c5b6a"
      },
      "outputs": [
        {
          "name": "stdout",
          "output_type": "stream",
          "text": [
            "Test Set\n",
            "Matrice de confusion:\n",
            " [[24  2 29]\n",
            " [ 0 89  0]\n",
            " [16  0 40]]\n",
            "\n",
            "Rapport de Classfication:\n",
            "               precision    recall  f1-score   support\n",
            "\n",
            "           0       0.60      0.44      0.51        55\n",
            "           1       0.98      1.00      0.99        89\n",
            "           2       0.58      0.71      0.64        56\n",
            "\n",
            "    accuracy                           0.77       200\n",
            "   macro avg       0.72      0.72      0.71       200\n",
            "weighted avg       0.76      0.77      0.76       200\n",
            "\n",
            "\n",
            "Accuracy sur dataset de test: 0.765\n",
            "****************************************************************\n",
            "Train Set\n",
            "Matrice de confusion:\n",
            " [[203   0   3]\n",
            " [  0 363   0]\n",
            " [  4   0 223]]\n",
            "\n",
            "Rapport de Classfication:\n",
            "               precision    recall  f1-score   support\n",
            "\n",
            "           0       0.98      0.99      0.98       206\n",
            "           1       1.00      1.00      1.00       363\n",
            "           2       0.99      0.98      0.98       227\n",
            "\n",
            "    accuracy                           0.99       796\n",
            "   macro avg       0.99      0.99      0.99       796\n",
            "weighted avg       0.99      0.99      0.99       796\n",
            "\n",
            "\n",
            "Accuracy sur dataset de test: 0.9912060301507538\n"
          ]
        }
      ],
      "source": [
        "test_results(best_svm_tfidf, X_train, X_test, y_train, y_test)"
      ]
    },
    {
      "cell_type": "code",
      "execution_count": null,
      "metadata": {
        "id": "5uEAw2RokUYU"
      },
      "outputs": [],
      "source": [
        "print(\"Label de base:\",y_test[:10])\n",
        "print(\"Label prédit:\",y_pred[:10])"
      ]
    },
    {
      "cell_type": "markdown",
      "metadata": {
        "id": "jLbckgbSJ7FF"
      },
      "source": [
        "## Word2Vec\n",
        "![texte du lien](https://swimm.io/wp-content/webp-express/webp-images/uploads/2023/11/word2vec--1024x559.png.webp)"
      ]
    },
    {
      "cell_type": "markdown",
      "metadata": {
        "id": "flVbT5xDAY0o"
      },
      "source": [
        "\n",
        "\n",
        "1.   **Continuous Bag of Words (CBOW)**\n",
        "\n",
        "\n",
        "\n",
        "\n",
        "**Step 1: Input encoding\n",
        "Each word in the vocabulary is represented as a one-hot encoded vector:\n",
        "For a vocabulary of size V, a target word t is represented by one-hot(t), where one-hot(t) is a binary vector of size V with a 1 at the index corresponding to the target word.\n",
        "\n",
        "**Step 2: Word integration layer**\n",
        "Word integration is represented by a matrix E of size V x N, where N is the dimension of the word integration.\n",
        "The integration of a target word t is obtained by e(t) = E * one-hot(t).\n",
        "\n",
        "**Step 3: Aggregation of contextual integrations\n",
        "Context words are represented as one-hot encoded vectors and averaged to create a context vector h :\n",
        "h = (1/|c|) * ΣE * one-hot(c), where |c| is the number of contextual words.\n",
        "\n",
        "**Step 4: Hidden layer**\n",
        "The context vector h passes through a hidden layer with weights W and bias b, which introduces a non-linearity:\n",
        "h' = f(W * h + b), where f is an activation function such as ReLU or sigmoid.\n",
        "\n",
        "**Step 5: Output layer\n",
        "The hidden representation h' is used to predict the probability distribution of vocabulary words.\n",
        "The output layer uses the softmax function to calculate the predicted probabilities for each word:\n",
        "y = softmax(V * h'), where V is the output weight matrix.\n",
        "\n",
        "**Step 6: Loss calculation\n",
        "The loss function measures the dissimilarity between the predicted word probabilities (y) and the true distribution of the target word.\n",
        "\n",
        "**Step 7: Backpropagation and training** The parameters of the model (E, W) are calculated.\n",
        "Model parameters (E, W and V) are updated using backpropagation and gradient descent to minimize loss.\n",
        "\n",
        "**Step 8: Word embedding**\n",
        "After training, the rows of the embedding matrix E represent word embeddings, which capture the meaning of words in a dense vector space.\n",
        "\n"
      ]
    },
    {
      "cell_type": "markdown",
      "metadata": {
        "id": "Y1gY92aEH6qA"
      },
      "source": [
        "2. **Skip-gram**\n",
        "\n",
        "**Step 1: Input encoding\n",
        "\n",
        "Each word in the vocabulary is represented as a one-hot encoded vector:\n",
        "\n",
        "For a vocabulary of size V, a target word t is represented by one-hot(t), where one-hot(t) is a binary vector of size V with a 1 at the index corresponding to the target word.\n",
        "\n",
        "**Step 2: Word integration layer**\n",
        "\n",
        "Word integration is represented by a matrix E of size V x N, where N is the dimension of the word integration.\n",
        "The integration of a target word t is obtained by e(t) = E * one-hot(t).\n",
        "\n",
        "**Step 3: Hidden layer**\n",
        "\n",
        "The integration e(t) for target word t passes through a hidden layer with weights W and bias b to obtain a hidden representation h :\n",
        "h = f(W * e(t) + b), where f is an activation function such as ReLU or sigmoid.\n",
        "\n",
        "**Step 4: Output layer\n",
        "\n",
        "The hidden representation h is used to predict the probability distribution of vocabulary words.\n",
        "The output layer uses the softmax function to calculate the predicted probabilities for each word:\n",
        "y = softmax(V * h), where V is the output weight matrix.\n",
        "\n",
        "**Step 5: Loss computation**\n",
        "\n",
        "The loss function measures the dissimilarity between the predicted word probabilities (y) and the true distribution of words in the context surrounding the target word.\n",
        "\n",
        "**Step 6: Backpropagation and training**\n",
        "\n",
        "Model parameters (E, W and V) are updated using backpropagation and gradient descent to minimize loss.\n",
        "\n",
        "**Step 7: Word embedding**\n",
        "\n",
        "After training, the rows of the embedding matrix E represent word embeddings, which capture the meaning of words in a dense vector space."
      ]
    },
    {
      "cell_type": "code",
      "execution_count": null,
      "metadata": {
        "id": "jqa28nBb1D7V"
      },
      "outputs": [],
      "source": [
        "tokens = df['token'].tolist()  # Convertir les tokens en liste\n",
        "word2vec_model = Word2Vec(tokens, vector_size=100, window=5, min_count=1, workers=4)\n",
        "\n",
        "# Représentation vectorielle des articles\n",
        "def article_vector(tokens):\n",
        "    vectors = [word2vec_model.wv[token] for token in tokens if token in word2vec_model.wv]\n",
        "    if vectors:\n",
        "        return np.mean(vectors, axis=0)\n",
        "    else:\n",
        "        return np.zeros(word2vec_model.vector_size)\n",
        "\n",
        "X = df['token'].apply(article_vector).tolist()  # Utilisez directement les valeurs de la colonne \"token\"\n",
        "y = df['class_label'].tolist()\n",
        "X_train, X_test, y_train, y_test = train_test_split(X, y, test_size=0.2, random_state=42)\n"
      ]
    },
    {
      "cell_type": "code",
      "execution_count": null,
      "metadata": {
        "colab": {
          "base_uri": "https://localhost:8080/",
          "height": 75
        },
        "id": "rMlp4S5HLQgj",
        "outputId": "764a93ec-d9b5-4c94-8379-3faf6f1c5151"
      },
      "outputs": [
        {
          "data": {
            "text/html": [
              "<style>#sk-container-id-5 {color: black;background-color: white;}#sk-container-id-5 pre{padding: 0;}#sk-container-id-5 div.sk-toggleable {background-color: white;}#sk-container-id-5 label.sk-toggleable__label {cursor: pointer;display: block;width: 100%;margin-bottom: 0;padding: 0.3em;box-sizing: border-box;text-align: center;}#sk-container-id-5 label.sk-toggleable__label-arrow:before {content: \"▸\";float: left;margin-right: 0.25em;color: #696969;}#sk-container-id-5 label.sk-toggleable__label-arrow:hover:before {color: black;}#sk-container-id-5 div.sk-estimator:hover label.sk-toggleable__label-arrow:before {color: black;}#sk-container-id-5 div.sk-toggleable__content {max-height: 0;max-width: 0;overflow: hidden;text-align: left;background-color: #f0f8ff;}#sk-container-id-5 div.sk-toggleable__content pre {margin: 0.2em;color: black;border-radius: 0.25em;background-color: #f0f8ff;}#sk-container-id-5 input.sk-toggleable__control:checked~div.sk-toggleable__content {max-height: 200px;max-width: 100%;overflow: auto;}#sk-container-id-5 input.sk-toggleable__control:checked~label.sk-toggleable__label-arrow:before {content: \"▾\";}#sk-container-id-5 div.sk-estimator input.sk-toggleable__control:checked~label.sk-toggleable__label {background-color: #d4ebff;}#sk-container-id-5 div.sk-label input.sk-toggleable__control:checked~label.sk-toggleable__label {background-color: #d4ebff;}#sk-container-id-5 input.sk-hidden--visually {border: 0;clip: rect(1px 1px 1px 1px);clip: rect(1px, 1px, 1px, 1px);height: 1px;margin: -1px;overflow: hidden;padding: 0;position: absolute;width: 1px;}#sk-container-id-5 div.sk-estimator {font-family: monospace;background-color: #f0f8ff;border: 1px dotted black;border-radius: 0.25em;box-sizing: border-box;margin-bottom: 0.5em;}#sk-container-id-5 div.sk-estimator:hover {background-color: #d4ebff;}#sk-container-id-5 div.sk-parallel-item::after {content: \"\";width: 100%;border-bottom: 1px solid gray;flex-grow: 1;}#sk-container-id-5 div.sk-label:hover label.sk-toggleable__label {background-color: #d4ebff;}#sk-container-id-5 div.sk-serial::before {content: \"\";position: absolute;border-left: 1px solid gray;box-sizing: border-box;top: 0;bottom: 0;left: 50%;z-index: 0;}#sk-container-id-5 div.sk-serial {display: flex;flex-direction: column;align-items: center;background-color: white;padding-right: 0.2em;padding-left: 0.2em;position: relative;}#sk-container-id-5 div.sk-item {position: relative;z-index: 1;}#sk-container-id-5 div.sk-parallel {display: flex;align-items: stretch;justify-content: center;background-color: white;position: relative;}#sk-container-id-5 div.sk-item::before, #sk-container-id-5 div.sk-parallel-item::before {content: \"\";position: absolute;border-left: 1px solid gray;box-sizing: border-box;top: 0;bottom: 0;left: 50%;z-index: -1;}#sk-container-id-5 div.sk-parallel-item {display: flex;flex-direction: column;z-index: 1;position: relative;background-color: white;}#sk-container-id-5 div.sk-parallel-item:first-child::after {align-self: flex-end;width: 50%;}#sk-container-id-5 div.sk-parallel-item:last-child::after {align-self: flex-start;width: 50%;}#sk-container-id-5 div.sk-parallel-item:only-child::after {width: 0;}#sk-container-id-5 div.sk-dashed-wrapped {border: 1px dashed gray;margin: 0 0.4em 0.5em 0.4em;box-sizing: border-box;padding-bottom: 0.4em;background-color: white;}#sk-container-id-5 div.sk-label label {font-family: monospace;font-weight: bold;display: inline-block;line-height: 1.2em;}#sk-container-id-5 div.sk-label-container {text-align: center;}#sk-container-id-5 div.sk-container {/* jupyter's `normalize.less` sets `[hidden] { display: none; }` but bootstrap.min.css set `[hidden] { display: none !important; }` so we also need the `!important` here to be able to override the default hidden behavior on the sphinx rendered scikit-learn.org. See: https://github.com/scikit-learn/scikit-learn/issues/21755 */display: inline-block !important;position: relative;}#sk-container-id-5 div.sk-text-repr-fallback {display: none;}</style><div id=\"sk-container-id-5\" class=\"sk-top-container\"><div class=\"sk-text-repr-fallback\"><pre>SVC()</pre><b>In a Jupyter environment, please rerun this cell to show the HTML representation or trust the notebook. <br />On GitHub, the HTML representation is unable to render, please try loading this page with nbviewer.org.</b></div><div class=\"sk-container\" hidden><div class=\"sk-item\"><div class=\"sk-estimator sk-toggleable\"><input class=\"sk-toggleable__control sk-hidden--visually\" id=\"sk-estimator-id-5\" type=\"checkbox\" checked><label for=\"sk-estimator-id-5\" class=\"sk-toggleable__label sk-toggleable__label-arrow\">SVC</label><div class=\"sk-toggleable__content\"><pre>SVC()</pre></div></div></div></div></div>"
            ],
            "text/plain": [
              "SVC()"
            ]
          },
          "execution_count": 61,
          "metadata": {},
          "output_type": "execute_result"
        }
      ],
      "source": [
        "sv_model_word2vec = SVC()\n",
        "sv_model_word2vec.fit(X_train, y_train)"
      ]
    },
    {
      "cell_type": "code",
      "execution_count": null,
      "metadata": {
        "colab": {
          "base_uri": "https://localhost:8080/"
        },
        "id": "KtTBpmr7QIBF",
        "outputId": "cef4e53b-092a-48ec-86a0-be74affd03c7"
      },
      "outputs": [
        {
          "name": "stdout",
          "output_type": "stream",
          "text": [
            "Test Set\n",
            "Matrice de confusion:\n",
            " [[23  0 32]\n",
            " [ 0 89  0]\n",
            " [19  0 37]]\n",
            "\n",
            "Rapport de Classfication:\n",
            "               precision    recall  f1-score   support\n",
            "\n",
            "           0       0.55      0.42      0.47        55\n",
            "           1       1.00      1.00      1.00        89\n",
            "           2       0.54      0.66      0.59        56\n",
            "\n",
            "    accuracy                           0.74       200\n",
            "   macro avg       0.69      0.69      0.69       200\n",
            "weighted avg       0.75      0.74      0.74       200\n",
            "\n",
            "\n",
            "Accuracy sur dataset de test: 0.745\n",
            "****************************************************************\n",
            "Train Set\n",
            "Matrice de confusion:\n",
            " [[100   0 106]\n",
            " [  0 362   1]\n",
            " [ 60   0 167]]\n",
            "\n",
            "Rapport de Classfication:\n",
            "               precision    recall  f1-score   support\n",
            "\n",
            "           0       0.62      0.49      0.55       206\n",
            "           1       1.00      1.00      1.00       363\n",
            "           2       0.61      0.74      0.67       227\n",
            "\n",
            "    accuracy                           0.79       796\n",
            "   macro avg       0.74      0.74      0.74       796\n",
            "weighted avg       0.79      0.79      0.79       796\n",
            "\n",
            "\n",
            "Accuracy sur dataset de test: 0.7902010050251256\n"
          ]
        }
      ],
      "source": [
        "test_results(sv_model_word2vec, X_train, X_test, y_train, y_test)"
      ]
    },
    {
      "cell_type": "code",
      "execution_count": null,
      "metadata": {
        "id": "5nxRdE8A8F0Q"
      },
      "outputs": [],
      "source": [
        "best_svm_word2vec = best_model(X_train, y_train)"
      ]
    },
    {
      "cell_type": "code",
      "execution_count": null,
      "metadata": {
        "colab": {
          "base_uri": "https://localhost:8080/"
        },
        "id": "ddRORLDYjHhd",
        "outputId": "a18fdb2d-de5f-4d05-d287-8f9acde5484c"
      },
      "outputs": [
        {
          "data": {
            "text/plain": [
              "{'C': 21,\n",
              " 'break_ties': False,\n",
              " 'cache_size': 200,\n",
              " 'class_weight': None,\n",
              " 'coef0': 0.0,\n",
              " 'decision_function_shape': 'ovr',\n",
              " 'degree': 3,\n",
              " 'gamma': 'scale',\n",
              " 'kernel': 'rbf',\n",
              " 'max_iter': -1,\n",
              " 'probability': False,\n",
              " 'random_state': None,\n",
              " 'shrinking': True,\n",
              " 'tol': 0.001,\n",
              " 'verbose': False}"
            ]
          },
          "execution_count": 74,
          "metadata": {},
          "output_type": "execute_result"
        }
      ],
      "source": [
        "best_svm_word2vec.get_params()"
      ]
    },
    {
      "cell_type": "code",
      "execution_count": null,
      "metadata": {
        "colab": {
          "base_uri": "https://localhost:8080/"
        },
        "id": "ndC0Sydt8X9H",
        "outputId": "580ba51e-5d5a-490a-c0a0-8bc0ad0314be"
      },
      "outputs": [
        {
          "name": "stdout",
          "output_type": "stream",
          "text": [
            "Test Set\n",
            "Matrice de confusion:\n",
            " [[30  0 25]\n",
            " [ 0 89  0]\n",
            " [19  0 37]]\n",
            "\n",
            "Rapport de Classfication:\n",
            "               precision    recall  f1-score   support\n",
            "\n",
            "           0       0.61      0.55      0.58        55\n",
            "           1       1.00      1.00      1.00        89\n",
            "           2       0.60      0.66      0.63        56\n",
            "\n",
            "    accuracy                           0.78       200\n",
            "   macro avg       0.74      0.74      0.73       200\n",
            "weighted avg       0.78      0.78      0.78       200\n",
            "\n",
            "\n",
            "Accuracy sur dataset de test: 0.78\n",
            "****************************************************************\n",
            "Train Set\n",
            "Matrice de confusion:\n",
            " [[155   0  51]\n",
            " [  0 363   0]\n",
            " [ 65   0 162]]\n",
            "\n",
            "Rapport de Classfication:\n",
            "               precision    recall  f1-score   support\n",
            "\n",
            "           0       0.70      0.75      0.73       206\n",
            "           1       1.00      1.00      1.00       363\n",
            "           2       0.76      0.71      0.74       227\n",
            "\n",
            "    accuracy                           0.85       796\n",
            "   macro avg       0.82      0.82      0.82       796\n",
            "weighted avg       0.86      0.85      0.85       796\n",
            "\n",
            "\n",
            "Accuracy sur dataset de test: 0.8542713567839196\n"
          ]
        }
      ],
      "source": [
        "test_results(best_svm_word2vec, X_train, X_test, y_train, y_test)"
      ]
    },
    {
      "cell_type": "code",
      "execution_count": null,
      "metadata": {
        "colab": {
          "base_uri": "https://localhost:8080/"
        },
        "id": "Sa0Ng-8X8irK",
        "outputId": "b2bc1259-64f7-48be-8f59-c19b0b7a8513"
      },
      "outputs": [
        {
          "name": "stdout",
          "output_type": "stream",
          "text": [
            "Label de base: [1, 1, 2, 1, 0, 2, 0, 2, 1, 1]\n",
            "Label prédit: [1 1 2 1 2 0 0 2 1 1]\n"
          ]
        }
      ],
      "source": [
        "print(\"Label de base:\",y_test[:10])\n",
        "print(\"Label prédit:\",y_pred[:10])"
      ]
    },
    {
      "cell_type": "markdown",
      "metadata": {
        "id": "RBH3du3TRish"
      },
      "source": [
        "## Document2Vec\n",
        "![texte du lien](https://miro.medium.com/v2/resize:fit:640/format:webp/0*x-gtU4UlO8FAsRvL.)"
      ]
    },
    {
      "cell_type": "code",
      "execution_count": null,
      "metadata": {
        "id": "Z6FRp_yRRsUB"
      },
      "outputs": [],
      "source": [
        "documents = [TaggedDocument(words=token, tags=[str(i)]) for i, token in enumerate(df['token'].tolist())]\n",
        "\n",
        "# Entraînement du modèle Doc2Vec\n",
        "doc2vec_model = Doc2Vec(documents, vector_size=100, window=5, min_count=1, workers=4, epochs=20)  # Réglez le nombre d'époques selon vos besoins\n",
        "\n",
        "# Représentation vectorielle des articles\n",
        "def document_vector(tokens):\n",
        "    return doc2vec_model.infer_vector(tokens)\n",
        "\n",
        "X = df['token'].apply(document_vector).tolist()  # Supprimer l'appel à split()\n",
        "y = df['class_label'].tolist()\n",
        "\n",
        "# Division du jeu de données en entraînement et test\n",
        "X_train, X_test, y_train, y_test = train_test_split(X, y, test_size=0.2, random_state=42)"
      ]
    },
    {
      "cell_type": "code",
      "execution_count": null,
      "metadata": {
        "colab": {
          "base_uri": "https://localhost:8080/",
          "height": 75
        },
        "id": "i7mp4q8mj5Wv",
        "outputId": "b6f704d2-fde8-475a-d9a2-00a423eca38a"
      },
      "outputs": [
        {
          "data": {
            "text/html": [
              "<style>#sk-container-id-7 {color: black;background-color: white;}#sk-container-id-7 pre{padding: 0;}#sk-container-id-7 div.sk-toggleable {background-color: white;}#sk-container-id-7 label.sk-toggleable__label {cursor: pointer;display: block;width: 100%;margin-bottom: 0;padding: 0.3em;box-sizing: border-box;text-align: center;}#sk-container-id-7 label.sk-toggleable__label-arrow:before {content: \"▸\";float: left;margin-right: 0.25em;color: #696969;}#sk-container-id-7 label.sk-toggleable__label-arrow:hover:before {color: black;}#sk-container-id-7 div.sk-estimator:hover label.sk-toggleable__label-arrow:before {color: black;}#sk-container-id-7 div.sk-toggleable__content {max-height: 0;max-width: 0;overflow: hidden;text-align: left;background-color: #f0f8ff;}#sk-container-id-7 div.sk-toggleable__content pre {margin: 0.2em;color: black;border-radius: 0.25em;background-color: #f0f8ff;}#sk-container-id-7 input.sk-toggleable__control:checked~div.sk-toggleable__content {max-height: 200px;max-width: 100%;overflow: auto;}#sk-container-id-7 input.sk-toggleable__control:checked~label.sk-toggleable__label-arrow:before {content: \"▾\";}#sk-container-id-7 div.sk-estimator input.sk-toggleable__control:checked~label.sk-toggleable__label {background-color: #d4ebff;}#sk-container-id-7 div.sk-label input.sk-toggleable__control:checked~label.sk-toggleable__label {background-color: #d4ebff;}#sk-container-id-7 input.sk-hidden--visually {border: 0;clip: rect(1px 1px 1px 1px);clip: rect(1px, 1px, 1px, 1px);height: 1px;margin: -1px;overflow: hidden;padding: 0;position: absolute;width: 1px;}#sk-container-id-7 div.sk-estimator {font-family: monospace;background-color: #f0f8ff;border: 1px dotted black;border-radius: 0.25em;box-sizing: border-box;margin-bottom: 0.5em;}#sk-container-id-7 div.sk-estimator:hover {background-color: #d4ebff;}#sk-container-id-7 div.sk-parallel-item::after {content: \"\";width: 100%;border-bottom: 1px solid gray;flex-grow: 1;}#sk-container-id-7 div.sk-label:hover label.sk-toggleable__label {background-color: #d4ebff;}#sk-container-id-7 div.sk-serial::before {content: \"\";position: absolute;border-left: 1px solid gray;box-sizing: border-box;top: 0;bottom: 0;left: 50%;z-index: 0;}#sk-container-id-7 div.sk-serial {display: flex;flex-direction: column;align-items: center;background-color: white;padding-right: 0.2em;padding-left: 0.2em;position: relative;}#sk-container-id-7 div.sk-item {position: relative;z-index: 1;}#sk-container-id-7 div.sk-parallel {display: flex;align-items: stretch;justify-content: center;background-color: white;position: relative;}#sk-container-id-7 div.sk-item::before, #sk-container-id-7 div.sk-parallel-item::before {content: \"\";position: absolute;border-left: 1px solid gray;box-sizing: border-box;top: 0;bottom: 0;left: 50%;z-index: -1;}#sk-container-id-7 div.sk-parallel-item {display: flex;flex-direction: column;z-index: 1;position: relative;background-color: white;}#sk-container-id-7 div.sk-parallel-item:first-child::after {align-self: flex-end;width: 50%;}#sk-container-id-7 div.sk-parallel-item:last-child::after {align-self: flex-start;width: 50%;}#sk-container-id-7 div.sk-parallel-item:only-child::after {width: 0;}#sk-container-id-7 div.sk-dashed-wrapped {border: 1px dashed gray;margin: 0 0.4em 0.5em 0.4em;box-sizing: border-box;padding-bottom: 0.4em;background-color: white;}#sk-container-id-7 div.sk-label label {font-family: monospace;font-weight: bold;display: inline-block;line-height: 1.2em;}#sk-container-id-7 div.sk-label-container {text-align: center;}#sk-container-id-7 div.sk-container {/* jupyter's `normalize.less` sets `[hidden] { display: none; }` but bootstrap.min.css set `[hidden] { display: none !important; }` so we also need the `!important` here to be able to override the default hidden behavior on the sphinx rendered scikit-learn.org. See: https://github.com/scikit-learn/scikit-learn/issues/21755 */display: inline-block !important;position: relative;}#sk-container-id-7 div.sk-text-repr-fallback {display: none;}</style><div id=\"sk-container-id-7\" class=\"sk-top-container\"><div class=\"sk-text-repr-fallback\"><pre>SVC()</pre><b>In a Jupyter environment, please rerun this cell to show the HTML representation or trust the notebook. <br />On GitHub, the HTML representation is unable to render, please try loading this page with nbviewer.org.</b></div><div class=\"sk-container\" hidden><div class=\"sk-item\"><div class=\"sk-estimator sk-toggleable\"><input class=\"sk-toggleable__control sk-hidden--visually\" id=\"sk-estimator-id-7\" type=\"checkbox\" checked><label for=\"sk-estimator-id-7\" class=\"sk-toggleable__label sk-toggleable__label-arrow\">SVC</label><div class=\"sk-toggleable__content\"><pre>SVC()</pre></div></div></div></div></div>"
            ],
            "text/plain": [
              "SVC()"
            ]
          },
          "execution_count": 68,
          "metadata": {},
          "output_type": "execute_result"
        }
      ],
      "source": [
        "sv_model_doc2vec = SVC()\n",
        "sv_model_doc2vec.fit(X_train, y_train)"
      ]
    },
    {
      "cell_type": "code",
      "execution_count": null,
      "metadata": {
        "colab": {
          "base_uri": "https://localhost:8080/"
        },
        "id": "a3_OCG9WkAKI",
        "outputId": "1879a923-3fc4-423a-85a8-a370b7ce4098"
      },
      "outputs": [
        {
          "name": "stdout",
          "output_type": "stream",
          "text": [
            "Test Set\n",
            "Matrice de confusion:\n",
            " [[23  0 32]\n",
            " [ 0 89  0]\n",
            " [25  0 31]]\n",
            "\n",
            "Rapport de Classfication:\n",
            "               precision    recall  f1-score   support\n",
            "\n",
            "           0       0.48      0.42      0.45        55\n",
            "           1       1.00      1.00      1.00        89\n",
            "           2       0.49      0.55      0.52        56\n",
            "\n",
            "    accuracy                           0.71       200\n",
            "   macro avg       0.66      0.66      0.66       200\n",
            "weighted avg       0.71      0.71      0.71       200\n",
            "\n",
            "\n",
            "Accuracy sur dataset de test: 0.715\n",
            "****************************************************************\n",
            "Train Set\n",
            "Matrice de confusion:\n",
            " [[183   2  21]\n",
            " [  0 363   0]\n",
            " [ 21   1 205]]\n",
            "\n",
            "Rapport de Classfication:\n",
            "               precision    recall  f1-score   support\n",
            "\n",
            "           0       0.90      0.89      0.89       206\n",
            "           1       0.99      1.00      1.00       363\n",
            "           2       0.91      0.90      0.91       227\n",
            "\n",
            "    accuracy                           0.94       796\n",
            "   macro avg       0.93      0.93      0.93       796\n",
            "weighted avg       0.94      0.94      0.94       796\n",
            "\n",
            "\n",
            "Accuracy sur dataset de test: 0.9434673366834171\n"
          ]
        }
      ],
      "source": [
        "test_results(sv_model_doc2vec, X_train, X_test, y_train, y_test)"
      ]
    },
    {
      "cell_type": "code",
      "execution_count": null,
      "metadata": {
        "id": "uPNmdVZRkEyA"
      },
      "outputs": [],
      "source": [
        "best_svm_doc2vec = best_model(X_train, y_train)"
      ]
    },
    {
      "cell_type": "code",
      "execution_count": null,
      "metadata": {
        "colab": {
          "base_uri": "https://localhost:8080/",
          "height": 75
        },
        "id": "GYe8DRVAkNYo",
        "outputId": "f84dc25d-e68a-4382-8cf1-aba7a3832d6b"
      },
      "outputs": [
        {
          "data": {
            "text/html": [
              "<style>#sk-container-id-8 {color: black;background-color: white;}#sk-container-id-8 pre{padding: 0;}#sk-container-id-8 div.sk-toggleable {background-color: white;}#sk-container-id-8 label.sk-toggleable__label {cursor: pointer;display: block;width: 100%;margin-bottom: 0;padding: 0.3em;box-sizing: border-box;text-align: center;}#sk-container-id-8 label.sk-toggleable__label-arrow:before {content: \"▸\";float: left;margin-right: 0.25em;color: #696969;}#sk-container-id-8 label.sk-toggleable__label-arrow:hover:before {color: black;}#sk-container-id-8 div.sk-estimator:hover label.sk-toggleable__label-arrow:before {color: black;}#sk-container-id-8 div.sk-toggleable__content {max-height: 0;max-width: 0;overflow: hidden;text-align: left;background-color: #f0f8ff;}#sk-container-id-8 div.sk-toggleable__content pre {margin: 0.2em;color: black;border-radius: 0.25em;background-color: #f0f8ff;}#sk-container-id-8 input.sk-toggleable__control:checked~div.sk-toggleable__content {max-height: 200px;max-width: 100%;overflow: auto;}#sk-container-id-8 input.sk-toggleable__control:checked~label.sk-toggleable__label-arrow:before {content: \"▾\";}#sk-container-id-8 div.sk-estimator input.sk-toggleable__control:checked~label.sk-toggleable__label {background-color: #d4ebff;}#sk-container-id-8 div.sk-label input.sk-toggleable__control:checked~label.sk-toggleable__label {background-color: #d4ebff;}#sk-container-id-8 input.sk-hidden--visually {border: 0;clip: rect(1px 1px 1px 1px);clip: rect(1px, 1px, 1px, 1px);height: 1px;margin: -1px;overflow: hidden;padding: 0;position: absolute;width: 1px;}#sk-container-id-8 div.sk-estimator {font-family: monospace;background-color: #f0f8ff;border: 1px dotted black;border-radius: 0.25em;box-sizing: border-box;margin-bottom: 0.5em;}#sk-container-id-8 div.sk-estimator:hover {background-color: #d4ebff;}#sk-container-id-8 div.sk-parallel-item::after {content: \"\";width: 100%;border-bottom: 1px solid gray;flex-grow: 1;}#sk-container-id-8 div.sk-label:hover label.sk-toggleable__label {background-color: #d4ebff;}#sk-container-id-8 div.sk-serial::before {content: \"\";position: absolute;border-left: 1px solid gray;box-sizing: border-box;top: 0;bottom: 0;left: 50%;z-index: 0;}#sk-container-id-8 div.sk-serial {display: flex;flex-direction: column;align-items: center;background-color: white;padding-right: 0.2em;padding-left: 0.2em;position: relative;}#sk-container-id-8 div.sk-item {position: relative;z-index: 1;}#sk-container-id-8 div.sk-parallel {display: flex;align-items: stretch;justify-content: center;background-color: white;position: relative;}#sk-container-id-8 div.sk-item::before, #sk-container-id-8 div.sk-parallel-item::before {content: \"\";position: absolute;border-left: 1px solid gray;box-sizing: border-box;top: 0;bottom: 0;left: 50%;z-index: -1;}#sk-container-id-8 div.sk-parallel-item {display: flex;flex-direction: column;z-index: 1;position: relative;background-color: white;}#sk-container-id-8 div.sk-parallel-item:first-child::after {align-self: flex-end;width: 50%;}#sk-container-id-8 div.sk-parallel-item:last-child::after {align-self: flex-start;width: 50%;}#sk-container-id-8 div.sk-parallel-item:only-child::after {width: 0;}#sk-container-id-8 div.sk-dashed-wrapped {border: 1px dashed gray;margin: 0 0.4em 0.5em 0.4em;box-sizing: border-box;padding-bottom: 0.4em;background-color: white;}#sk-container-id-8 div.sk-label label {font-family: monospace;font-weight: bold;display: inline-block;line-height: 1.2em;}#sk-container-id-8 div.sk-label-container {text-align: center;}#sk-container-id-8 div.sk-container {/* jupyter's `normalize.less` sets `[hidden] { display: none; }` but bootstrap.min.css set `[hidden] { display: none !important; }` so we also need the `!important` here to be able to override the default hidden behavior on the sphinx rendered scikit-learn.org. See: https://github.com/scikit-learn/scikit-learn/issues/21755 */display: inline-block !important;position: relative;}#sk-container-id-8 div.sk-text-repr-fallback {display: none;}</style><div id=\"sk-container-id-8\" class=\"sk-top-container\"><div class=\"sk-text-repr-fallback\"><pre>SVC(C=37)</pre><b>In a Jupyter environment, please rerun this cell to show the HTML representation or trust the notebook. <br />On GitHub, the HTML representation is unable to render, please try loading this page with nbviewer.org.</b></div><div class=\"sk-container\" hidden><div class=\"sk-item\"><div class=\"sk-estimator sk-toggleable\"><input class=\"sk-toggleable__control sk-hidden--visually\" id=\"sk-estimator-id-8\" type=\"checkbox\" checked><label for=\"sk-estimator-id-8\" class=\"sk-toggleable__label sk-toggleable__label-arrow\">SVC</label><div class=\"sk-toggleable__content\"><pre>SVC(C=37)</pre></div></div></div></div></div>"
            ],
            "text/plain": [
              "SVC(C=37)"
            ]
          },
          "execution_count": 71,
          "metadata": {},
          "output_type": "execute_result"
        }
      ],
      "source": [
        "best_svm_doc2vec"
      ]
    },
    {
      "cell_type": "code",
      "execution_count": null,
      "metadata": {
        "colab": {
          "base_uri": "https://localhost:8080/"
        },
        "id": "PhlALuQykNpt",
        "outputId": "ea459793-962e-459a-9638-1403ddf1f158"
      },
      "outputs": [
        {
          "name": "stdout",
          "output_type": "stream",
          "text": [
            "Test Set\n",
            "Matrice de confusion:\n",
            " [[25  0 30]\n",
            " [ 0 89  0]\n",
            " [21  0 35]]\n",
            "\n",
            "Rapport de Classfication:\n",
            "               precision    recall  f1-score   support\n",
            "\n",
            "           0       0.54      0.45      0.50        55\n",
            "           1       1.00      1.00      1.00        89\n",
            "           2       0.54      0.62      0.58        56\n",
            "\n",
            "    accuracy                           0.74       200\n",
            "   macro avg       0.69      0.69      0.69       200\n",
            "weighted avg       0.75      0.74      0.74       200\n",
            "\n",
            "\n",
            "Accuracy sur dataset de test: 0.745\n",
            "****************************************************************\n",
            "Train Set\n",
            "Matrice de confusion:\n",
            " [[205   0   1]\n",
            " [  0 363   0]\n",
            " [  6   0 221]]\n",
            "\n",
            "Rapport de Classfication:\n",
            "               precision    recall  f1-score   support\n",
            "\n",
            "           0       0.97      1.00      0.98       206\n",
            "           1       1.00      1.00      1.00       363\n",
            "           2       1.00      0.97      0.98       227\n",
            "\n",
            "    accuracy                           0.99       796\n",
            "   macro avg       0.99      0.99      0.99       796\n",
            "weighted avg       0.99      0.99      0.99       796\n",
            "\n",
            "\n",
            "Accuracy sur dataset de test: 0.9912060301507538\n"
          ]
        }
      ],
      "source": [
        "test_results(best_svm_doc2vec, X_train, X_test, y_train, y_test)"
      ]
    },
    {
      "cell_type": "code",
      "execution_count": null,
      "metadata": {
        "colab": {
          "base_uri": "https://localhost:8080/"
        },
        "id": "j8sVu8PTkRzs",
        "outputId": "4f9d4d9b-ee0b-4be7-f4ea-1c58016d35e2"
      },
      "outputs": [
        {
          "name": "stdout",
          "output_type": "stream",
          "text": [
            "Label de base: [1, 1, 2, 1, 0, 2, 0, 2, 1, 1]\n",
            "Label prédit: [1 1 2 1 2 0 0 2 1 1]\n"
          ]
        }
      ],
      "source": [
        "print(\"Label de base:\",y_test[:10])\n",
        "print(\"Label prédit:\",y_pred[:10])"
      ]
    },
    {
      "cell_type": "markdown",
      "metadata": {
        "id": "ATy5lPdtmGKO"
      },
      "source": [
        "After testing different Word Embedding techniques and selecting the best SVM parameter for each, we find that the best estimator is in the case of a Word2Vec with an SVM of parameter C = 21 and kernel = Radial Basis Function. \\\\\n",
        "With these parameters, we obtain an accuracy of 78% on the test set."
      ]
    }
  ],
  "metadata": {
    "colab": {
      "provenance": []
    },
    "kernelspec": {
      "display_name": "Python 3",
      "name": "python3"
    },
    "language_info": {
      "name": "python"
    }
  },
  "nbformat": 4,
  "nbformat_minor": 0
}
